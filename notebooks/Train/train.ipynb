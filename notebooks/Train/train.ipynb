{
 "cells": [
  {
   "cell_type": "code",
   "execution_count": 49,
   "metadata": {},
   "outputs": [],
   "source": [
    "from waterlevels_oker import utils\n",
    "from waterlevels_oker.data import get_okertal_training_data, get_schladen_training_data, get_ohrum_training_data, get_bridge_training_data, get_eisenbuettel_training_data, get_wendenwehr_training_data\n",
    "import pandas as pd\n",
    "import seaborn as sns\n",
    "import pandas as pd\n",
    "from sklearn.model_selection import train_test_split\n",
    "from sklearn.preprocessing import StandardScaler\n",
    "from sklearn.ensemble import RandomForestRegressor\n",
    "from sklearn.metrics import mean_squared_error\n",
    "import matplotlib.pyplot as plt\n",
    "import numpy as np\n",
    "\n",
    "%config InlineBackend.figure_format = \"retina\""
   ]
  },
  {
   "cell_type": "code",
   "execution_count": 177,
   "metadata": {},
   "outputs": [],
   "source": [
    "import pandas as pd\n",
    "import requests\n",
    "import numpy as np\n",
    "from datetime import datetime\n",
    "from datetime import timedelta\n",
    "from waterlevels_oker import utils\n",
    "from waterlevels_oker.config import *\n",
    "\n",
    "\n",
    "def get_raw_weather_data(city: str) -> pd.DataFrame:\n",
    "\t\"\"\"\n",
    "\tGets weather data from https://brightsky.dev/docs/#/operations/getWeather starting 2010-01-01 until 2024-07-31.\n",
    "\n",
    "\tParameters\n",
    "\t----------\n",
    "\tcity : str\n",
    "\t\tCity from\n",
    "\t\t[\"okertal\",\n",
    "\t\t\"schladen\",\n",
    "\t\t\"ohrum\",\n",
    "\t\t\"schaeferbruecke\",\n",
    "\t\t\"eisenbuetteler_wehr\",\n",
    "\t\t\"wendenwehr\"]\n",
    "\n",
    "\tReturns\n",
    "\t-------\n",
    "\tpd.Dataframe\n",
    "\t\tRaw weather data\n",
    "\t\"\"\"\n",
    "\tcities = {\n",
    "\t\t\"okertal\": [51.85, 10.45],\n",
    "\t\t\"schladen\": [52.019, 10.54],\n",
    "\t\t\"ohrum\": [52.11, 10.56],\n",
    "\t\t\"schaeferbruecke\": [52.17, 10.51],\n",
    "\t\t\"eisenbuetteler_wehr\": [52.24, 10.52],\n",
    "\t\t\"wendenwehr\": [52.27, 10.52],\n",
    "\t}\n",
    "\n",
    "\tweather_raw = pd.DataFrame()\n",
    "\tfor year in range(2012, 2025):\n",
    "\t\tparams = {\n",
    "\t\t\t\"date\": \"{}-01-01\".format(year),\n",
    "\t\t\t\"last_date\": \"{}-07-31\".format(year + 1),\n",
    "\t\t\t\"lat\": cities[city][0],\n",
    "\t\t\t\"lon\": cities[city][1],\n",
    "\t\t}\n",
    "\n",
    "\t\turl = \"https://api.brightsky.dev/weather\"\n",
    "\t\tresponse = requests.get(url, params=params)\n",
    "\t\tweather = pd.DataFrame(response.json()[\"weather\"])\n",
    "\t\tweather_raw = pd.concat([weather_raw, weather])\n",
    "\n",
    "\treturn weather_raw\n",
    "\n",
    "\n",
    "def get_forecast(city: str) -> pd.DataFrame:\n",
    "\t\"\"\"\n",
    "\tGet weather forecaste from start to end date for the city specified.\n",
    "\n",
    "\tcity : str\n",
    "\t\tCity from\n",
    "\t\t[\"okertal\",\n",
    "\t\t\"schladen\",\n",
    "\t\t\"ohrum\",\n",
    "\t\t\"schaeferbruecke\",\n",
    "\t\t\"eisenbuetteler_wehr\",\n",
    "\t\t\"wendenwehr\"]\n",
    "\n",
    "\tReturns\n",
    "\t-------\n",
    "\tpd.DataFrame\n",
    "\t\tDataframe containing the weather forecast\n",
    "\t\"\"\"\n",
    "\n",
    "\tcities = {\n",
    "\t\t\"okertal\": [51.85, 10.45],\n",
    "\t\t\"schladen\": [52.019, 10.54],\n",
    "\t\t\"ohrum\": [52.11, 10.56],\n",
    "\t\t\"schaeferbruecke\": [52.17, 10.51],\n",
    "\t\t\"eisenbuetteler_wehr\": [52.24, 10.52],\n",
    "\t\t\"wendenwehr\": [52.27, 10.52],\n",
    "\t}\n",
    "\n",
    "\tstart_date = datetime(2023, 12, 21)\n",
    "\tend_date = start_date + timedelta(days=9)\n",
    "\n",
    "\tparams = {\n",
    "\t\t\"date\": start_date.isoformat(),\n",
    "\t\t\"last_date\": end_date.isoformat(),\n",
    "\t\t\"lat\": cities[city][0],\n",
    "\t\t\"lon\": cities[city][1],\n",
    "\t}\n",
    "\n",
    "\turl = \"https://api.brightsky.dev/weather\"\n",
    "\tresponse = requests.get(url, params=params)\n",
    "\n",
    "\tforecast = pd.DataFrame(response.json()[\"weather\"])\n",
    "\n",
    "\tpreprocessed = preprocess_weather_data(forecast)\n",
    "\n",
    "\treturn preprocessed\n",
    "\n",
    "\n",
    "def preprocess_weather_data(raw_data) -> pd.DataFrame:\n",
    "\t\"\"\"\n",
    "\tPreprocesses raw weather data.\n",
    "\n",
    "\tParameters\n",
    "\t----------\n",
    "\traw_data\n",
    "\n",
    "\tReturns\n",
    "\t-------\n",
    "\tpd.DataFrame\n",
    "\t\tProcessed weather data\n",
    "\t\"\"\"\n",
    "\n",
    "\traw_data = raw_data.assign(\n",
    "\t\ttimestamp=pd.to_datetime(raw_data[\"timestamp\"])\n",
    "\t).set_index(\"timestamp\")\n",
    "\n",
    "\t# Drop timezone from datetime index\n",
    "\traw_data.index = raw_data.index.tz_localize(None)\n",
    "\n",
    "\tdrop_cols = [\n",
    "\t\t\"source_id\",\n",
    "\t\t\"condition\",\n",
    "\t\t\"precipitation_probability\",\n",
    "\t\t\"precipitation_probability_6h\",\n",
    "\t\t# \"fallback_source_ids\",\n",
    "\t\t\"icon\",\n",
    "\t]\n",
    "\traw_data = raw_data.drop(columns=drop_cols)\n",
    "\tif \"fallback_source_ids\" in raw_data.columns:\n",
    "\t\traw_data = raw_data.drop(columns=\"fallback_source_ids\")\n",
    "\n",
    "\t# Impute missing sunshine values during nighttime with 0\n",
    "\tnight_missing_sunshine = raw_data.loc[\n",
    "\t\traw_data[\"sunshine\"].isna() & raw_data.index.hour.isin([21, 22, 23, 0, 1, 2])\n",
    "\t].index\n",
    "\traw_data.loc[night_missing_sunshine, \"sunshine\"] = 0\n",
    "\n",
    "\traw_data = raw_data.bfill()\n",
    "\n",
    "\tdaily_weather_data = raw_data.groupby(raw_data.index.date).mean()\n",
    "\n",
    "\treturn daily_weather_data\n",
    "\n",
    "\n",
    "def preprocess_okertal_data():\n",
    "\tokertal_data = pd.read_excel(utils.get_raw_path(\"Oker Daten.xlsx\"), index_col=0)\n",
    "\n",
    "\tokertal_data = okertal_data.loc[:, [\"Stauinhalt Okertalsperre [Mio.m³]\"]].rename(\n",
    "\t\tcolumns={\n",
    "\t\t\t\"Stauinhalt Okertalsperre [Mio.m³]\": \"fill_[mio.m³]\",\n",
    "\t\t}\n",
    "\t)\n",
    "\n",
    "\treturn okertal_data\n",
    "\n",
    "\n",
    "def get_okertal_training_data():\n",
    "\tweather = get_raw_weather_data(\"okertal\")\n",
    "\n",
    "\tprocessed_weather = preprocess_weather_data(weather)\n",
    "\n",
    "\tokertal_data = preprocess_okertal_data()\n",
    "\n",
    "\tfull_data = processed_weather.join(okertal_data, how=\"inner\").reset_index(\n",
    "\t\tnames=[\"timestamp\"]\n",
    "\t)\n",
    "\treturn full_data\n",
    "\n",
    "\n",
    "def get_schladen_training_data():\n",
    "\tweather = get_raw_weather_data(\"schladen\")\n",
    "\n",
    "\tprocessed_weather = preprocess_weather_data(weather)\n",
    "\n",
    "\tokertal_data = preprocess_okertal_data()\n",
    "\tschladen_data = preprocess_brunswick_data().loc[:, \"schladen\"]\n",
    "\n",
    "\tfull_data = (\n",
    "\t\tprocessed_weather.join(okertal_data, how=\"inner\")\n",
    "\t\t.join(schladen_data, how=\"inner\")\n",
    "\t\t.reset_index(names=[\"timestamp\"])\n",
    "\t)\n",
    "\treturn full_data\n",
    "\n",
    "\n",
    "def get_ohrum_training_data():\n",
    "\tweather = get_raw_weather_data(\"ohrum\")\n",
    "\n",
    "\tprocessed_weather = preprocess_weather_data(weather)\n",
    "\n",
    "\tschladen_data = preprocess_brunswick_data().loc[:, \"schladen\"]\n",
    "\tohrum_data = preprocess_brunswick_data().loc[:, \"ohrum_level\"]\n",
    "\n",
    "\tfull_data = (\n",
    "\t\tprocessed_weather.join(ohrum_data, how=\"inner\")\n",
    "\t\t.join(schladen_data, how=\"inner\")\n",
    "\t\t.reset_index(names=[\"timestamp\"])\n",
    "\t)\n",
    "\treturn full_data\n",
    "\n",
    "\n",
    "def get_bridge_training_data():\n",
    "\tweather = get_raw_weather_data(\"schaeferbruecke\")\n",
    "\n",
    "\tprocessed_weather = preprocess_weather_data(weather)\n",
    "\n",
    "\tohrum_data = preprocess_brunswick_data().loc[:, \"ohrum_level\"]\n",
    "\tbridge_data = preprocess_brunswick_data().loc[:, \"schaeferbridge\"]\n",
    "\n",
    "\tfull_data = (\n",
    "\t\tprocessed_weather.join(ohrum_data, how=\"inner\")\n",
    "\t\t.join(bridge_data, how=\"inner\")\n",
    "\t\t.reset_index(names=[\"timestamp\"])\n",
    "\t)\n",
    "\treturn full_data\n",
    "\n",
    "\n",
    "def get_eisenbuettel_training_data():\n",
    "\tweather = get_raw_weather_data(\"eisenbuetteler_wehr\")\n",
    "\n",
    "\tprocessed_weather = preprocess_weather_data(weather)\n",
    "\n",
    "\tbridge_data = preprocess_brunswick_data().loc[:, \"schaeferbridge\"]\n",
    "\teisenbütteler_wehr_data = preprocess_brunswick_data().loc[:, \"eisenbuetteler_wehr\"]\n",
    "\n",
    "\tfull_data = (\n",
    "\t\tprocessed_weather.join(bridge_data, how=\"inner\")\n",
    "\t\t.join(eisenbütteler_wehr_data, how=\"inner\")\n",
    "\t\t.reset_index(names=[\"timestamp\"])\n",
    "\t)\n",
    "\treturn full_data\n",
    "\n",
    "\n",
    "def get_wendenwehr_training_data():\n",
    "\tweather = get_raw_weather_data(\"wendenwehr\")\n",
    "\n",
    "\tprocessed_weather = preprocess_weather_data(weather)\n",
    "\teisenbütteler_wehr_data = preprocess_brunswick_data().loc[:, \"eisenbuetteler_wehr\"]\n",
    "\twendenwehr_data = preprocess_brunswick_data().loc[:, \"wendenwehr\"]\n",
    "\n",
    "\tfull_data = (\n",
    "\t\tprocessed_weather.join(eisenbütteler_wehr_data, how=\"inner\")\n",
    "\t\t.join(wendenwehr_data, how=\"inner\")\n",
    "\t\t.reset_index(names=[\"timestamp\"])\n",
    "\t)\n",
    "\treturn full_data\n",
    "\n",
    "\n",
    "def get_okertal_forecast_data():\n",
    "\tweather = get_forecast(\"okertal\")\n",
    "\n",
    "\tprocessed_weather = preprocess_weather_data(weather)\n",
    "\n",
    "\treturn processed_weather\n",
    "\n",
    "\n",
    "def preprocess_brunswick_data() -> pd.DataFrame:\n",
    " \tmeasurements_2019 = pd.read_excel(\n",
    " \t\tutils.get_raw_path(\"Übersicht Pegelwerte 2019-2023.xlsx\"),\n",
    " \t\tsheet_name=\"2019\",\n",
    " \t\theader=[0, 1],\n",
    " \t)\n",
    "\n",
    " \tmeasurements_2019.columns = measurements_2019.columns.to_flat_index()\n",
    " \tmeasurements_2019 = measurements_2019.rename(\n",
    " \t\tcolumns={(\"Datum\", \"Unnamed: 1_level_1\"): \"timestamp\"}\n",
    " \t)\n",
    "\n",
    " \tmeasurements_2020 = pd.read_excel(\n",
    " \t\tutils.get_raw_path(\"Übersicht Pegelwerte 2019-2023.xlsx\"),\n",
    " \t\tsheet_name=\"2020\",\n",
    " \t\theader=[0, 1],\n",
    " \t)\n",
    "\n",
    " \tmeasurements_2020.columns = measurements_2020.columns.to_flat_index()\n",
    " \tmeasurements_2020 = measurements_2020.rename(\n",
    " \t\tcolumns={(\"2020\", \"Unnamed: 1_level_1\"): \"timestamp\"}\n",
    " \t)\n",
    "\n",
    " \tmeasurements_2021 = pd.read_excel(\n",
    " \t\tutils.get_raw_path(\"Übersicht Pegelwerte 2019-2023.xlsx\"),\n",
    " \t\tsheet_name=\"2021\",\n",
    " \t\theader=[1, 2],\n",
    " \t)\n",
    "\n",
    " \tmeasurements_2021.columns = measurements_2021.columns.to_flat_index()\n",
    " \tmeasurements_2021 = measurements_2021.rename(\n",
    " \t\tcolumns={(\"2021\", \"Unnamed: 1_level_1\"): \"timestamp\"}\n",
    " \t)\n",
    "\n",
    " \tmeasurements_2022 = pd.read_excel(\n",
    " \t\tutils.get_raw_path(\"Übersicht Pegelwerte 2019-2023.xlsx\"),\n",
    " \t\tsheet_name=\"2022\",\n",
    " \t\theader=[0, 1],\n",
    " \t)\n",
    "\n",
    " \tmeasurements_2022.columns = measurements_2022.columns.to_flat_index()\n",
    " \tmeasurements_2022 = measurements_2022.rename(\n",
    " \t\tcolumns={(2022, \"Uhrzeit.2\"): \"timestamp\"}\n",
    " \t)\n",
    "\n",
    " \tmeasurements_2023 = pd.read_excel(\n",
    " \t\tutils.get_raw_path(\"Übersicht Pegelwerte 2019-2023.xlsx\"),\n",
    " \t\tsheet_name=\"2023\",\n",
    " \t\theader=[0, 1],\n",
    " \t)\n",
    "\n",
    " \tmeasurements_2023.columns = measurements_2023.columns.to_flat_index()\n",
    " \tmeasurements_2023 = measurements_2023.rename(\n",
    " \t\tcolumns={\n",
    " \t\t\t(2023, \"Uhrzeit.2\"): \"timestamp\",\n",
    " \t\t}\n",
    " \t)\n",
    "\n",
    " \tall_measurements = pd.concat(\n",
    " \t\t[\n",
    " \t\t\tmeasurements_2019,\n",
    " \t\t\tmeasurements_2020,\n",
    " \t\t\tmeasurements_2021,\n",
    " \t\t\tmeasurements_2022,\n",
    " \t\t\tmeasurements_2023,\n",
    " \t\t]\n",
    " \t).set_index(\"timestamp\")\n",
    "\n",
    " \tall_measurements = all_measurements[\n",
    " \t\t[\n",
    " \t\t\t(\"Schladen\", 88.72),\n",
    " \t\t\t(\"Ohrum\", 75.54),\n",
    " \t\t\t(\"sensoweb\", \"Schäferbr.\"),\n",
    " \t\t\t(\"Eisenbütteler Wehr\", \"OW\"),\n",
    " \t\t\t(\"Petriwehr\", \"OW\"),\n",
    " \t\t\t(\"Wendenwehr\", \"OW\"),\n",
    " \t\t]\n",
    " \t]\n",
    "\n",
    " \tall_measurements = all_measurements.rename(\n",
    " \t\tcolumns={\n",
    " \t\t\t(\"Schladen\", 88.72): \"schladen\",\n",
    " \t\t\t(\"Ohrum\", 75.54): \"ohrum_level\",\n",
    " \t\t\t(\"sensoweb\", \"Schäferbr.\"): \"schaeferbridge\",\n",
    " \t\t\t(\"Eisenbütteler Wehr\", \"OW\"): \"eisenbuetteler_wehr\",\n",
    " \t\t\t(\"Petriwehr\", \"OW\"): \"petriwehr\",\n",
    " \t\t\t(\"Wendenwehr\", \"OW\"): \"wendenwehr\",\n",
    " \t\t}\n",
    " \t)\n",
    "\n",
    " \tall_measurements = all_measurements.replace(\"-\", np.nan).bfill()\n",
    "\n",
    " \treturn all_measurements"
   ]
  },
  {
   "cell_type": "code",
   "execution_count": 51,
   "metadata": {},
   "outputs": [
    {
     "name": "stderr",
     "output_type": "stream",
     "text": [
      "/var/folders/9q/rv1kd_ws7x7_tybjxx3921bm0000gn/T/ipykernel_38749/2847495355.py:50: FutureWarning: The behavior of DataFrame concatenation with empty or all-NA entries is deprecated. In a future version, this will no longer exclude empty or all-NA columns when determining the result dtypes. To retain the old behavior, exclude the relevant entries before the concat operation.\n",
      "  weather_raw = pd.concat([weather_raw, weather])\n",
      "/var/folders/9q/rv1kd_ws7x7_tybjxx3921bm0000gn/T/ipykernel_38749/2847495355.py:50: FutureWarning: The behavior of DataFrame concatenation with empty or all-NA entries is deprecated. In a future version, this will no longer exclude empty or all-NA columns when determining the result dtypes. To retain the old behavior, exclude the relevant entries before the concat operation.\n",
      "  weather_raw = pd.concat([weather_raw, weather])\n",
      "/var/folders/9q/rv1kd_ws7x7_tybjxx3921bm0000gn/T/ipykernel_38749/2847495355.py:344: FutureWarning: Downcasting behavior in `replace` is deprecated and will be removed in a future version. To retain the old behavior, explicitly call `result.infer_objects(copy=False)`. To opt-in to the future behavior, set `pd.set_option('future.no_silent_downcasting', True)`\n",
      "  all_measurements = all_measurements.replace(\"-\", np.nan).bfill()\n",
      "/var/folders/9q/rv1kd_ws7x7_tybjxx3921bm0000gn/T/ipykernel_38749/2847495355.py:50: FutureWarning: The behavior of DataFrame concatenation with empty or all-NA entries is deprecated. In a future version, this will no longer exclude empty or all-NA columns when determining the result dtypes. To retain the old behavior, exclude the relevant entries before the concat operation.\n",
      "  weather_raw = pd.concat([weather_raw, weather])\n",
      "/var/folders/9q/rv1kd_ws7x7_tybjxx3921bm0000gn/T/ipykernel_38749/2847495355.py:344: FutureWarning: Downcasting behavior in `replace` is deprecated and will be removed in a future version. To retain the old behavior, explicitly call `result.infer_objects(copy=False)`. To opt-in to the future behavior, set `pd.set_option('future.no_silent_downcasting', True)`\n",
      "  all_measurements = all_measurements.replace(\"-\", np.nan).bfill()\n",
      "/var/folders/9q/rv1kd_ws7x7_tybjxx3921bm0000gn/T/ipykernel_38749/2847495355.py:344: FutureWarning: Downcasting behavior in `replace` is deprecated and will be removed in a future version. To retain the old behavior, explicitly call `result.infer_objects(copy=False)`. To opt-in to the future behavior, set `pd.set_option('future.no_silent_downcasting', True)`\n",
      "  all_measurements = all_measurements.replace(\"-\", np.nan).bfill()\n",
      "/var/folders/9q/rv1kd_ws7x7_tybjxx3921bm0000gn/T/ipykernel_38749/2847495355.py:50: FutureWarning: The behavior of DataFrame concatenation with empty or all-NA entries is deprecated. In a future version, this will no longer exclude empty or all-NA columns when determining the result dtypes. To retain the old behavior, exclude the relevant entries before the concat operation.\n",
      "  weather_raw = pd.concat([weather_raw, weather])\n",
      "/var/folders/9q/rv1kd_ws7x7_tybjxx3921bm0000gn/T/ipykernel_38749/2847495355.py:344: FutureWarning: Downcasting behavior in `replace` is deprecated and will be removed in a future version. To retain the old behavior, explicitly call `result.infer_objects(copy=False)`. To opt-in to the future behavior, set `pd.set_option('future.no_silent_downcasting', True)`\n",
      "  all_measurements = all_measurements.replace(\"-\", np.nan).bfill()\n",
      "/var/folders/9q/rv1kd_ws7x7_tybjxx3921bm0000gn/T/ipykernel_38749/2847495355.py:344: FutureWarning: Downcasting behavior in `replace` is deprecated and will be removed in a future version. To retain the old behavior, explicitly call `result.infer_objects(copy=False)`. To opt-in to the future behavior, set `pd.set_option('future.no_silent_downcasting', True)`\n",
      "  all_measurements = all_measurements.replace(\"-\", np.nan).bfill()\n",
      "/var/folders/9q/rv1kd_ws7x7_tybjxx3921bm0000gn/T/ipykernel_38749/2847495355.py:50: FutureWarning: The behavior of DataFrame concatenation with empty or all-NA entries is deprecated. In a future version, this will no longer exclude empty or all-NA columns when determining the result dtypes. To retain the old behavior, exclude the relevant entries before the concat operation.\n",
      "  weather_raw = pd.concat([weather_raw, weather])\n",
      "/var/folders/9q/rv1kd_ws7x7_tybjxx3921bm0000gn/T/ipykernel_38749/2847495355.py:344: FutureWarning: Downcasting behavior in `replace` is deprecated and will be removed in a future version. To retain the old behavior, explicitly call `result.infer_objects(copy=False)`. To opt-in to the future behavior, set `pd.set_option('future.no_silent_downcasting', True)`\n",
      "  all_measurements = all_measurements.replace(\"-\", np.nan).bfill()\n",
      "/var/folders/9q/rv1kd_ws7x7_tybjxx3921bm0000gn/T/ipykernel_38749/2847495355.py:344: FutureWarning: Downcasting behavior in `replace` is deprecated and will be removed in a future version. To retain the old behavior, explicitly call `result.infer_objects(copy=False)`. To opt-in to the future behavior, set `pd.set_option('future.no_silent_downcasting', True)`\n",
      "  all_measurements = all_measurements.replace(\"-\", np.nan).bfill()\n",
      "/var/folders/9q/rv1kd_ws7x7_tybjxx3921bm0000gn/T/ipykernel_38749/2847495355.py:50: FutureWarning: The behavior of DataFrame concatenation with empty or all-NA entries is deprecated. In a future version, this will no longer exclude empty or all-NA columns when determining the result dtypes. To retain the old behavior, exclude the relevant entries before the concat operation.\n",
      "  weather_raw = pd.concat([weather_raw, weather])\n",
      "/var/folders/9q/rv1kd_ws7x7_tybjxx3921bm0000gn/T/ipykernel_38749/2847495355.py:344: FutureWarning: Downcasting behavior in `replace` is deprecated and will be removed in a future version. To retain the old behavior, explicitly call `result.infer_objects(copy=False)`. To opt-in to the future behavior, set `pd.set_option('future.no_silent_downcasting', True)`\n",
      "  all_measurements = all_measurements.replace(\"-\", np.nan).bfill()\n",
      "/var/folders/9q/rv1kd_ws7x7_tybjxx3921bm0000gn/T/ipykernel_38749/2847495355.py:344: FutureWarning: Downcasting behavior in `replace` is deprecated and will be removed in a future version. To retain the old behavior, explicitly call `result.infer_objects(copy=False)`. To opt-in to the future behavior, set `pd.set_option('future.no_silent_downcasting', True)`\n",
      "  all_measurements = all_measurements.replace(\"-\", np.nan).bfill()\n"
     ]
    }
   ],
   "source": [
    "df_okertal = get_okertal_training_data()\n",
    "df_schladen = get_schladen_training_data()\n",
    "df_ohrum = get_ohrum_training_data()\n",
    "df_bridge = get_bridge_training_data()\n",
    "df_eisenbuettel = get_eisenbuettel_training_data()\n",
    "df_wendenwehr = get_wendenwehr_training_data()"
   ]
  },
  {
   "cell_type": "code",
   "execution_count": 79,
   "metadata": {},
   "outputs": [
    {
     "data": {
      "text/html": [
       "<div>\n",
       "<style scoped>\n",
       "    .dataframe tbody tr th:only-of-type {\n",
       "        vertical-align: middle;\n",
       "    }\n",
       "\n",
       "    .dataframe tbody tr th {\n",
       "        vertical-align: top;\n",
       "    }\n",
       "\n",
       "    .dataframe thead th {\n",
       "        text-align: right;\n",
       "    }\n",
       "</style>\n",
       "<table border=\"1\" class=\"dataframe\">\n",
       "  <thead>\n",
       "    <tr style=\"text-align: right;\">\n",
       "      <th></th>\n",
       "      <th>timestamp</th>\n",
       "      <th>precipitation</th>\n",
       "      <th>pressure_msl</th>\n",
       "      <th>sunshine</th>\n",
       "      <th>temperature</th>\n",
       "      <th>wind_direction</th>\n",
       "      <th>wind_speed</th>\n",
       "      <th>cloud_cover</th>\n",
       "      <th>dew_point</th>\n",
       "      <th>relative_humidity</th>\n",
       "      <th>visibility</th>\n",
       "      <th>wind_gust_direction</th>\n",
       "      <th>wind_gust_speed</th>\n",
       "      <th>solar</th>\n",
       "      <th>fill_[mio.m³]</th>\n",
       "    </tr>\n",
       "  </thead>\n",
       "  <tbody>\n",
       "    <tr>\n",
       "      <th>0</th>\n",
       "      <td>2012-10-01</td>\n",
       "      <td>0.000000</td>\n",
       "      <td>1017.879167</td>\n",
       "      <td>24.125000</td>\n",
       "      <td>13.570833</td>\n",
       "      <td>253.333333</td>\n",
       "      <td>6.762500</td>\n",
       "      <td>32.541667</td>\n",
       "      <td>5.558333</td>\n",
       "      <td>59.708333</td>\n",
       "      <td>20791.666667</td>\n",
       "      <td>250.416667</td>\n",
       "      <td>13.416667</td>\n",
       "      <td>0.154250</td>\n",
       "      <td>13.448</td>\n",
       "    </tr>\n",
       "    <tr>\n",
       "      <th>1</th>\n",
       "      <td>2012-10-02</td>\n",
       "      <td>0.000000</td>\n",
       "      <td>1016.058333</td>\n",
       "      <td>16.291667</td>\n",
       "      <td>15.437500</td>\n",
       "      <td>227.916667</td>\n",
       "      <td>10.433333</td>\n",
       "      <td>79.416667</td>\n",
       "      <td>8.245833</td>\n",
       "      <td>62.291667</td>\n",
       "      <td>26000.000000</td>\n",
       "      <td>228.333333</td>\n",
       "      <td>20.091667</td>\n",
       "      <td>0.135625</td>\n",
       "      <td>13.323</td>\n",
       "    </tr>\n",
       "    <tr>\n",
       "      <th>2</th>\n",
       "      <td>2012-10-03</td>\n",
       "      <td>0.012500</td>\n",
       "      <td>1012.350000</td>\n",
       "      <td>4.958333</td>\n",
       "      <td>15.195833</td>\n",
       "      <td>210.416667</td>\n",
       "      <td>16.404167</td>\n",
       "      <td>93.583333</td>\n",
       "      <td>9.437500</td>\n",
       "      <td>68.666667</td>\n",
       "      <td>31500.000000</td>\n",
       "      <td>209.583333</td>\n",
       "      <td>34.133333</td>\n",
       "      <td>0.037042</td>\n",
       "      <td>13.215</td>\n",
       "    </tr>\n",
       "    <tr>\n",
       "      <th>3</th>\n",
       "      <td>2012-10-04</td>\n",
       "      <td>0.554167</td>\n",
       "      <td>1012.075000</td>\n",
       "      <td>0.000000</td>\n",
       "      <td>12.037500</td>\n",
       "      <td>253.333333</td>\n",
       "      <td>14.416667</td>\n",
       "      <td>96.750000</td>\n",
       "      <td>9.041667</td>\n",
       "      <td>82.041667</td>\n",
       "      <td>18666.666667</td>\n",
       "      <td>264.166667</td>\n",
       "      <td>37.883333</td>\n",
       "      <td>0.003750</td>\n",
       "      <td>13.165</td>\n",
       "    </tr>\n",
       "    <tr>\n",
       "      <th>4</th>\n",
       "      <td>2012-10-05</td>\n",
       "      <td>0.133333</td>\n",
       "      <td>1009.641667</td>\n",
       "      <td>0.041667</td>\n",
       "      <td>12.445833</td>\n",
       "      <td>224.583333</td>\n",
       "      <td>18.700000</td>\n",
       "      <td>92.958333</td>\n",
       "      <td>8.879167</td>\n",
       "      <td>78.916667</td>\n",
       "      <td>30041.666667</td>\n",
       "      <td>218.333333</td>\n",
       "      <td>36.083333</td>\n",
       "      <td>0.017833</td>\n",
       "      <td>13.253</td>\n",
       "    </tr>\n",
       "    <tr>\n",
       "      <th>...</th>\n",
       "      <td>...</td>\n",
       "      <td>...</td>\n",
       "      <td>...</td>\n",
       "      <td>...</td>\n",
       "      <td>...</td>\n",
       "      <td>...</td>\n",
       "      <td>...</td>\n",
       "      <td>...</td>\n",
       "      <td>...</td>\n",
       "      <td>...</td>\n",
       "      <td>...</td>\n",
       "      <td>...</td>\n",
       "      <td>...</td>\n",
       "      <td>...</td>\n",
       "      <td>...</td>\n",
       "    </tr>\n",
       "    <tr>\n",
       "      <th>4317</th>\n",
       "      <td>2024-07-27</td>\n",
       "      <td>1.225000</td>\n",
       "      <td>1013.991667</td>\n",
       "      <td>1.229167</td>\n",
       "      <td>19.212500</td>\n",
       "      <td>150.416667</td>\n",
       "      <td>8.685417</td>\n",
       "      <td>92.687500</td>\n",
       "      <td>17.041667</td>\n",
       "      <td>87.791667</td>\n",
       "      <td>17311.875000</td>\n",
       "      <td>163.750000</td>\n",
       "      <td>15.006250</td>\n",
       "      <td>0.132042</td>\n",
       "      <td>29.868</td>\n",
       "    </tr>\n",
       "    <tr>\n",
       "      <th>4318</th>\n",
       "      <td>2024-07-28</td>\n",
       "      <td>0.112500</td>\n",
       "      <td>1022.374167</td>\n",
       "      <td>19.500000</td>\n",
       "      <td>17.933333</td>\n",
       "      <td>278.125000</td>\n",
       "      <td>11.289583</td>\n",
       "      <td>52.625000</td>\n",
       "      <td>13.575000</td>\n",
       "      <td>77.708333</td>\n",
       "      <td>41243.541667</td>\n",
       "      <td>285.000000</td>\n",
       "      <td>22.902083</td>\n",
       "      <td>0.249583</td>\n",
       "      <td>29.968</td>\n",
       "    </tr>\n",
       "    <tr>\n",
       "      <th>4319</th>\n",
       "      <td>2024-07-29</td>\n",
       "      <td>0.000000</td>\n",
       "      <td>1024.551667</td>\n",
       "      <td>34.833333</td>\n",
       "      <td>17.766667</td>\n",
       "      <td>137.083333</td>\n",
       "      <td>3.212500</td>\n",
       "      <td>3.083333</td>\n",
       "      <td>10.491667</td>\n",
       "      <td>66.083333</td>\n",
       "      <td>52706.666667</td>\n",
       "      <td>135.416667</td>\n",
       "      <td>8.187500</td>\n",
       "      <td>0.309667</td>\n",
       "      <td>30.017</td>\n",
       "    </tr>\n",
       "    <tr>\n",
       "      <th>4320</th>\n",
       "      <td>2024-07-30</td>\n",
       "      <td>0.000000</td>\n",
       "      <td>1017.787500</td>\n",
       "      <td>34.166667</td>\n",
       "      <td>21.587500</td>\n",
       "      <td>173.333333</td>\n",
       "      <td>6.700000</td>\n",
       "      <td>18.625000</td>\n",
       "      <td>12.462500</td>\n",
       "      <td>59.166667</td>\n",
       "      <td>62237.916667</td>\n",
       "      <td>186.250000</td>\n",
       "      <td>13.179167</td>\n",
       "      <td>0.290458</td>\n",
       "      <td>30.025</td>\n",
       "    </tr>\n",
       "    <tr>\n",
       "      <th>4321</th>\n",
       "      <td>2024-07-31</td>\n",
       "      <td>0.004000</td>\n",
       "      <td>1014.716000</td>\n",
       "      <td>15.920000</td>\n",
       "      <td>21.328000</td>\n",
       "      <td>185.600000</td>\n",
       "      <td>2.740000</td>\n",
       "      <td>65.360000</td>\n",
       "      <td>15.072000</td>\n",
       "      <td>69.720000</td>\n",
       "      <td>38799.600000</td>\n",
       "      <td>195.600000</td>\n",
       "      <td>6.716000</td>\n",
       "      <td>0.170200</td>\n",
       "      <td>30.019</td>\n",
       "    </tr>\n",
       "  </tbody>\n",
       "</table>\n",
       "<p>4322 rows × 15 columns</p>\n",
       "</div>"
      ],
      "text/plain": [
       "      timestamp  precipitation  pressure_msl   sunshine  temperature  \\\n",
       "0    2012-10-01       0.000000   1017.879167  24.125000    13.570833   \n",
       "1    2012-10-02       0.000000   1016.058333  16.291667    15.437500   \n",
       "2    2012-10-03       0.012500   1012.350000   4.958333    15.195833   \n",
       "3    2012-10-04       0.554167   1012.075000   0.000000    12.037500   \n",
       "4    2012-10-05       0.133333   1009.641667   0.041667    12.445833   \n",
       "...         ...            ...           ...        ...          ...   \n",
       "4317 2024-07-27       1.225000   1013.991667   1.229167    19.212500   \n",
       "4318 2024-07-28       0.112500   1022.374167  19.500000    17.933333   \n",
       "4319 2024-07-29       0.000000   1024.551667  34.833333    17.766667   \n",
       "4320 2024-07-30       0.000000   1017.787500  34.166667    21.587500   \n",
       "4321 2024-07-31       0.004000   1014.716000  15.920000    21.328000   \n",
       "\n",
       "      wind_direction  wind_speed  cloud_cover  dew_point  relative_humidity  \\\n",
       "0         253.333333    6.762500    32.541667   5.558333          59.708333   \n",
       "1         227.916667   10.433333    79.416667   8.245833          62.291667   \n",
       "2         210.416667   16.404167    93.583333   9.437500          68.666667   \n",
       "3         253.333333   14.416667    96.750000   9.041667          82.041667   \n",
       "4         224.583333   18.700000    92.958333   8.879167          78.916667   \n",
       "...              ...         ...          ...        ...                ...   \n",
       "4317      150.416667    8.685417    92.687500  17.041667          87.791667   \n",
       "4318      278.125000   11.289583    52.625000  13.575000          77.708333   \n",
       "4319      137.083333    3.212500     3.083333  10.491667          66.083333   \n",
       "4320      173.333333    6.700000    18.625000  12.462500          59.166667   \n",
       "4321      185.600000    2.740000    65.360000  15.072000          69.720000   \n",
       "\n",
       "        visibility  wind_gust_direction  wind_gust_speed     solar  \\\n",
       "0     20791.666667           250.416667        13.416667  0.154250   \n",
       "1     26000.000000           228.333333        20.091667  0.135625   \n",
       "2     31500.000000           209.583333        34.133333  0.037042   \n",
       "3     18666.666667           264.166667        37.883333  0.003750   \n",
       "4     30041.666667           218.333333        36.083333  0.017833   \n",
       "...            ...                  ...              ...       ...   \n",
       "4317  17311.875000           163.750000        15.006250  0.132042   \n",
       "4318  41243.541667           285.000000        22.902083  0.249583   \n",
       "4319  52706.666667           135.416667         8.187500  0.309667   \n",
       "4320  62237.916667           186.250000        13.179167  0.290458   \n",
       "4321  38799.600000           195.600000         6.716000  0.170200   \n",
       "\n",
       "      fill_[mio.m³]  \n",
       "0            13.448  \n",
       "1            13.323  \n",
       "2            13.215  \n",
       "3            13.165  \n",
       "4            13.253  \n",
       "...             ...  \n",
       "4317         29.868  \n",
       "4318         29.968  \n",
       "4319         30.017  \n",
       "4320         30.025  \n",
       "4321         30.019  \n",
       "\n",
       "[4322 rows x 15 columns]"
      ]
     },
     "execution_count": 79,
     "metadata": {},
     "output_type": "execute_result"
    }
   ],
   "source": [
    "df_okertal"
   ]
  },
  {
   "cell_type": "code",
   "execution_count": 158,
   "metadata": {},
   "outputs": [
    {
     "data": {
      "text/html": [
       "<div>\n",
       "<style scoped>\n",
       "    .dataframe tbody tr th:only-of-type {\n",
       "        vertical-align: middle;\n",
       "    }\n",
       "\n",
       "    .dataframe tbody tr th {\n",
       "        vertical-align: top;\n",
       "    }\n",
       "\n",
       "    .dataframe thead th {\n",
       "        text-align: right;\n",
       "    }\n",
       "</style>\n",
       "<table border=\"1\" class=\"dataframe\">\n",
       "  <thead>\n",
       "    <tr style=\"text-align: right;\">\n",
       "      <th></th>\n",
       "      <th>timestamp</th>\n",
       "      <th>precipitation</th>\n",
       "      <th>pressure_msl</th>\n",
       "      <th>sunshine</th>\n",
       "      <th>temperature</th>\n",
       "      <th>wind_direction</th>\n",
       "      <th>wind_speed</th>\n",
       "      <th>cloud_cover</th>\n",
       "      <th>dew_point</th>\n",
       "      <th>relative_humidity</th>\n",
       "      <th>visibility</th>\n",
       "      <th>wind_gust_direction</th>\n",
       "      <th>wind_gust_speed</th>\n",
       "      <th>solar</th>\n",
       "      <th>fill_[mio.m³]</th>\n",
       "    </tr>\n",
       "  </thead>\n",
       "  <tbody>\n",
       "    <tr>\n",
       "      <th>4098</th>\n",
       "      <td>2023-12-21</td>\n",
       "      <td>0.625000</td>\n",
       "      <td>993.045833</td>\n",
       "      <td>0.000000</td>\n",
       "      <td>7.433333</td>\n",
       "      <td>263.750000</td>\n",
       "      <td>31.120833</td>\n",
       "      <td>92.000000</td>\n",
       "      <td>4.191667</td>\n",
       "      <td>79.916667</td>\n",
       "      <td>30437.500000</td>\n",
       "      <td>265.416667</td>\n",
       "      <td>62.758333</td>\n",
       "      <td>0.0</td>\n",
       "      <td>40.483</td>\n",
       "    </tr>\n",
       "    <tr>\n",
       "      <th>4099</th>\n",
       "      <td>2023-12-22</td>\n",
       "      <td>0.337500</td>\n",
       "      <td>995.725000</td>\n",
       "      <td>0.125000</td>\n",
       "      <td>4.454167</td>\n",
       "      <td>291.250000</td>\n",
       "      <td>30.408333</td>\n",
       "      <td>94.041667</td>\n",
       "      <td>0.608333</td>\n",
       "      <td>76.500000</td>\n",
       "      <td>33434.166667</td>\n",
       "      <td>295.000000</td>\n",
       "      <td>63.583333</td>\n",
       "      <td>0.0</td>\n",
       "      <td>41.678</td>\n",
       "    </tr>\n",
       "    <tr>\n",
       "      <th>4100</th>\n",
       "      <td>2023-12-23</td>\n",
       "      <td>1.079167</td>\n",
       "      <td>1003.070833</td>\n",
       "      <td>0.000000</td>\n",
       "      <td>4.454167</td>\n",
       "      <td>284.166667</td>\n",
       "      <td>19.170833</td>\n",
       "      <td>93.000000</td>\n",
       "      <td>2.225000</td>\n",
       "      <td>85.458333</td>\n",
       "      <td>20193.333333</td>\n",
       "      <td>283.333333</td>\n",
       "      <td>39.350000</td>\n",
       "      <td>0.0</td>\n",
       "      <td>41.765</td>\n",
       "    </tr>\n",
       "    <tr>\n",
       "      <th>4101</th>\n",
       "      <td>2023-12-24</td>\n",
       "      <td>0.233333</td>\n",
       "      <td>1000.654167</td>\n",
       "      <td>1.666667</td>\n",
       "      <td>10.337500</td>\n",
       "      <td>255.000000</td>\n",
       "      <td>30.616667</td>\n",
       "      <td>95.666667</td>\n",
       "      <td>7.237500</td>\n",
       "      <td>81.083333</td>\n",
       "      <td>48709.166667</td>\n",
       "      <td>255.000000</td>\n",
       "      <td>62.254167</td>\n",
       "      <td>0.0</td>\n",
       "      <td>43.181</td>\n",
       "    </tr>\n",
       "    <tr>\n",
       "      <th>4102</th>\n",
       "      <td>2023-12-25</td>\n",
       "      <td>0.300000</td>\n",
       "      <td>1003.966667</td>\n",
       "      <td>5.666667</td>\n",
       "      <td>10.429167</td>\n",
       "      <td>262.916667</td>\n",
       "      <td>25.429167</td>\n",
       "      <td>95.708333</td>\n",
       "      <td>7.350000</td>\n",
       "      <td>81.208333</td>\n",
       "      <td>34339.583333</td>\n",
       "      <td>264.583333</td>\n",
       "      <td>50.050000</td>\n",
       "      <td>0.0</td>\n",
       "      <td>46.020</td>\n",
       "    </tr>\n",
       "    <tr>\n",
       "      <th>4103</th>\n",
       "      <td>2023-12-26</td>\n",
       "      <td>0.241667</td>\n",
       "      <td>1009.987500</td>\n",
       "      <td>9.791667</td>\n",
       "      <td>8.691667</td>\n",
       "      <td>271.666667</td>\n",
       "      <td>29.600000</td>\n",
       "      <td>77.916667</td>\n",
       "      <td>4.050000</td>\n",
       "      <td>72.958333</td>\n",
       "      <td>49945.833333</td>\n",
       "      <td>272.916667</td>\n",
       "      <td>58.279167</td>\n",
       "      <td>0.0</td>\n",
       "      <td>47.209</td>\n",
       "    </tr>\n",
       "    <tr>\n",
       "      <th>4104</th>\n",
       "      <td>2023-12-27</td>\n",
       "      <td>0.000000</td>\n",
       "      <td>1018.783333</td>\n",
       "      <td>1.333333</td>\n",
       "      <td>5.783333</td>\n",
       "      <td>180.416667</td>\n",
       "      <td>9.850000</td>\n",
       "      <td>77.541667</td>\n",
       "      <td>1.350000</td>\n",
       "      <td>74.375000</td>\n",
       "      <td>46632.083333</td>\n",
       "      <td>189.166667</td>\n",
       "      <td>23.870833</td>\n",
       "      <td>0.0</td>\n",
       "      <td>47.153</td>\n",
       "    </tr>\n",
       "    <tr>\n",
       "      <th>4105</th>\n",
       "      <td>2023-12-28</td>\n",
       "      <td>0.000000</td>\n",
       "      <td>1011.662500</td>\n",
       "      <td>7.291667</td>\n",
       "      <td>8.929167</td>\n",
       "      <td>206.666667</td>\n",
       "      <td>16.304167</td>\n",
       "      <td>86.916667</td>\n",
       "      <td>3.304167</td>\n",
       "      <td>68.083333</td>\n",
       "      <td>67325.416667</td>\n",
       "      <td>212.916667</td>\n",
       "      <td>41.383333</td>\n",
       "      <td>0.0</td>\n",
       "      <td>46.513</td>\n",
       "    </tr>\n",
       "    <tr>\n",
       "      <th>4106</th>\n",
       "      <td>2023-12-29</td>\n",
       "      <td>0.383333</td>\n",
       "      <td>1007.300000</td>\n",
       "      <td>1.666667</td>\n",
       "      <td>8.741667</td>\n",
       "      <td>241.666667</td>\n",
       "      <td>28.741667</td>\n",
       "      <td>79.375000</td>\n",
       "      <td>4.904167</td>\n",
       "      <td>76.833333</td>\n",
       "      <td>49774.166667</td>\n",
       "      <td>245.416667</td>\n",
       "      <td>61.425000</td>\n",
       "      <td>0.0</td>\n",
       "      <td>45.392</td>\n",
       "    </tr>\n",
       "  </tbody>\n",
       "</table>\n",
       "</div>"
      ],
      "text/plain": [
       "      timestamp  precipitation  pressure_msl  sunshine  temperature  \\\n",
       "4098 2023-12-21       0.625000    993.045833  0.000000     7.433333   \n",
       "4099 2023-12-22       0.337500    995.725000  0.125000     4.454167   \n",
       "4100 2023-12-23       1.079167   1003.070833  0.000000     4.454167   \n",
       "4101 2023-12-24       0.233333   1000.654167  1.666667    10.337500   \n",
       "4102 2023-12-25       0.300000   1003.966667  5.666667    10.429167   \n",
       "4103 2023-12-26       0.241667   1009.987500  9.791667     8.691667   \n",
       "4104 2023-12-27       0.000000   1018.783333  1.333333     5.783333   \n",
       "4105 2023-12-28       0.000000   1011.662500  7.291667     8.929167   \n",
       "4106 2023-12-29       0.383333   1007.300000  1.666667     8.741667   \n",
       "\n",
       "      wind_direction  wind_speed  cloud_cover  dew_point  relative_humidity  \\\n",
       "4098      263.750000   31.120833    92.000000   4.191667          79.916667   \n",
       "4099      291.250000   30.408333    94.041667   0.608333          76.500000   \n",
       "4100      284.166667   19.170833    93.000000   2.225000          85.458333   \n",
       "4101      255.000000   30.616667    95.666667   7.237500          81.083333   \n",
       "4102      262.916667   25.429167    95.708333   7.350000          81.208333   \n",
       "4103      271.666667   29.600000    77.916667   4.050000          72.958333   \n",
       "4104      180.416667    9.850000    77.541667   1.350000          74.375000   \n",
       "4105      206.666667   16.304167    86.916667   3.304167          68.083333   \n",
       "4106      241.666667   28.741667    79.375000   4.904167          76.833333   \n",
       "\n",
       "        visibility  wind_gust_direction  wind_gust_speed  solar  fill_[mio.m³]  \n",
       "4098  30437.500000           265.416667        62.758333    0.0         40.483  \n",
       "4099  33434.166667           295.000000        63.583333    0.0         41.678  \n",
       "4100  20193.333333           283.333333        39.350000    0.0         41.765  \n",
       "4101  48709.166667           255.000000        62.254167    0.0         43.181  \n",
       "4102  34339.583333           264.583333        50.050000    0.0         46.020  \n",
       "4103  49945.833333           272.916667        58.279167    0.0         47.209  \n",
       "4104  46632.083333           189.166667        23.870833    0.0         47.153  \n",
       "4105  67325.416667           212.916667        41.383333    0.0         46.513  \n",
       "4106  49774.166667           245.416667        61.425000    0.0         45.392  "
      ]
     },
     "execution_count": 158,
     "metadata": {},
     "output_type": "execute_result"
    }
   ],
   "source": [
    "filtered_df = df_okertal[(df_okertal[\"timestamp\"] >= \"2023-12-21\") & (df_okertal[\"timestamp\"] <= \"2023-12-29\")]\n",
    "filtered_df"
   ]
  },
  {
   "cell_type": "code",
   "execution_count": 80,
   "metadata": {},
   "outputs": [],
   "source": [
    "y_okertal = df_okertal[\"fill_[mio.m³]\"]\n",
    "X_okertal = df_okertal.drop(columns=[\"fill_[mio.m³]\",\"timestamp\"])"
   ]
  },
  {
   "cell_type": "code",
   "execution_count": 81,
   "metadata": {},
   "outputs": [],
   "source": [
    "X_train_okertal, X_test_okertal, y_train_okertal, y_test_okertal = train_test_split(X_okertal, y_okertal, test_size=0.2, random_state=42)"
   ]
  },
  {
   "cell_type": "code",
   "execution_count": 82,
   "metadata": {},
   "outputs": [
    {
     "name": "stdout",
     "output_type": "stream",
     "text": [
      "Random Forest: RMSE = 6.977022109125862\n"
     ]
    }
   ],
   "source": [
    "# Scaling the data\n",
    "scaler1 = StandardScaler()\n",
    "X_train_scaled = scaler1.fit_transform(X_train_okertal)\n",
    "X_test_scaled = scaler1.transform(X_test_okertal)\n",
    "\n",
    "# Define models\n",
    "models = {\n",
    "    'Random Forest': RandomForestRegressor()\n",
    "}\n",
    "\n",
    "# Train and evaluate models\n",
    "rmse_results = {}\n",
    "for name, model in models.items():\n",
    "    model.fit(X_train_scaled, y_train_okertal)\n",
    "    y_pred = model.predict(X_test_scaled)\n",
    "    rmse = np.sqrt(mean_squared_error(y_test_okertal, y_pred))\n",
    "    rmse_results[name] = rmse\n",
    "\n",
    "# Display the RMSE results\n",
    "for name, rmse in rmse_results.items():\n",
    "    print(f'{name}: RMSE = {rmse}')"
   ]
  },
  {
   "cell_type": "code",
   "execution_count": 83,
   "metadata": {},
   "outputs": [],
   "source": [
    "import pickle\n",
    "\n",
    "pickle_file = \"model_okertal.pkl\"\n",
    "with open(pickle_file, 'wb') as file:\n",
    "    pickle.dump(model, file)"
   ]
  },
  {
   "cell_type": "code",
   "execution_count": 84,
   "metadata": {},
   "outputs": [
    {
     "name": "stdout",
     "output_type": "stream",
     "text": [
      "6.977022109125862\n"
     ]
    }
   ],
   "source": [
    "# Opening a pickel file\n",
    "\n",
    "with open(pickle_file, 'rb') as file:\n",
    "    loaded_model = pickle.load(file)\n",
    "\n",
    "# Use the loaded model to make predictions\n",
    "predictions = loaded_model.predict(X_test_scaled)\n",
    "rmse = np.sqrt(mean_squared_error(y_test_okertal, predictions))\n",
    "print(rmse)\n"
   ]
  },
  {
   "cell_type": "code",
   "execution_count": 85,
   "metadata": {},
   "outputs": [
    {
     "data": {
      "text/html": [
       "<div>\n",
       "<style scoped>\n",
       "    .dataframe tbody tr th:only-of-type {\n",
       "        vertical-align: middle;\n",
       "    }\n",
       "\n",
       "    .dataframe tbody tr th {\n",
       "        vertical-align: top;\n",
       "    }\n",
       "\n",
       "    .dataframe thead th {\n",
       "        text-align: right;\n",
       "    }\n",
       "</style>\n",
       "<table border=\"1\" class=\"dataframe\">\n",
       "  <thead>\n",
       "    <tr style=\"text-align: right;\">\n",
       "      <th></th>\n",
       "      <th>timestamp</th>\n",
       "      <th>precipitation</th>\n",
       "      <th>pressure_msl</th>\n",
       "      <th>sunshine</th>\n",
       "      <th>temperature</th>\n",
       "      <th>wind_direction</th>\n",
       "      <th>wind_speed</th>\n",
       "      <th>cloud_cover</th>\n",
       "      <th>dew_point</th>\n",
       "      <th>relative_humidity</th>\n",
       "      <th>visibility</th>\n",
       "      <th>wind_gust_direction</th>\n",
       "      <th>wind_gust_speed</th>\n",
       "      <th>solar</th>\n",
       "      <th>fill_[mio.m³]</th>\n",
       "      <th>schladen</th>\n",
       "    </tr>\n",
       "  </thead>\n",
       "  <tbody>\n",
       "    <tr>\n",
       "      <th>0</th>\n",
       "      <td>2019-01-01</td>\n",
       "      <td>0.200000</td>\n",
       "      <td>1022.237083</td>\n",
       "      <td>0.583333</td>\n",
       "      <td>5.766667</td>\n",
       "      <td>281.250000</td>\n",
       "      <td>24.575000</td>\n",
       "      <td>92.416667</td>\n",
       "      <td>2.616667</td>\n",
       "      <td>80.291667</td>\n",
       "      <td>35283.750000</td>\n",
       "      <td>281.666667</td>\n",
       "      <td>51.612500</td>\n",
       "      <td>0.058</td>\n",
       "      <td>17.441</td>\n",
       "      <td>89.44</td>\n",
       "    </tr>\n",
       "    <tr>\n",
       "      <th>1</th>\n",
       "      <td>2019-01-02</td>\n",
       "      <td>0.004167</td>\n",
       "      <td>1029.539167</td>\n",
       "      <td>4.000000</td>\n",
       "      <td>1.637500</td>\n",
       "      <td>310.416667</td>\n",
       "      <td>22.908333</td>\n",
       "      <td>60.791667</td>\n",
       "      <td>-3.229167</td>\n",
       "      <td>70.583333</td>\n",
       "      <td>48642.500000</td>\n",
       "      <td>315.000000</td>\n",
       "      <td>43.266667</td>\n",
       "      <td>0.058</td>\n",
       "      <td>17.780</td>\n",
       "      <td>89.45</td>\n",
       "    </tr>\n",
       "    <tr>\n",
       "      <th>2</th>\n",
       "      <td>2019-01-03</td>\n",
       "      <td>0.000000</td>\n",
       "      <td>1035.944167</td>\n",
       "      <td>15.166667</td>\n",
       "      <td>0.129167</td>\n",
       "      <td>303.333333</td>\n",
       "      <td>12.225000</td>\n",
       "      <td>45.791667</td>\n",
       "      <td>-4.379167</td>\n",
       "      <td>72.208333</td>\n",
       "      <td>47961.666667</td>\n",
       "      <td>302.500000</td>\n",
       "      <td>23.325000</td>\n",
       "      <td>0.058</td>\n",
       "      <td>17.989</td>\n",
       "      <td>89.44</td>\n",
       "    </tr>\n",
       "    <tr>\n",
       "      <th>3</th>\n",
       "      <td>2019-01-04</td>\n",
       "      <td>0.058333</td>\n",
       "      <td>1030.626250</td>\n",
       "      <td>0.000000</td>\n",
       "      <td>2.312500</td>\n",
       "      <td>292.083333</td>\n",
       "      <td>18.408333</td>\n",
       "      <td>97.291667</td>\n",
       "      <td>-0.304167</td>\n",
       "      <td>83.750000</td>\n",
       "      <td>48196.250000</td>\n",
       "      <td>290.833333</td>\n",
       "      <td>38.604167</td>\n",
       "      <td>0.058</td>\n",
       "      <td>18.138</td>\n",
       "      <td>89.44</td>\n",
       "    </tr>\n",
       "    <tr>\n",
       "      <th>4</th>\n",
       "      <td>2019-01-05</td>\n",
       "      <td>0.341667</td>\n",
       "      <td>1023.303750</td>\n",
       "      <td>0.000000</td>\n",
       "      <td>6.000000</td>\n",
       "      <td>271.666667</td>\n",
       "      <td>20.629167</td>\n",
       "      <td>95.125000</td>\n",
       "      <td>5.500000</td>\n",
       "      <td>96.625000</td>\n",
       "      <td>12731.666667</td>\n",
       "      <td>275.000000</td>\n",
       "      <td>40.495833</td>\n",
       "      <td>0.058</td>\n",
       "      <td>18.409</td>\n",
       "      <td>89.52</td>\n",
       "    </tr>\n",
       "    <tr>\n",
       "      <th>...</th>\n",
       "      <td>...</td>\n",
       "      <td>...</td>\n",
       "      <td>...</td>\n",
       "      <td>...</td>\n",
       "      <td>...</td>\n",
       "      <td>...</td>\n",
       "      <td>...</td>\n",
       "      <td>...</td>\n",
       "      <td>...</td>\n",
       "      <td>...</td>\n",
       "      <td>...</td>\n",
       "      <td>...</td>\n",
       "      <td>...</td>\n",
       "      <td>...</td>\n",
       "      <td>...</td>\n",
       "      <td>...</td>\n",
       "    </tr>\n",
       "    <tr>\n",
       "      <th>1090</th>\n",
       "      <td>2023-12-27</td>\n",
       "      <td>0.000000</td>\n",
       "      <td>1018.783333</td>\n",
       "      <td>1.333333</td>\n",
       "      <td>4.395833</td>\n",
       "      <td>180.416667</td>\n",
       "      <td>9.850000</td>\n",
       "      <td>77.541667</td>\n",
       "      <td>1.054167</td>\n",
       "      <td>78.916667</td>\n",
       "      <td>46632.083333</td>\n",
       "      <td>189.166667</td>\n",
       "      <td>23.870833</td>\n",
       "      <td>0.002</td>\n",
       "      <td>47.153</td>\n",
       "      <td>91.57</td>\n",
       "    </tr>\n",
       "    <tr>\n",
       "      <th>1091</th>\n",
       "      <td>2023-12-28</td>\n",
       "      <td>0.000000</td>\n",
       "      <td>1011.662500</td>\n",
       "      <td>7.291667</td>\n",
       "      <td>8.983333</td>\n",
       "      <td>206.666667</td>\n",
       "      <td>16.304167</td>\n",
       "      <td>86.916667</td>\n",
       "      <td>2.750000</td>\n",
       "      <td>65.166667</td>\n",
       "      <td>67325.416667</td>\n",
       "      <td>212.916667</td>\n",
       "      <td>41.383333</td>\n",
       "      <td>0.002</td>\n",
       "      <td>46.513</td>\n",
       "      <td>91.29</td>\n",
       "    </tr>\n",
       "    <tr>\n",
       "      <th>1092</th>\n",
       "      <td>2023-12-29</td>\n",
       "      <td>0.191667</td>\n",
       "      <td>1007.300000</td>\n",
       "      <td>1.666667</td>\n",
       "      <td>8.775000</td>\n",
       "      <td>241.666667</td>\n",
       "      <td>28.741667</td>\n",
       "      <td>79.375000</td>\n",
       "      <td>4.070833</td>\n",
       "      <td>72.458333</td>\n",
       "      <td>49774.166667</td>\n",
       "      <td>245.416667</td>\n",
       "      <td>61.425000</td>\n",
       "      <td>0.002</td>\n",
       "      <td>45.392</td>\n",
       "      <td>91.24</td>\n",
       "    </tr>\n",
       "    <tr>\n",
       "      <th>1093</th>\n",
       "      <td>2023-12-30</td>\n",
       "      <td>0.195833</td>\n",
       "      <td>1011.570833</td>\n",
       "      <td>10.500000</td>\n",
       "      <td>6.845833</td>\n",
       "      <td>230.416667</td>\n",
       "      <td>19.458333</td>\n",
       "      <td>94.083333</td>\n",
       "      <td>2.104167</td>\n",
       "      <td>71.958333</td>\n",
       "      <td>54641.666667</td>\n",
       "      <td>234.583333</td>\n",
       "      <td>41.795833</td>\n",
       "      <td>0.002</td>\n",
       "      <td>44.588</td>\n",
       "      <td>91.31</td>\n",
       "    </tr>\n",
       "    <tr>\n",
       "      <th>1094</th>\n",
       "      <td>2023-12-31</td>\n",
       "      <td>0.000000</td>\n",
       "      <td>1004.720833</td>\n",
       "      <td>0.083333</td>\n",
       "      <td>7.279167</td>\n",
       "      <td>174.583333</td>\n",
       "      <td>13.841667</td>\n",
       "      <td>97.291667</td>\n",
       "      <td>2.708333</td>\n",
       "      <td>72.791667</td>\n",
       "      <td>65785.416667</td>\n",
       "      <td>189.583333</td>\n",
       "      <td>33.633333</td>\n",
       "      <td>0.002</td>\n",
       "      <td>43.834</td>\n",
       "      <td>91.13</td>\n",
       "    </tr>\n",
       "  </tbody>\n",
       "</table>\n",
       "<p>1095 rows × 16 columns</p>\n",
       "</div>"
      ],
      "text/plain": [
       "      timestamp  precipitation  pressure_msl   sunshine  temperature  \\\n",
       "0    2019-01-01       0.200000   1022.237083   0.583333     5.766667   \n",
       "1    2019-01-02       0.004167   1029.539167   4.000000     1.637500   \n",
       "2    2019-01-03       0.000000   1035.944167  15.166667     0.129167   \n",
       "3    2019-01-04       0.058333   1030.626250   0.000000     2.312500   \n",
       "4    2019-01-05       0.341667   1023.303750   0.000000     6.000000   \n",
       "...         ...            ...           ...        ...          ...   \n",
       "1090 2023-12-27       0.000000   1018.783333   1.333333     4.395833   \n",
       "1091 2023-12-28       0.000000   1011.662500   7.291667     8.983333   \n",
       "1092 2023-12-29       0.191667   1007.300000   1.666667     8.775000   \n",
       "1093 2023-12-30       0.195833   1011.570833  10.500000     6.845833   \n",
       "1094 2023-12-31       0.000000   1004.720833   0.083333     7.279167   \n",
       "\n",
       "      wind_direction  wind_speed  cloud_cover  dew_point  relative_humidity  \\\n",
       "0         281.250000   24.575000    92.416667   2.616667          80.291667   \n",
       "1         310.416667   22.908333    60.791667  -3.229167          70.583333   \n",
       "2         303.333333   12.225000    45.791667  -4.379167          72.208333   \n",
       "3         292.083333   18.408333    97.291667  -0.304167          83.750000   \n",
       "4         271.666667   20.629167    95.125000   5.500000          96.625000   \n",
       "...              ...         ...          ...        ...                ...   \n",
       "1090      180.416667    9.850000    77.541667   1.054167          78.916667   \n",
       "1091      206.666667   16.304167    86.916667   2.750000          65.166667   \n",
       "1092      241.666667   28.741667    79.375000   4.070833          72.458333   \n",
       "1093      230.416667   19.458333    94.083333   2.104167          71.958333   \n",
       "1094      174.583333   13.841667    97.291667   2.708333          72.791667   \n",
       "\n",
       "        visibility  wind_gust_direction  wind_gust_speed  solar  \\\n",
       "0     35283.750000           281.666667        51.612500  0.058   \n",
       "1     48642.500000           315.000000        43.266667  0.058   \n",
       "2     47961.666667           302.500000        23.325000  0.058   \n",
       "3     48196.250000           290.833333        38.604167  0.058   \n",
       "4     12731.666667           275.000000        40.495833  0.058   \n",
       "...            ...                  ...              ...    ...   \n",
       "1090  46632.083333           189.166667        23.870833  0.002   \n",
       "1091  67325.416667           212.916667        41.383333  0.002   \n",
       "1092  49774.166667           245.416667        61.425000  0.002   \n",
       "1093  54641.666667           234.583333        41.795833  0.002   \n",
       "1094  65785.416667           189.583333        33.633333  0.002   \n",
       "\n",
       "      fill_[mio.m³]  schladen  \n",
       "0            17.441     89.44  \n",
       "1            17.780     89.45  \n",
       "2            17.989     89.44  \n",
       "3            18.138     89.44  \n",
       "4            18.409     89.52  \n",
       "...             ...       ...  \n",
       "1090         47.153     91.57  \n",
       "1091         46.513     91.29  \n",
       "1092         45.392     91.24  \n",
       "1093         44.588     91.31  \n",
       "1094         43.834     91.13  \n",
       "\n",
       "[1095 rows x 16 columns]"
      ]
     },
     "execution_count": 85,
     "metadata": {},
     "output_type": "execute_result"
    }
   ],
   "source": [
    "df_schladen"
   ]
  },
  {
   "cell_type": "code",
   "execution_count": 86,
   "metadata": {},
   "outputs": [],
   "source": [
    "y_schladen = df_schladen[\"schladen\"]\n",
    "X_schladen = df_schladen.drop(columns=[\"schladen\",\"timestamp\"])"
   ]
  },
  {
   "cell_type": "code",
   "execution_count": 87,
   "metadata": {},
   "outputs": [],
   "source": [
    "X_train_schladen, X_test_schladen, y_train_schladen, y_test_schladen = train_test_split(X_schladen, y_schladen, test_size=0.2, random_state=42)"
   ]
  },
  {
   "cell_type": "code",
   "execution_count": 88,
   "metadata": {},
   "outputs": [
    {
     "name": "stdout",
     "output_type": "stream",
     "text": [
      "Random Forest: RMSE = 0.056165301748934734\n"
     ]
    }
   ],
   "source": [
    "# Scaling the data\n",
    "scaler2 = StandardScaler()\n",
    "X_train_scaled = scaler2.fit_transform(X_train_schladen)\n",
    "X_test_scaled = scaler2.transform(X_test_schladen)\n",
    "\n",
    "# Define models\n",
    "models = {\n",
    "    'Random Forest': RandomForestRegressor()\n",
    "}\n",
    "\n",
    "# Train and evaluate models\n",
    "rmse_results = {}\n",
    "for name, model in models.items():\n",
    "    model.fit(X_train_scaled, y_train_schladen)\n",
    "    y_pred = model.predict(X_test_scaled)\n",
    "    rmse = np.sqrt(mean_squared_error(y_test_schladen, y_pred))\n",
    "    rmse_results[name] = rmse\n",
    "\n",
    "# Display the RMSE results\n",
    "for name, rmse in rmse_results.items():\n",
    "    print(f'{name}: RMSE = {rmse}')"
   ]
  },
  {
   "cell_type": "code",
   "execution_count": 89,
   "metadata": {},
   "outputs": [],
   "source": [
    "import pickle\n",
    "\n",
    "pickle_file = \"model_schladen.pkl\"\n",
    "with open(pickle_file, 'wb') as file:\n",
    "    pickle.dump(model, file)"
   ]
  },
  {
   "cell_type": "code",
   "execution_count": 90,
   "metadata": {},
   "outputs": [
    {
     "name": "stdout",
     "output_type": "stream",
     "text": [
      "0.056165301748934734\n"
     ]
    }
   ],
   "source": [
    "# Opening a pickel file\n",
    "\n",
    "with open(pickle_file, 'rb') as file:\n",
    "    loaded_model = pickle.load(file)\n",
    "\n",
    "# Use the loaded model to make predictions\n",
    "predictions = loaded_model.predict(X_test_scaled)\n",
    "rmse = np.sqrt(mean_squared_error(y_test_schladen, predictions))\n",
    "print(rmse)\n"
   ]
  },
  {
   "cell_type": "code",
   "execution_count": 91,
   "metadata": {},
   "outputs": [
    {
     "data": {
      "text/html": [
       "<div>\n",
       "<style scoped>\n",
       "    .dataframe tbody tr th:only-of-type {\n",
       "        vertical-align: middle;\n",
       "    }\n",
       "\n",
       "    .dataframe tbody tr th {\n",
       "        vertical-align: top;\n",
       "    }\n",
       "\n",
       "    .dataframe thead th {\n",
       "        text-align: right;\n",
       "    }\n",
       "</style>\n",
       "<table border=\"1\" class=\"dataframe\">\n",
       "  <thead>\n",
       "    <tr style=\"text-align: right;\">\n",
       "      <th></th>\n",
       "      <th>timestamp</th>\n",
       "      <th>precipitation</th>\n",
       "      <th>pressure_msl</th>\n",
       "      <th>sunshine</th>\n",
       "      <th>temperature</th>\n",
       "      <th>wind_direction</th>\n",
       "      <th>wind_speed</th>\n",
       "      <th>cloud_cover</th>\n",
       "      <th>dew_point</th>\n",
       "      <th>relative_humidity</th>\n",
       "      <th>visibility</th>\n",
       "      <th>wind_gust_direction</th>\n",
       "      <th>wind_gust_speed</th>\n",
       "      <th>solar</th>\n",
       "      <th>ohrum_level</th>\n",
       "      <th>schladen</th>\n",
       "    </tr>\n",
       "  </thead>\n",
       "  <tbody>\n",
       "    <tr>\n",
       "      <th>0</th>\n",
       "      <td>2019-01-01</td>\n",
       "      <td>0.200000</td>\n",
       "      <td>1022.125000</td>\n",
       "      <td>1.000000</td>\n",
       "      <td>6.012500</td>\n",
       "      <td>279.166667</td>\n",
       "      <td>27.120833</td>\n",
       "      <td>75.666667</td>\n",
       "      <td>3.245833</td>\n",
       "      <td>82.541667</td>\n",
       "      <td>19096.250000</td>\n",
       "      <td>282.500000</td>\n",
       "      <td>48.912500</td>\n",
       "      <td>0.015208</td>\n",
       "      <td>76.83</td>\n",
       "      <td>89.44</td>\n",
       "    </tr>\n",
       "    <tr>\n",
       "      <th>1</th>\n",
       "      <td>2019-01-02</td>\n",
       "      <td>0.004167</td>\n",
       "      <td>1029.836667</td>\n",
       "      <td>13.041667</td>\n",
       "      <td>2.229167</td>\n",
       "      <td>305.416667</td>\n",
       "      <td>20.704167</td>\n",
       "      <td>27.916667</td>\n",
       "      <td>-2.866667</td>\n",
       "      <td>69.666667</td>\n",
       "      <td>43170.833333</td>\n",
       "      <td>297.083333</td>\n",
       "      <td>33.554167</td>\n",
       "      <td>0.043208</td>\n",
       "      <td>76.90</td>\n",
       "      <td>89.45</td>\n",
       "    </tr>\n",
       "    <tr>\n",
       "      <th>2</th>\n",
       "      <td>2019-01-03</td>\n",
       "      <td>0.000000</td>\n",
       "      <td>1035.993750</td>\n",
       "      <td>7.791667</td>\n",
       "      <td>-0.391667</td>\n",
       "      <td>270.416667</td>\n",
       "      <td>9.279167</td>\n",
       "      <td>51.541667</td>\n",
       "      <td>-2.566667</td>\n",
       "      <td>85.416667</td>\n",
       "      <td>30382.500000</td>\n",
       "      <td>271.666667</td>\n",
       "      <td>14.775000</td>\n",
       "      <td>0.034583</td>\n",
       "      <td>76.76</td>\n",
       "      <td>89.44</td>\n",
       "    </tr>\n",
       "    <tr>\n",
       "      <th>3</th>\n",
       "      <td>2019-01-04</td>\n",
       "      <td>0.058333</td>\n",
       "      <td>1030.552917</td>\n",
       "      <td>0.000000</td>\n",
       "      <td>1.937500</td>\n",
       "      <td>268.333333</td>\n",
       "      <td>18.804167</td>\n",
       "      <td>95.666667</td>\n",
       "      <td>0.866667</td>\n",
       "      <td>92.583333</td>\n",
       "      <td>7930.416667</td>\n",
       "      <td>265.416667</td>\n",
       "      <td>31.800000</td>\n",
       "      <td>0.007333</td>\n",
       "      <td>76.73</td>\n",
       "      <td>89.44</td>\n",
       "    </tr>\n",
       "    <tr>\n",
       "      <th>4</th>\n",
       "      <td>2019-01-05</td>\n",
       "      <td>0.341667</td>\n",
       "      <td>1023.448333</td>\n",
       "      <td>0.000000</td>\n",
       "      <td>6.358333</td>\n",
       "      <td>271.666667</td>\n",
       "      <td>19.612500</td>\n",
       "      <td>96.208333</td>\n",
       "      <td>5.666667</td>\n",
       "      <td>95.416667</td>\n",
       "      <td>20146.250000</td>\n",
       "      <td>268.750000</td>\n",
       "      <td>31.945833</td>\n",
       "      <td>0.013167</td>\n",
       "      <td>76.85</td>\n",
       "      <td>89.52</td>\n",
       "    </tr>\n",
       "    <tr>\n",
       "      <th>...</th>\n",
       "      <td>...</td>\n",
       "      <td>...</td>\n",
       "      <td>...</td>\n",
       "      <td>...</td>\n",
       "      <td>...</td>\n",
       "      <td>...</td>\n",
       "      <td>...</td>\n",
       "      <td>...</td>\n",
       "      <td>...</td>\n",
       "      <td>...</td>\n",
       "      <td>...</td>\n",
       "      <td>...</td>\n",
       "      <td>...</td>\n",
       "      <td>...</td>\n",
       "      <td>...</td>\n",
       "      <td>...</td>\n",
       "    </tr>\n",
       "    <tr>\n",
       "      <th>1090</th>\n",
       "      <td>2023-12-27</td>\n",
       "      <td>0.000000</td>\n",
       "      <td>1018.058333</td>\n",
       "      <td>0.000000</td>\n",
       "      <td>4.479167</td>\n",
       "      <td>182.500000</td>\n",
       "      <td>12.654167</td>\n",
       "      <td>54.958333</td>\n",
       "      <td>2.112500</td>\n",
       "      <td>85.041667</td>\n",
       "      <td>49354.166667</td>\n",
       "      <td>185.000000</td>\n",
       "      <td>22.287500</td>\n",
       "      <td>0.018708</td>\n",
       "      <td>79.87</td>\n",
       "      <td>91.57</td>\n",
       "    </tr>\n",
       "    <tr>\n",
       "      <th>1091</th>\n",
       "      <td>2023-12-28</td>\n",
       "      <td>0.000000</td>\n",
       "      <td>1010.620833</td>\n",
       "      <td>5.333333</td>\n",
       "      <td>9.316667</td>\n",
       "      <td>225.833333</td>\n",
       "      <td>19.783333</td>\n",
       "      <td>68.375000</td>\n",
       "      <td>4.058333</td>\n",
       "      <td>69.791667</td>\n",
       "      <td>71236.250000</td>\n",
       "      <td>223.750000</td>\n",
       "      <td>37.275000</td>\n",
       "      <td>0.031625</td>\n",
       "      <td>79.83</td>\n",
       "      <td>91.29</td>\n",
       "    </tr>\n",
       "    <tr>\n",
       "      <th>1092</th>\n",
       "      <td>2023-12-29</td>\n",
       "      <td>0.191667</td>\n",
       "      <td>1006.341667</td>\n",
       "      <td>0.000000</td>\n",
       "      <td>9.204167</td>\n",
       "      <td>233.750000</td>\n",
       "      <td>21.345833</td>\n",
       "      <td>69.458333</td>\n",
       "      <td>5.662500</td>\n",
       "      <td>78.833333</td>\n",
       "      <td>62213.750000</td>\n",
       "      <td>231.250000</td>\n",
       "      <td>41.150000</td>\n",
       "      <td>0.010708</td>\n",
       "      <td>79.75</td>\n",
       "      <td>91.24</td>\n",
       "    </tr>\n",
       "    <tr>\n",
       "      <th>1093</th>\n",
       "      <td>2023-12-30</td>\n",
       "      <td>0.195833</td>\n",
       "      <td>1010.833333</td>\n",
       "      <td>5.375000</td>\n",
       "      <td>7.212500</td>\n",
       "      <td>241.666667</td>\n",
       "      <td>16.479167</td>\n",
       "      <td>48.291667</td>\n",
       "      <td>3.483333</td>\n",
       "      <td>77.166667</td>\n",
       "      <td>59780.000000</td>\n",
       "      <td>239.583333</td>\n",
       "      <td>30.979167</td>\n",
       "      <td>0.034833</td>\n",
       "      <td>79.71</td>\n",
       "      <td>91.31</td>\n",
       "    </tr>\n",
       "    <tr>\n",
       "      <th>1094</th>\n",
       "      <td>2023-12-31</td>\n",
       "      <td>0.000000</td>\n",
       "      <td>1003.708333</td>\n",
       "      <td>0.416667</td>\n",
       "      <td>7.450000</td>\n",
       "      <td>174.583333</td>\n",
       "      <td>14.804167</td>\n",
       "      <td>50.250000</td>\n",
       "      <td>3.662500</td>\n",
       "      <td>77.208333</td>\n",
       "      <td>69942.916667</td>\n",
       "      <td>178.750000</td>\n",
       "      <td>27.954167</td>\n",
       "      <td>0.014375</td>\n",
       "      <td>79.73</td>\n",
       "      <td>91.13</td>\n",
       "    </tr>\n",
       "  </tbody>\n",
       "</table>\n",
       "<p>1095 rows × 16 columns</p>\n",
       "</div>"
      ],
      "text/plain": [
       "      timestamp  precipitation  pressure_msl   sunshine  temperature  \\\n",
       "0    2019-01-01       0.200000   1022.125000   1.000000     6.012500   \n",
       "1    2019-01-02       0.004167   1029.836667  13.041667     2.229167   \n",
       "2    2019-01-03       0.000000   1035.993750   7.791667    -0.391667   \n",
       "3    2019-01-04       0.058333   1030.552917   0.000000     1.937500   \n",
       "4    2019-01-05       0.341667   1023.448333   0.000000     6.358333   \n",
       "...         ...            ...           ...        ...          ...   \n",
       "1090 2023-12-27       0.000000   1018.058333   0.000000     4.479167   \n",
       "1091 2023-12-28       0.000000   1010.620833   5.333333     9.316667   \n",
       "1092 2023-12-29       0.191667   1006.341667   0.000000     9.204167   \n",
       "1093 2023-12-30       0.195833   1010.833333   5.375000     7.212500   \n",
       "1094 2023-12-31       0.000000   1003.708333   0.416667     7.450000   \n",
       "\n",
       "      wind_direction  wind_speed  cloud_cover  dew_point  relative_humidity  \\\n",
       "0         279.166667   27.120833    75.666667   3.245833          82.541667   \n",
       "1         305.416667   20.704167    27.916667  -2.866667          69.666667   \n",
       "2         270.416667    9.279167    51.541667  -2.566667          85.416667   \n",
       "3         268.333333   18.804167    95.666667   0.866667          92.583333   \n",
       "4         271.666667   19.612500    96.208333   5.666667          95.416667   \n",
       "...              ...         ...          ...        ...                ...   \n",
       "1090      182.500000   12.654167    54.958333   2.112500          85.041667   \n",
       "1091      225.833333   19.783333    68.375000   4.058333          69.791667   \n",
       "1092      233.750000   21.345833    69.458333   5.662500          78.833333   \n",
       "1093      241.666667   16.479167    48.291667   3.483333          77.166667   \n",
       "1094      174.583333   14.804167    50.250000   3.662500          77.208333   \n",
       "\n",
       "        visibility  wind_gust_direction  wind_gust_speed     solar  \\\n",
       "0     19096.250000           282.500000        48.912500  0.015208   \n",
       "1     43170.833333           297.083333        33.554167  0.043208   \n",
       "2     30382.500000           271.666667        14.775000  0.034583   \n",
       "3      7930.416667           265.416667        31.800000  0.007333   \n",
       "4     20146.250000           268.750000        31.945833  0.013167   \n",
       "...            ...                  ...              ...       ...   \n",
       "1090  49354.166667           185.000000        22.287500  0.018708   \n",
       "1091  71236.250000           223.750000        37.275000  0.031625   \n",
       "1092  62213.750000           231.250000        41.150000  0.010708   \n",
       "1093  59780.000000           239.583333        30.979167  0.034833   \n",
       "1094  69942.916667           178.750000        27.954167  0.014375   \n",
       "\n",
       "      ohrum_level  schladen  \n",
       "0           76.83     89.44  \n",
       "1           76.90     89.45  \n",
       "2           76.76     89.44  \n",
       "3           76.73     89.44  \n",
       "4           76.85     89.52  \n",
       "...           ...       ...  \n",
       "1090        79.87     91.57  \n",
       "1091        79.83     91.29  \n",
       "1092        79.75     91.24  \n",
       "1093        79.71     91.31  \n",
       "1094        79.73     91.13  \n",
       "\n",
       "[1095 rows x 16 columns]"
      ]
     },
     "execution_count": 91,
     "metadata": {},
     "output_type": "execute_result"
    }
   ],
   "source": [
    "df_ohrum"
   ]
  },
  {
   "cell_type": "code",
   "execution_count": 92,
   "metadata": {},
   "outputs": [],
   "source": [
    "y_ohrum = df_ohrum[\"ohrum_level\"]\n",
    "X_ohrum = df_ohrum.drop(columns=[\"ohrum_level\",\"timestamp\"])"
   ]
  },
  {
   "cell_type": "code",
   "execution_count": 93,
   "metadata": {},
   "outputs": [],
   "source": [
    "X_train_ohrum, X_test_ohrum, y_train_ohrum, y_test_ohrum = train_test_split(X_ohrum, y_ohrum, test_size=0.2, random_state=42)"
   ]
  },
  {
   "cell_type": "code",
   "execution_count": 94,
   "metadata": {},
   "outputs": [
    {
     "name": "stdout",
     "output_type": "stream",
     "text": [
      "Random Forest: RMSE = 0.07463551732025471\n"
     ]
    }
   ],
   "source": [
    "# Scaling the data\n",
    "scaler3 = StandardScaler()\n",
    "X_train_scaled = scaler3.fit_transform(X_train_ohrum)\n",
    "X_test_scaled = scaler3.transform(X_test_ohrum)\n",
    "\n",
    "# Define models\n",
    "models = {\n",
    "    'Random Forest': RandomForestRegressor()\n",
    "}\n",
    "\n",
    "# Train and evaluate models\n",
    "rmse_results = {}\n",
    "for name, model in models.items():\n",
    "    model.fit(X_train_scaled, y_train_ohrum)\n",
    "    y_pred = model.predict(X_test_scaled)\n",
    "    rmse = np.sqrt(mean_squared_error(y_test_ohrum, y_pred))\n",
    "    rmse_results[name] = rmse\n",
    "\n",
    "# Display the RMSE results\n",
    "for name, rmse in rmse_results.items():\n",
    "    print(f'{name}: RMSE = {rmse}')"
   ]
  },
  {
   "cell_type": "code",
   "execution_count": 95,
   "metadata": {},
   "outputs": [],
   "source": [
    "import pickle\n",
    "\n",
    "pickle_file = \"model_ohrum.pkl\"\n",
    "with open(pickle_file, 'wb') as file:\n",
    "    pickle.dump(model, file)"
   ]
  },
  {
   "cell_type": "code",
   "execution_count": 96,
   "metadata": {},
   "outputs": [
    {
     "name": "stdout",
     "output_type": "stream",
     "text": [
      "0.07463551732025471\n"
     ]
    }
   ],
   "source": [
    "# Opening a pickel file\n",
    "\n",
    "with open(pickle_file, 'rb') as file:\n",
    "    loaded_model = pickle.load(file)\n",
    "\n",
    "# Use the loaded model to make predictions\n",
    "predictions = loaded_model.predict(X_test_scaled)\n",
    "rmse = np.sqrt(mean_squared_error(y_test_ohrum, predictions))\n",
    "print(rmse)\n"
   ]
  },
  {
   "cell_type": "code",
   "execution_count": 97,
   "metadata": {},
   "outputs": [
    {
     "data": {
      "text/html": [
       "<div>\n",
       "<style scoped>\n",
       "    .dataframe tbody tr th:only-of-type {\n",
       "        vertical-align: middle;\n",
       "    }\n",
       "\n",
       "    .dataframe tbody tr th {\n",
       "        vertical-align: top;\n",
       "    }\n",
       "\n",
       "    .dataframe thead th {\n",
       "        text-align: right;\n",
       "    }\n",
       "</style>\n",
       "<table border=\"1\" class=\"dataframe\">\n",
       "  <thead>\n",
       "    <tr style=\"text-align: right;\">\n",
       "      <th></th>\n",
       "      <th>timestamp</th>\n",
       "      <th>precipitation</th>\n",
       "      <th>pressure_msl</th>\n",
       "      <th>sunshine</th>\n",
       "      <th>temperature</th>\n",
       "      <th>wind_direction</th>\n",
       "      <th>wind_speed</th>\n",
       "      <th>cloud_cover</th>\n",
       "      <th>dew_point</th>\n",
       "      <th>relative_humidity</th>\n",
       "      <th>visibility</th>\n",
       "      <th>wind_gust_direction</th>\n",
       "      <th>wind_gust_speed</th>\n",
       "      <th>solar</th>\n",
       "      <th>ohrum_level</th>\n",
       "      <th>schaeferbridge</th>\n",
       "    </tr>\n",
       "  </thead>\n",
       "  <tbody>\n",
       "    <tr>\n",
       "      <th>0</th>\n",
       "      <td>2019-01-01</td>\n",
       "      <td>0.058333</td>\n",
       "      <td>1021.962500</td>\n",
       "      <td>0.875000</td>\n",
       "      <td>6.250000</td>\n",
       "      <td>277.916667</td>\n",
       "      <td>28.220833</td>\n",
       "      <td>86.166667</td>\n",
       "      <td>3.387500</td>\n",
       "      <td>82.083333</td>\n",
       "      <td>21237.083333</td>\n",
       "      <td>279.583333</td>\n",
       "      <td>51.179167</td>\n",
       "      <td>0.015208</td>\n",
       "      <td>76.83</td>\n",
       "      <td>72.45</td>\n",
       "    </tr>\n",
       "    <tr>\n",
       "      <th>1</th>\n",
       "      <td>2019-01-02</td>\n",
       "      <td>0.000000</td>\n",
       "      <td>1029.574167</td>\n",
       "      <td>13.041667</td>\n",
       "      <td>2.420833</td>\n",
       "      <td>308.333333</td>\n",
       "      <td>21.941667</td>\n",
       "      <td>37.333333</td>\n",
       "      <td>-2.795833</td>\n",
       "      <td>69.041667</td>\n",
       "      <td>43075.416667</td>\n",
       "      <td>300.000000</td>\n",
       "      <td>35.795833</td>\n",
       "      <td>0.043208</td>\n",
       "      <td>76.90</td>\n",
       "      <td>72.51</td>\n",
       "    </tr>\n",
       "    <tr>\n",
       "      <th>2</th>\n",
       "      <td>2019-01-03</td>\n",
       "      <td>0.000000</td>\n",
       "      <td>1036.089167</td>\n",
       "      <td>7.791667</td>\n",
       "      <td>-0.287500</td>\n",
       "      <td>275.833333</td>\n",
       "      <td>9.320833</td>\n",
       "      <td>51.541667</td>\n",
       "      <td>-2.504167</td>\n",
       "      <td>85.166667</td>\n",
       "      <td>32230.000000</td>\n",
       "      <td>277.500000</td>\n",
       "      <td>14.866667</td>\n",
       "      <td>0.034583</td>\n",
       "      <td>76.76</td>\n",
       "      <td>72.46</td>\n",
       "    </tr>\n",
       "    <tr>\n",
       "      <th>3</th>\n",
       "      <td>2019-01-04</td>\n",
       "      <td>0.004167</td>\n",
       "      <td>1031.060000</td>\n",
       "      <td>0.000000</td>\n",
       "      <td>2.587500</td>\n",
       "      <td>270.000000</td>\n",
       "      <td>17.945833</td>\n",
       "      <td>94.041667</td>\n",
       "      <td>1.558333</td>\n",
       "      <td>92.750000</td>\n",
       "      <td>9067.083333</td>\n",
       "      <td>265.416667</td>\n",
       "      <td>30.662500</td>\n",
       "      <td>0.007333</td>\n",
       "      <td>76.73</td>\n",
       "      <td>72.43</td>\n",
       "    </tr>\n",
       "    <tr>\n",
       "      <th>4</th>\n",
       "      <td>2019-01-05</td>\n",
       "      <td>0.158333</td>\n",
       "      <td>1023.469583</td>\n",
       "      <td>0.000000</td>\n",
       "      <td>6.958333</td>\n",
       "      <td>305.416667</td>\n",
       "      <td>20.158333</td>\n",
       "      <td>94.041667</td>\n",
       "      <td>6.120833</td>\n",
       "      <td>94.375000</td>\n",
       "      <td>21300.833333</td>\n",
       "      <td>300.833333</td>\n",
       "      <td>33.300000</td>\n",
       "      <td>0.013167</td>\n",
       "      <td>76.85</td>\n",
       "      <td>72.43</td>\n",
       "    </tr>\n",
       "    <tr>\n",
       "      <th>...</th>\n",
       "      <td>...</td>\n",
       "      <td>...</td>\n",
       "      <td>...</td>\n",
       "      <td>...</td>\n",
       "      <td>...</td>\n",
       "      <td>...</td>\n",
       "      <td>...</td>\n",
       "      <td>...</td>\n",
       "      <td>...</td>\n",
       "      <td>...</td>\n",
       "      <td>...</td>\n",
       "      <td>...</td>\n",
       "      <td>...</td>\n",
       "      <td>...</td>\n",
       "      <td>...</td>\n",
       "      <td>...</td>\n",
       "    </tr>\n",
       "    <tr>\n",
       "      <th>1090</th>\n",
       "      <td>2023-12-27</td>\n",
       "      <td>0.000000</td>\n",
       "      <td>1018.058333</td>\n",
       "      <td>0.000000</td>\n",
       "      <td>4.479167</td>\n",
       "      <td>182.500000</td>\n",
       "      <td>12.654167</td>\n",
       "      <td>54.958333</td>\n",
       "      <td>2.112500</td>\n",
       "      <td>85.041667</td>\n",
       "      <td>49354.166667</td>\n",
       "      <td>185.000000</td>\n",
       "      <td>22.287500</td>\n",
       "      <td>0.018708</td>\n",
       "      <td>79.87</td>\n",
       "      <td>75.22</td>\n",
       "    </tr>\n",
       "    <tr>\n",
       "      <th>1091</th>\n",
       "      <td>2023-12-28</td>\n",
       "      <td>0.000000</td>\n",
       "      <td>1010.620833</td>\n",
       "      <td>5.333333</td>\n",
       "      <td>9.316667</td>\n",
       "      <td>225.833333</td>\n",
       "      <td>19.783333</td>\n",
       "      <td>68.375000</td>\n",
       "      <td>4.058333</td>\n",
       "      <td>69.791667</td>\n",
       "      <td>71236.250000</td>\n",
       "      <td>223.750000</td>\n",
       "      <td>37.275000</td>\n",
       "      <td>0.031625</td>\n",
       "      <td>79.83</td>\n",
       "      <td>75.21</td>\n",
       "    </tr>\n",
       "    <tr>\n",
       "      <th>1092</th>\n",
       "      <td>2023-12-29</td>\n",
       "      <td>0.191667</td>\n",
       "      <td>1006.341667</td>\n",
       "      <td>0.000000</td>\n",
       "      <td>9.204167</td>\n",
       "      <td>233.750000</td>\n",
       "      <td>21.345833</td>\n",
       "      <td>69.458333</td>\n",
       "      <td>5.662500</td>\n",
       "      <td>78.833333</td>\n",
       "      <td>62213.750000</td>\n",
       "      <td>231.250000</td>\n",
       "      <td>41.150000</td>\n",
       "      <td>0.010708</td>\n",
       "      <td>79.75</td>\n",
       "      <td>75.15</td>\n",
       "    </tr>\n",
       "    <tr>\n",
       "      <th>1093</th>\n",
       "      <td>2023-12-30</td>\n",
       "      <td>0.029167</td>\n",
       "      <td>1010.833333</td>\n",
       "      <td>5.375000</td>\n",
       "      <td>7.212500</td>\n",
       "      <td>241.666667</td>\n",
       "      <td>16.479167</td>\n",
       "      <td>48.291667</td>\n",
       "      <td>3.483333</td>\n",
       "      <td>77.166667</td>\n",
       "      <td>59780.000000</td>\n",
       "      <td>239.583333</td>\n",
       "      <td>30.979167</td>\n",
       "      <td>0.034833</td>\n",
       "      <td>79.71</td>\n",
       "      <td>75.13</td>\n",
       "    </tr>\n",
       "    <tr>\n",
       "      <th>1094</th>\n",
       "      <td>2023-12-31</td>\n",
       "      <td>0.016667</td>\n",
       "      <td>1003.708333</td>\n",
       "      <td>0.416667</td>\n",
       "      <td>7.450000</td>\n",
       "      <td>174.583333</td>\n",
       "      <td>14.804167</td>\n",
       "      <td>50.250000</td>\n",
       "      <td>3.662500</td>\n",
       "      <td>77.208333</td>\n",
       "      <td>69942.916667</td>\n",
       "      <td>178.750000</td>\n",
       "      <td>27.954167</td>\n",
       "      <td>0.014375</td>\n",
       "      <td>79.73</td>\n",
       "      <td>75.12</td>\n",
       "    </tr>\n",
       "  </tbody>\n",
       "</table>\n",
       "<p>1095 rows × 16 columns</p>\n",
       "</div>"
      ],
      "text/plain": [
       "      timestamp  precipitation  pressure_msl   sunshine  temperature  \\\n",
       "0    2019-01-01       0.058333   1021.962500   0.875000     6.250000   \n",
       "1    2019-01-02       0.000000   1029.574167  13.041667     2.420833   \n",
       "2    2019-01-03       0.000000   1036.089167   7.791667    -0.287500   \n",
       "3    2019-01-04       0.004167   1031.060000   0.000000     2.587500   \n",
       "4    2019-01-05       0.158333   1023.469583   0.000000     6.958333   \n",
       "...         ...            ...           ...        ...          ...   \n",
       "1090 2023-12-27       0.000000   1018.058333   0.000000     4.479167   \n",
       "1091 2023-12-28       0.000000   1010.620833   5.333333     9.316667   \n",
       "1092 2023-12-29       0.191667   1006.341667   0.000000     9.204167   \n",
       "1093 2023-12-30       0.029167   1010.833333   5.375000     7.212500   \n",
       "1094 2023-12-31       0.016667   1003.708333   0.416667     7.450000   \n",
       "\n",
       "      wind_direction  wind_speed  cloud_cover  dew_point  relative_humidity  \\\n",
       "0         277.916667   28.220833    86.166667   3.387500          82.083333   \n",
       "1         308.333333   21.941667    37.333333  -2.795833          69.041667   \n",
       "2         275.833333    9.320833    51.541667  -2.504167          85.166667   \n",
       "3         270.000000   17.945833    94.041667   1.558333          92.750000   \n",
       "4         305.416667   20.158333    94.041667   6.120833          94.375000   \n",
       "...              ...         ...          ...        ...                ...   \n",
       "1090      182.500000   12.654167    54.958333   2.112500          85.041667   \n",
       "1091      225.833333   19.783333    68.375000   4.058333          69.791667   \n",
       "1092      233.750000   21.345833    69.458333   5.662500          78.833333   \n",
       "1093      241.666667   16.479167    48.291667   3.483333          77.166667   \n",
       "1094      174.583333   14.804167    50.250000   3.662500          77.208333   \n",
       "\n",
       "        visibility  wind_gust_direction  wind_gust_speed     solar  \\\n",
       "0     21237.083333           279.583333        51.179167  0.015208   \n",
       "1     43075.416667           300.000000        35.795833  0.043208   \n",
       "2     32230.000000           277.500000        14.866667  0.034583   \n",
       "3      9067.083333           265.416667        30.662500  0.007333   \n",
       "4     21300.833333           300.833333        33.300000  0.013167   \n",
       "...            ...                  ...              ...       ...   \n",
       "1090  49354.166667           185.000000        22.287500  0.018708   \n",
       "1091  71236.250000           223.750000        37.275000  0.031625   \n",
       "1092  62213.750000           231.250000        41.150000  0.010708   \n",
       "1093  59780.000000           239.583333        30.979167  0.034833   \n",
       "1094  69942.916667           178.750000        27.954167  0.014375   \n",
       "\n",
       "      ohrum_level  schaeferbridge  \n",
       "0           76.83           72.45  \n",
       "1           76.90           72.51  \n",
       "2           76.76           72.46  \n",
       "3           76.73           72.43  \n",
       "4           76.85           72.43  \n",
       "...           ...             ...  \n",
       "1090        79.87           75.22  \n",
       "1091        79.83           75.21  \n",
       "1092        79.75           75.15  \n",
       "1093        79.71           75.13  \n",
       "1094        79.73           75.12  \n",
       "\n",
       "[1095 rows x 16 columns]"
      ]
     },
     "execution_count": 97,
     "metadata": {},
     "output_type": "execute_result"
    }
   ],
   "source": [
    "df_bridge"
   ]
  },
  {
   "cell_type": "code",
   "execution_count": 98,
   "metadata": {},
   "outputs": [
    {
     "name": "stdout",
     "output_type": "stream",
     "text": [
      "Random Forest: RMSE = 0.10857646948592334\n",
      "0.10857646948592334\n"
     ]
    }
   ],
   "source": [
    "y_bridge = df_bridge[\"schaeferbridge\"]\n",
    "X_bridge = df_bridge.drop(columns=[\"schaeferbridge\",\"timestamp\"])\n",
    "\n",
    "\n",
    "X_train_bridge, X_test_bridge, y_train_bridge, y_test_bridge = train_test_split(X_bridge, y_bridge, test_size=0.2, random_state=42)\n",
    "\n",
    "# Scaling the data\n",
    "scaler4 = StandardScaler()\n",
    "X_train_scaled = scaler4.fit_transform(X_train_bridge)\n",
    "X_test_scaled = scaler4.transform(X_test_bridge)\n",
    "\n",
    "# Define models\n",
    "models = {\n",
    "    'Random Forest': RandomForestRegressor()\n",
    "}\n",
    "\n",
    "# Train and evaluate models\n",
    "rmse_results = {}\n",
    "for name, model in models.items():\n",
    "    model.fit(X_train_scaled, y_train_bridge)\n",
    "    y_pred = model.predict(X_test_scaled)\n",
    "    rmse = np.sqrt(mean_squared_error(y_test_bridge, y_pred))\n",
    "    rmse_results[name] = rmse\n",
    "\n",
    "# Display the RMSE results\n",
    "for name, rmse in rmse_results.items():\n",
    "    print(f'{name}: RMSE = {rmse}')\n",
    "\n",
    "import pickle\n",
    "\n",
    "pickle_file = \"model_bridge.pkl\"\n",
    "with open(pickle_file, 'wb') as file:\n",
    "    pickle.dump(model, file)\n",
    "\n",
    "# Opening a pickel file\n",
    "\n",
    "with open(pickle_file, 'rb') as file:\n",
    "    loaded_model = pickle.load(file)\n",
    "\n",
    "# Use the loaded model to make predictions\n",
    "predictions = loaded_model.predict(X_test_scaled)\n",
    "rmse = np.sqrt(mean_squared_error(y_test_bridge, predictions))\n",
    "print(rmse)\n"
   ]
  },
  {
   "cell_type": "code",
   "execution_count": 99,
   "metadata": {},
   "outputs": [
    {
     "data": {
      "text/html": [
       "<div>\n",
       "<style scoped>\n",
       "    .dataframe tbody tr th:only-of-type {\n",
       "        vertical-align: middle;\n",
       "    }\n",
       "\n",
       "    .dataframe tbody tr th {\n",
       "        vertical-align: top;\n",
       "    }\n",
       "\n",
       "    .dataframe thead th {\n",
       "        text-align: right;\n",
       "    }\n",
       "</style>\n",
       "<table border=\"1\" class=\"dataframe\">\n",
       "  <thead>\n",
       "    <tr style=\"text-align: right;\">\n",
       "      <th></th>\n",
       "      <th>timestamp</th>\n",
       "      <th>precipitation</th>\n",
       "      <th>pressure_msl</th>\n",
       "      <th>sunshine</th>\n",
       "      <th>temperature</th>\n",
       "      <th>wind_direction</th>\n",
       "      <th>wind_speed</th>\n",
       "      <th>cloud_cover</th>\n",
       "      <th>dew_point</th>\n",
       "      <th>relative_humidity</th>\n",
       "      <th>visibility</th>\n",
       "      <th>wind_gust_direction</th>\n",
       "      <th>wind_gust_speed</th>\n",
       "      <th>solar</th>\n",
       "      <th>schaeferbridge</th>\n",
       "      <th>eisenbuetteler_wehr</th>\n",
       "    </tr>\n",
       "  </thead>\n",
       "  <tbody>\n",
       "    <tr>\n",
       "      <th>0</th>\n",
       "      <td>2019-01-01</td>\n",
       "      <td>0.058333</td>\n",
       "      <td>1021.962500</td>\n",
       "      <td>0.875000</td>\n",
       "      <td>6.250000</td>\n",
       "      <td>277.916667</td>\n",
       "      <td>28.220833</td>\n",
       "      <td>86.166667</td>\n",
       "      <td>3.387500</td>\n",
       "      <td>82.083333</td>\n",
       "      <td>21237.083333</td>\n",
       "      <td>279.583333</td>\n",
       "      <td>51.179167</td>\n",
       "      <td>0.015208</td>\n",
       "      <td>72.45</td>\n",
       "      <td>70.75</td>\n",
       "    </tr>\n",
       "    <tr>\n",
       "      <th>1</th>\n",
       "      <td>2019-01-02</td>\n",
       "      <td>0.000000</td>\n",
       "      <td>1029.574167</td>\n",
       "      <td>13.041667</td>\n",
       "      <td>2.420833</td>\n",
       "      <td>308.333333</td>\n",
       "      <td>21.941667</td>\n",
       "      <td>37.333333</td>\n",
       "      <td>-2.795833</td>\n",
       "      <td>69.041667</td>\n",
       "      <td>43075.416667</td>\n",
       "      <td>300.000000</td>\n",
       "      <td>35.795833</td>\n",
       "      <td>0.043208</td>\n",
       "      <td>72.51</td>\n",
       "      <td>70.75</td>\n",
       "    </tr>\n",
       "    <tr>\n",
       "      <th>2</th>\n",
       "      <td>2019-01-03</td>\n",
       "      <td>0.000000</td>\n",
       "      <td>1036.089167</td>\n",
       "      <td>7.791667</td>\n",
       "      <td>-0.287500</td>\n",
       "      <td>275.833333</td>\n",
       "      <td>9.320833</td>\n",
       "      <td>51.541667</td>\n",
       "      <td>-2.504167</td>\n",
       "      <td>85.166667</td>\n",
       "      <td>32230.000000</td>\n",
       "      <td>277.500000</td>\n",
       "      <td>14.866667</td>\n",
       "      <td>0.034583</td>\n",
       "      <td>72.46</td>\n",
       "      <td>70.73</td>\n",
       "    </tr>\n",
       "    <tr>\n",
       "      <th>3</th>\n",
       "      <td>2019-01-04</td>\n",
       "      <td>0.004167</td>\n",
       "      <td>1031.060000</td>\n",
       "      <td>0.000000</td>\n",
       "      <td>2.587500</td>\n",
       "      <td>270.000000</td>\n",
       "      <td>17.945833</td>\n",
       "      <td>94.041667</td>\n",
       "      <td>1.558333</td>\n",
       "      <td>92.750000</td>\n",
       "      <td>9067.083333</td>\n",
       "      <td>265.416667</td>\n",
       "      <td>30.662500</td>\n",
       "      <td>0.007333</td>\n",
       "      <td>72.43</td>\n",
       "      <td>70.75</td>\n",
       "    </tr>\n",
       "    <tr>\n",
       "      <th>4</th>\n",
       "      <td>2019-01-05</td>\n",
       "      <td>0.158333</td>\n",
       "      <td>1023.469583</td>\n",
       "      <td>0.000000</td>\n",
       "      <td>6.958333</td>\n",
       "      <td>305.416667</td>\n",
       "      <td>20.158333</td>\n",
       "      <td>94.041667</td>\n",
       "      <td>6.120833</td>\n",
       "      <td>94.375000</td>\n",
       "      <td>21300.833333</td>\n",
       "      <td>300.833333</td>\n",
       "      <td>33.300000</td>\n",
       "      <td>0.013167</td>\n",
       "      <td>72.43</td>\n",
       "      <td>70.75</td>\n",
       "    </tr>\n",
       "    <tr>\n",
       "      <th>...</th>\n",
       "      <td>...</td>\n",
       "      <td>...</td>\n",
       "      <td>...</td>\n",
       "      <td>...</td>\n",
       "      <td>...</td>\n",
       "      <td>...</td>\n",
       "      <td>...</td>\n",
       "      <td>...</td>\n",
       "      <td>...</td>\n",
       "      <td>...</td>\n",
       "      <td>...</td>\n",
       "      <td>...</td>\n",
       "      <td>...</td>\n",
       "      <td>...</td>\n",
       "      <td>...</td>\n",
       "      <td>...</td>\n",
       "    </tr>\n",
       "    <tr>\n",
       "      <th>1090</th>\n",
       "      <td>2023-12-27</td>\n",
       "      <td>0.000000</td>\n",
       "      <td>1018.058333</td>\n",
       "      <td>0.000000</td>\n",
       "      <td>4.479167</td>\n",
       "      <td>182.500000</td>\n",
       "      <td>12.654167</td>\n",
       "      <td>54.958333</td>\n",
       "      <td>2.112500</td>\n",
       "      <td>85.041667</td>\n",
       "      <td>49354.166667</td>\n",
       "      <td>185.000000</td>\n",
       "      <td>22.287500</td>\n",
       "      <td>0.018708</td>\n",
       "      <td>75.22</td>\n",
       "      <td>71.06</td>\n",
       "    </tr>\n",
       "    <tr>\n",
       "      <th>1091</th>\n",
       "      <td>2023-12-28</td>\n",
       "      <td>0.000000</td>\n",
       "      <td>1010.620833</td>\n",
       "      <td>5.333333</td>\n",
       "      <td>9.316667</td>\n",
       "      <td>225.833333</td>\n",
       "      <td>19.783333</td>\n",
       "      <td>68.375000</td>\n",
       "      <td>4.058333</td>\n",
       "      <td>69.791667</td>\n",
       "      <td>71236.250000</td>\n",
       "      <td>223.750000</td>\n",
       "      <td>37.275000</td>\n",
       "      <td>0.031625</td>\n",
       "      <td>75.21</td>\n",
       "      <td>71.07</td>\n",
       "    </tr>\n",
       "    <tr>\n",
       "      <th>1092</th>\n",
       "      <td>2023-12-29</td>\n",
       "      <td>0.191667</td>\n",
       "      <td>1006.341667</td>\n",
       "      <td>0.000000</td>\n",
       "      <td>9.204167</td>\n",
       "      <td>233.750000</td>\n",
       "      <td>21.345833</td>\n",
       "      <td>69.458333</td>\n",
       "      <td>5.662500</td>\n",
       "      <td>78.833333</td>\n",
       "      <td>62213.750000</td>\n",
       "      <td>231.250000</td>\n",
       "      <td>41.150000</td>\n",
       "      <td>0.010708</td>\n",
       "      <td>75.15</td>\n",
       "      <td>70.72</td>\n",
       "    </tr>\n",
       "    <tr>\n",
       "      <th>1093</th>\n",
       "      <td>2023-12-30</td>\n",
       "      <td>0.029167</td>\n",
       "      <td>1010.833333</td>\n",
       "      <td>5.375000</td>\n",
       "      <td>7.212500</td>\n",
       "      <td>241.666667</td>\n",
       "      <td>16.479167</td>\n",
       "      <td>48.291667</td>\n",
       "      <td>3.483333</td>\n",
       "      <td>77.166667</td>\n",
       "      <td>59780.000000</td>\n",
       "      <td>239.583333</td>\n",
       "      <td>30.979167</td>\n",
       "      <td>0.034833</td>\n",
       "      <td>75.13</td>\n",
       "      <td>70.60</td>\n",
       "    </tr>\n",
       "    <tr>\n",
       "      <th>1094</th>\n",
       "      <td>2023-12-31</td>\n",
       "      <td>0.016667</td>\n",
       "      <td>1003.708333</td>\n",
       "      <td>0.416667</td>\n",
       "      <td>7.450000</td>\n",
       "      <td>174.583333</td>\n",
       "      <td>14.804167</td>\n",
       "      <td>50.250000</td>\n",
       "      <td>3.662500</td>\n",
       "      <td>77.208333</td>\n",
       "      <td>69942.916667</td>\n",
       "      <td>178.750000</td>\n",
       "      <td>27.954167</td>\n",
       "      <td>0.014375</td>\n",
       "      <td>75.12</td>\n",
       "      <td>70.51</td>\n",
       "    </tr>\n",
       "  </tbody>\n",
       "</table>\n",
       "<p>1095 rows × 16 columns</p>\n",
       "</div>"
      ],
      "text/plain": [
       "      timestamp  precipitation  pressure_msl   sunshine  temperature  \\\n",
       "0    2019-01-01       0.058333   1021.962500   0.875000     6.250000   \n",
       "1    2019-01-02       0.000000   1029.574167  13.041667     2.420833   \n",
       "2    2019-01-03       0.000000   1036.089167   7.791667    -0.287500   \n",
       "3    2019-01-04       0.004167   1031.060000   0.000000     2.587500   \n",
       "4    2019-01-05       0.158333   1023.469583   0.000000     6.958333   \n",
       "...         ...            ...           ...        ...          ...   \n",
       "1090 2023-12-27       0.000000   1018.058333   0.000000     4.479167   \n",
       "1091 2023-12-28       0.000000   1010.620833   5.333333     9.316667   \n",
       "1092 2023-12-29       0.191667   1006.341667   0.000000     9.204167   \n",
       "1093 2023-12-30       0.029167   1010.833333   5.375000     7.212500   \n",
       "1094 2023-12-31       0.016667   1003.708333   0.416667     7.450000   \n",
       "\n",
       "      wind_direction  wind_speed  cloud_cover  dew_point  relative_humidity  \\\n",
       "0         277.916667   28.220833    86.166667   3.387500          82.083333   \n",
       "1         308.333333   21.941667    37.333333  -2.795833          69.041667   \n",
       "2         275.833333    9.320833    51.541667  -2.504167          85.166667   \n",
       "3         270.000000   17.945833    94.041667   1.558333          92.750000   \n",
       "4         305.416667   20.158333    94.041667   6.120833          94.375000   \n",
       "...              ...         ...          ...        ...                ...   \n",
       "1090      182.500000   12.654167    54.958333   2.112500          85.041667   \n",
       "1091      225.833333   19.783333    68.375000   4.058333          69.791667   \n",
       "1092      233.750000   21.345833    69.458333   5.662500          78.833333   \n",
       "1093      241.666667   16.479167    48.291667   3.483333          77.166667   \n",
       "1094      174.583333   14.804167    50.250000   3.662500          77.208333   \n",
       "\n",
       "        visibility  wind_gust_direction  wind_gust_speed     solar  \\\n",
       "0     21237.083333           279.583333        51.179167  0.015208   \n",
       "1     43075.416667           300.000000        35.795833  0.043208   \n",
       "2     32230.000000           277.500000        14.866667  0.034583   \n",
       "3      9067.083333           265.416667        30.662500  0.007333   \n",
       "4     21300.833333           300.833333        33.300000  0.013167   \n",
       "...            ...                  ...              ...       ...   \n",
       "1090  49354.166667           185.000000        22.287500  0.018708   \n",
       "1091  71236.250000           223.750000        37.275000  0.031625   \n",
       "1092  62213.750000           231.250000        41.150000  0.010708   \n",
       "1093  59780.000000           239.583333        30.979167  0.034833   \n",
       "1094  69942.916667           178.750000        27.954167  0.014375   \n",
       "\n",
       "      schaeferbridge  eisenbuetteler_wehr  \n",
       "0              72.45                70.75  \n",
       "1              72.51                70.75  \n",
       "2              72.46                70.73  \n",
       "3              72.43                70.75  \n",
       "4              72.43                70.75  \n",
       "...              ...                  ...  \n",
       "1090           75.22                71.06  \n",
       "1091           75.21                71.07  \n",
       "1092           75.15                70.72  \n",
       "1093           75.13                70.60  \n",
       "1094           75.12                70.51  \n",
       "\n",
       "[1095 rows x 16 columns]"
      ]
     },
     "execution_count": 99,
     "metadata": {},
     "output_type": "execute_result"
    }
   ],
   "source": [
    "df_eisenbuettel"
   ]
  },
  {
   "cell_type": "code",
   "execution_count": 100,
   "metadata": {},
   "outputs": [
    {
     "name": "stdout",
     "output_type": "stream",
     "text": [
      "Random Forest: RMSE = 0.18114436257119362\n",
      "0.18114436257119362\n"
     ]
    }
   ],
   "source": [
    "y_eisenbuettel = df_eisenbuettel[\"eisenbuetteler_wehr\"]\n",
    "X_eisenbuettel = df_eisenbuettel.drop(columns=[\"eisenbuetteler_wehr\",\"timestamp\"])\n",
    "\n",
    "\n",
    "X_train_eisenbuettel, X_test_eisenbuettel, y_train_eisenbuettel, y_test_eisenbuettel = train_test_split(X_eisenbuettel, y_eisenbuettel, test_size=0.2, random_state=42)\n",
    "\n",
    "# Scaling the data\n",
    "scaler5 = StandardScaler()\n",
    "X_train_scaled = scaler5.fit_transform(X_train_eisenbuettel)\n",
    "X_test_scaled = scaler5.transform(X_test_eisenbuettel)\n",
    "\n",
    "# Define models\n",
    "models = {\n",
    "    'Random Forest': RandomForestRegressor()\n",
    "}\n",
    "\n",
    "# Train and evaluate models\n",
    "rmse_results = {}\n",
    "for name, model in models.items():\n",
    "    model.fit(X_train_scaled, y_train_eisenbuettel)\n",
    "    y_pred = model.predict(X_test_scaled)\n",
    "    rmse = np.sqrt(mean_squared_error(y_test_eisenbuettel, y_pred))\n",
    "    rmse_results[name] = rmse\n",
    "\n",
    "# Display the RMSE results\n",
    "for name, rmse in rmse_results.items():\n",
    "    print(f'{name}: RMSE = {rmse}')\n",
    "\n",
    "import pickle\n",
    "\n",
    "pickle_file = \"model_eisenbuettel.pkl\"\n",
    "with open(pickle_file, 'wb') as file:\n",
    "    pickle.dump(model, file)\n",
    "\n",
    "# Opening a pickel file\n",
    "\n",
    "with open(pickle_file, 'rb') as file:\n",
    "    loaded_model = pickle.load(file)\n",
    "\n",
    "# Use the loaded model to make predictions\n",
    "predictions = loaded_model.predict(X_test_scaled)\n",
    "rmse = np.sqrt(mean_squared_error(y_test_eisenbuettel, predictions))\n",
    "print(rmse)\n"
   ]
  },
  {
   "cell_type": "code",
   "execution_count": 101,
   "metadata": {},
   "outputs": [
    {
     "data": {
      "text/html": [
       "<div>\n",
       "<style scoped>\n",
       "    .dataframe tbody tr th:only-of-type {\n",
       "        vertical-align: middle;\n",
       "    }\n",
       "\n",
       "    .dataframe tbody tr th {\n",
       "        vertical-align: top;\n",
       "    }\n",
       "\n",
       "    .dataframe thead th {\n",
       "        text-align: right;\n",
       "    }\n",
       "</style>\n",
       "<table border=\"1\" class=\"dataframe\">\n",
       "  <thead>\n",
       "    <tr style=\"text-align: right;\">\n",
       "      <th></th>\n",
       "      <th>timestamp</th>\n",
       "      <th>precipitation</th>\n",
       "      <th>pressure_msl</th>\n",
       "      <th>sunshine</th>\n",
       "      <th>temperature</th>\n",
       "      <th>wind_direction</th>\n",
       "      <th>wind_speed</th>\n",
       "      <th>cloud_cover</th>\n",
       "      <th>dew_point</th>\n",
       "      <th>relative_humidity</th>\n",
       "      <th>visibility</th>\n",
       "      <th>wind_gust_direction</th>\n",
       "      <th>wind_gust_speed</th>\n",
       "      <th>solar</th>\n",
       "      <th>eisenbuetteler_wehr</th>\n",
       "      <th>wendenwehr</th>\n",
       "    </tr>\n",
       "  </thead>\n",
       "  <tbody>\n",
       "    <tr>\n",
       "      <th>0</th>\n",
       "      <td>2019-01-01</td>\n",
       "      <td>0.058333</td>\n",
       "      <td>1021.962500</td>\n",
       "      <td>0.875000</td>\n",
       "      <td>6.250000</td>\n",
       "      <td>277.916667</td>\n",
       "      <td>28.220833</td>\n",
       "      <td>86.166667</td>\n",
       "      <td>3.387500</td>\n",
       "      <td>82.083333</td>\n",
       "      <td>21237.083333</td>\n",
       "      <td>279.583333</td>\n",
       "      <td>51.179167</td>\n",
       "      <td>0.015208</td>\n",
       "      <td>70.75</td>\n",
       "      <td>69.24</td>\n",
       "    </tr>\n",
       "    <tr>\n",
       "      <th>1</th>\n",
       "      <td>2019-01-02</td>\n",
       "      <td>0.000000</td>\n",
       "      <td>1029.574167</td>\n",
       "      <td>13.041667</td>\n",
       "      <td>2.420833</td>\n",
       "      <td>308.333333</td>\n",
       "      <td>21.941667</td>\n",
       "      <td>37.333333</td>\n",
       "      <td>-2.795833</td>\n",
       "      <td>69.041667</td>\n",
       "      <td>43075.416667</td>\n",
       "      <td>300.000000</td>\n",
       "      <td>35.795833</td>\n",
       "      <td>0.043208</td>\n",
       "      <td>70.75</td>\n",
       "      <td>69.27</td>\n",
       "    </tr>\n",
       "    <tr>\n",
       "      <th>2</th>\n",
       "      <td>2019-01-03</td>\n",
       "      <td>0.000000</td>\n",
       "      <td>1036.089167</td>\n",
       "      <td>7.791667</td>\n",
       "      <td>-0.287500</td>\n",
       "      <td>275.833333</td>\n",
       "      <td>9.320833</td>\n",
       "      <td>51.541667</td>\n",
       "      <td>-2.504167</td>\n",
       "      <td>85.166667</td>\n",
       "      <td>32230.000000</td>\n",
       "      <td>277.500000</td>\n",
       "      <td>14.866667</td>\n",
       "      <td>0.034583</td>\n",
       "      <td>70.73</td>\n",
       "      <td>69.33</td>\n",
       "    </tr>\n",
       "    <tr>\n",
       "      <th>3</th>\n",
       "      <td>2019-01-04</td>\n",
       "      <td>0.004167</td>\n",
       "      <td>1031.060000</td>\n",
       "      <td>0.000000</td>\n",
       "      <td>2.587500</td>\n",
       "      <td>270.000000</td>\n",
       "      <td>17.945833</td>\n",
       "      <td>94.041667</td>\n",
       "      <td>1.558333</td>\n",
       "      <td>92.750000</td>\n",
       "      <td>9067.083333</td>\n",
       "      <td>265.416667</td>\n",
       "      <td>30.662500</td>\n",
       "      <td>0.007333</td>\n",
       "      <td>70.75</td>\n",
       "      <td>69.22</td>\n",
       "    </tr>\n",
       "    <tr>\n",
       "      <th>4</th>\n",
       "      <td>2019-01-05</td>\n",
       "      <td>0.158333</td>\n",
       "      <td>1023.469583</td>\n",
       "      <td>0.000000</td>\n",
       "      <td>6.958333</td>\n",
       "      <td>305.416667</td>\n",
       "      <td>20.158333</td>\n",
       "      <td>94.041667</td>\n",
       "      <td>6.120833</td>\n",
       "      <td>94.375000</td>\n",
       "      <td>21300.833333</td>\n",
       "      <td>300.833333</td>\n",
       "      <td>33.300000</td>\n",
       "      <td>0.013167</td>\n",
       "      <td>70.75</td>\n",
       "      <td>69.38</td>\n",
       "    </tr>\n",
       "    <tr>\n",
       "      <th>...</th>\n",
       "      <td>...</td>\n",
       "      <td>...</td>\n",
       "      <td>...</td>\n",
       "      <td>...</td>\n",
       "      <td>...</td>\n",
       "      <td>...</td>\n",
       "      <td>...</td>\n",
       "      <td>...</td>\n",
       "      <td>...</td>\n",
       "      <td>...</td>\n",
       "      <td>...</td>\n",
       "      <td>...</td>\n",
       "      <td>...</td>\n",
       "      <td>...</td>\n",
       "      <td>...</td>\n",
       "      <td>...</td>\n",
       "    </tr>\n",
       "    <tr>\n",
       "      <th>1090</th>\n",
       "      <td>2023-12-27</td>\n",
       "      <td>0.000000</td>\n",
       "      <td>1018.058333</td>\n",
       "      <td>0.000000</td>\n",
       "      <td>4.479167</td>\n",
       "      <td>182.500000</td>\n",
       "      <td>12.654167</td>\n",
       "      <td>54.958333</td>\n",
       "      <td>2.112500</td>\n",
       "      <td>85.041667</td>\n",
       "      <td>49354.166667</td>\n",
       "      <td>185.000000</td>\n",
       "      <td>22.287500</td>\n",
       "      <td>0.018708</td>\n",
       "      <td>71.06</td>\n",
       "      <td>68.75</td>\n",
       "    </tr>\n",
       "    <tr>\n",
       "      <th>1091</th>\n",
       "      <td>2023-12-28</td>\n",
       "      <td>0.000000</td>\n",
       "      <td>1010.620833</td>\n",
       "      <td>5.333333</td>\n",
       "      <td>9.316667</td>\n",
       "      <td>225.833333</td>\n",
       "      <td>19.783333</td>\n",
       "      <td>68.375000</td>\n",
       "      <td>4.058333</td>\n",
       "      <td>69.791667</td>\n",
       "      <td>71236.250000</td>\n",
       "      <td>223.750000</td>\n",
       "      <td>37.275000</td>\n",
       "      <td>0.031625</td>\n",
       "      <td>71.07</td>\n",
       "      <td>68.67</td>\n",
       "    </tr>\n",
       "    <tr>\n",
       "      <th>1092</th>\n",
       "      <td>2023-12-29</td>\n",
       "      <td>0.191667</td>\n",
       "      <td>1006.341667</td>\n",
       "      <td>0.000000</td>\n",
       "      <td>9.204167</td>\n",
       "      <td>233.750000</td>\n",
       "      <td>21.345833</td>\n",
       "      <td>69.458333</td>\n",
       "      <td>5.662500</td>\n",
       "      <td>78.833333</td>\n",
       "      <td>62213.750000</td>\n",
       "      <td>231.250000</td>\n",
       "      <td>41.150000</td>\n",
       "      <td>0.010708</td>\n",
       "      <td>70.72</td>\n",
       "      <td>68.42</td>\n",
       "    </tr>\n",
       "    <tr>\n",
       "      <th>1093</th>\n",
       "      <td>2023-12-30</td>\n",
       "      <td>0.029167</td>\n",
       "      <td>1010.833333</td>\n",
       "      <td>5.375000</td>\n",
       "      <td>7.212500</td>\n",
       "      <td>241.666667</td>\n",
       "      <td>16.479167</td>\n",
       "      <td>48.291667</td>\n",
       "      <td>3.483333</td>\n",
       "      <td>77.166667</td>\n",
       "      <td>59780.000000</td>\n",
       "      <td>239.583333</td>\n",
       "      <td>30.979167</td>\n",
       "      <td>0.034833</td>\n",
       "      <td>70.60</td>\n",
       "      <td>68.27</td>\n",
       "    </tr>\n",
       "    <tr>\n",
       "      <th>1094</th>\n",
       "      <td>2023-12-31</td>\n",
       "      <td>0.016667</td>\n",
       "      <td>1003.708333</td>\n",
       "      <td>0.416667</td>\n",
       "      <td>7.450000</td>\n",
       "      <td>174.583333</td>\n",
       "      <td>14.804167</td>\n",
       "      <td>50.250000</td>\n",
       "      <td>3.662500</td>\n",
       "      <td>77.208333</td>\n",
       "      <td>69942.916667</td>\n",
       "      <td>178.750000</td>\n",
       "      <td>27.954167</td>\n",
       "      <td>0.014375</td>\n",
       "      <td>70.51</td>\n",
       "      <td>68.18</td>\n",
       "    </tr>\n",
       "  </tbody>\n",
       "</table>\n",
       "<p>1095 rows × 16 columns</p>\n",
       "</div>"
      ],
      "text/plain": [
       "      timestamp  precipitation  pressure_msl   sunshine  temperature  \\\n",
       "0    2019-01-01       0.058333   1021.962500   0.875000     6.250000   \n",
       "1    2019-01-02       0.000000   1029.574167  13.041667     2.420833   \n",
       "2    2019-01-03       0.000000   1036.089167   7.791667    -0.287500   \n",
       "3    2019-01-04       0.004167   1031.060000   0.000000     2.587500   \n",
       "4    2019-01-05       0.158333   1023.469583   0.000000     6.958333   \n",
       "...         ...            ...           ...        ...          ...   \n",
       "1090 2023-12-27       0.000000   1018.058333   0.000000     4.479167   \n",
       "1091 2023-12-28       0.000000   1010.620833   5.333333     9.316667   \n",
       "1092 2023-12-29       0.191667   1006.341667   0.000000     9.204167   \n",
       "1093 2023-12-30       0.029167   1010.833333   5.375000     7.212500   \n",
       "1094 2023-12-31       0.016667   1003.708333   0.416667     7.450000   \n",
       "\n",
       "      wind_direction  wind_speed  cloud_cover  dew_point  relative_humidity  \\\n",
       "0         277.916667   28.220833    86.166667   3.387500          82.083333   \n",
       "1         308.333333   21.941667    37.333333  -2.795833          69.041667   \n",
       "2         275.833333    9.320833    51.541667  -2.504167          85.166667   \n",
       "3         270.000000   17.945833    94.041667   1.558333          92.750000   \n",
       "4         305.416667   20.158333    94.041667   6.120833          94.375000   \n",
       "...              ...         ...          ...        ...                ...   \n",
       "1090      182.500000   12.654167    54.958333   2.112500          85.041667   \n",
       "1091      225.833333   19.783333    68.375000   4.058333          69.791667   \n",
       "1092      233.750000   21.345833    69.458333   5.662500          78.833333   \n",
       "1093      241.666667   16.479167    48.291667   3.483333          77.166667   \n",
       "1094      174.583333   14.804167    50.250000   3.662500          77.208333   \n",
       "\n",
       "        visibility  wind_gust_direction  wind_gust_speed     solar  \\\n",
       "0     21237.083333           279.583333        51.179167  0.015208   \n",
       "1     43075.416667           300.000000        35.795833  0.043208   \n",
       "2     32230.000000           277.500000        14.866667  0.034583   \n",
       "3      9067.083333           265.416667        30.662500  0.007333   \n",
       "4     21300.833333           300.833333        33.300000  0.013167   \n",
       "...            ...                  ...              ...       ...   \n",
       "1090  49354.166667           185.000000        22.287500  0.018708   \n",
       "1091  71236.250000           223.750000        37.275000  0.031625   \n",
       "1092  62213.750000           231.250000        41.150000  0.010708   \n",
       "1093  59780.000000           239.583333        30.979167  0.034833   \n",
       "1094  69942.916667           178.750000        27.954167  0.014375   \n",
       "\n",
       "      eisenbuetteler_wehr  wendenwehr  \n",
       "0                   70.75       69.24  \n",
       "1                   70.75       69.27  \n",
       "2                   70.73       69.33  \n",
       "3                   70.75       69.22  \n",
       "4                   70.75       69.38  \n",
       "...                   ...         ...  \n",
       "1090                71.06       68.75  \n",
       "1091                71.07       68.67  \n",
       "1092                70.72       68.42  \n",
       "1093                70.60       68.27  \n",
       "1094                70.51       68.18  \n",
       "\n",
       "[1095 rows x 16 columns]"
      ]
     },
     "execution_count": 101,
     "metadata": {},
     "output_type": "execute_result"
    }
   ],
   "source": [
    "df_wendenwehr"
   ]
  },
  {
   "cell_type": "code",
   "execution_count": null,
   "metadata": {},
   "outputs": [],
   "source": []
  },
  {
   "cell_type": "code",
   "execution_count": 102,
   "metadata": {},
   "outputs": [
    {
     "name": "stdout",
     "output_type": "stream",
     "text": [
      "Random Forest: RMSE = 0.16565379850429574\n",
      "0.16565379850429574\n"
     ]
    }
   ],
   "source": [
    "y_wendenwehr = df_wendenwehr[\"wendenwehr\"]\n",
    "X_wendenwehr = df_wendenwehr.drop(columns=[\"wendenwehr\",\"timestamp\"])\n",
    "\n",
    "\n",
    "X_train_wendenwehr, X_test_wendenwehr, y_train_wendenwehr, y_test_wendenwehr = train_test_split(X_wendenwehr, y_wendenwehr, test_size=0.2, random_state=42)\n",
    "\n",
    "# Scaling the data\n",
    "scaler6 = StandardScaler()\n",
    "X_train_scaled = scaler6.fit_transform(X_train_wendenwehr)\n",
    "X_test_scaled = scaler6.transform(X_test_wendenwehr)\n",
    "\n",
    "# Define models\n",
    "models = {\n",
    "    'Random Forest': RandomForestRegressor()\n",
    "}\n",
    "\n",
    "# Train and evaluate models\n",
    "rmse_results = {}\n",
    "for name, model in models.items():\n",
    "    model.fit(X_train_scaled, y_train_wendenwehr)\n",
    "    y_pred = model.predict(X_test_scaled)\n",
    "    rmse = np.sqrt(mean_squared_error(y_test_wendenwehr, y_pred))\n",
    "    rmse_results[name] = rmse\n",
    "\n",
    "# Display the RMSE results\n",
    "for name, rmse in rmse_results.items():\n",
    "    print(f'{name}: RMSE = {rmse}')\n",
    "\n",
    "import pickle\n",
    "\n",
    "pickle_file = \"model_wendenwehr.pkl\"\n",
    "with open(pickle_file, 'wb') as file:\n",
    "    pickle.dump(model, file)\n",
    "\n",
    "# Opening a pickel file\n",
    "\n",
    "with open(pickle_file, 'rb') as file:\n",
    "    loaded_model = pickle.load(file)\n",
    "\n",
    "# Use the loaded model to make predictions\n",
    "predictions = loaded_model.predict(X_test_scaled)\n",
    "rmse = np.sqrt(mean_squared_error(y_test_wendenwehr, predictions))\n",
    "print(rmse)\n"
   ]
  },
  {
   "cell_type": "markdown",
   "metadata": {},
   "source": [
    "Testing Pipeline"
   ]
  },
  {
   "cell_type": "code",
   "execution_count": 146,
   "metadata": {},
   "outputs": [],
   "source": [
    "weather_data_okertal = get_forecast(\"okertal\")\n",
    "# weather_data_schladen = get_forecast(\"schladen\")\n",
    "# weather_data_ohrum = get_forecast(\"ohrum\")\n",
    "# weather_data_bridge = get_forecast(\"schaeferbruecke\")\n",
    "# weather_data_eisenbuettel = get_forecast(\"eisenbuetteler_wehr\")\n",
    "# weather_data_wendenwehr = get_forecast(\"wendenwehr\")"
   ]
  },
  {
   "cell_type": "code",
   "execution_count": 179,
   "metadata": {},
   "outputs": [],
   "source": [
    "import pickle\n",
    "\n",
    "\n",
    "def predict_okertal(weather_data_okertal):\n",
    "    # weather_data_okertal.reset_index(inplace=True)\n",
    "    # print(weather_data_okertal)\n",
    "    # weather_data_okertal = weather_data_okertal.drop(columns=[\"timestamp\"])\n",
    "\n",
    "    pickle_file = \"model_okertal.pkl\"\n",
    "    with open(pickle_file, 'rb') as file:\n",
    "        loaded_model = pickle.load(file)\n",
    "\n",
    "    scaled = scaler1.transform(weather_data_okertal)\n",
    "    fill = loaded_model.predict(scaled)\n",
    "\n",
    "    return fill\n",
    "\n",
    "\n",
    "def predict_schladen(fill,weather_data_schladen):\n",
    "\n",
    "    # weather_data_schladen.reset_index(inplace=True)\n",
    "    # weather_data_schladen = weather_data_schladen.drop(columns=[\"timestamp\"])\n",
    "    fill_df = pd.DataFrame(fill, index=weather_data_schladen.index, columns=['fill_[mio.m³]'])\n",
    "    combined_df = weather_data_schladen.join(fill_df, how=\"inner\")\n",
    "\n",
    "    pickle_file = \"model_schladen.pkl\"\n",
    "    with open(pickle_file, 'rb') as file:\n",
    "        loaded_model = pickle.load(file)\n",
    "\n",
    "    scaled = scaler2.transform(combined_df)\n",
    "\n",
    "    schladen = loaded_model.predict(scaled)\n",
    "    return schladen\n",
    "\n",
    "def predict_ohrum(schladen, weather_data_ohrum):\n",
    "\n",
    "    # weather_data_ohrum.reset_index(inplace=True)\n",
    "    # weather_data_ohrum = weather_data_ohrum.drop(columns=[\"timestamp\"])\n",
    "\n",
    "    fill_df = pd.DataFrame(schladen, index=weather_data_ohrum.index, columns=['schladen'])\n",
    "    combined_df = weather_data_ohrum.join(fill_df, how=\"inner\")\n",
    "\n",
    "    pickle_file = \"model_ohrum.pkl\"\n",
    "    with open(pickle_file, 'rb') as file:\n",
    "        loaded_model = pickle.load(file)\n",
    "\n",
    "    scaled = scaler3.transform(combined_df)\n",
    "    ohrum = loaded_model.predict(scaled)\n",
    "    return ohrum\n",
    "\n",
    "def predict_bridge(ohrum, weather_data_bridge):\n",
    "\n",
    "    # weather_data_bridge.reset_index(inplace=True)\n",
    "    # weather_data_bridge = weather_data_bridge.drop(columns=[\"timestamp\"])\n",
    "\n",
    "    fill_df = pd.DataFrame(ohrum, index=weather_data_bridge.index, columns=['ohrum_level'])\n",
    "    combined_df = weather_data_bridge.join(fill_df, how=\"inner\")\n",
    "\n",
    "    pickle_file = \"model_bridge.pkl\"\n",
    "    with open(pickle_file, 'rb') as file:\n",
    "        loaded_model = pickle.load(file)\n",
    "\n",
    "    scaled = scaler4.transform(combined_df)\n",
    "    bridge = loaded_model.predict(scaled)\n",
    "\n",
    "    return bridge\n",
    "\n",
    "def predict_eisenbuettel(bridge, weather_data_eisenbuettel):\n",
    "\n",
    "    # weather_data_eisenbuettel.reset_index(inplace=True)\n",
    "    # weather_data_eisenbuettel = weather_data_eisenbuettel.drop(columns=[\"timestamp\"])\n",
    "    fill_df = pd.DataFrame(bridge, index=weather_data_eisenbuettel.index, columns=['schaeferbridge'])\n",
    "    combined_df = weather_data_eisenbuettel.join(fill_df, how=\"inner\")\n",
    "\n",
    "    pickle_file = \"model_eisenbuettel.pkl\"\n",
    "    with open(pickle_file, 'rb') as file:\n",
    "        loaded_model = pickle.load(file)\n",
    "\n",
    "    scaled = scaler5.transform(combined_df)\n",
    "    eisenbuettel = loaded_model.predict(scaled)\n",
    "\n",
    "    return eisenbuettel\n",
    "\n",
    "def predict_wendenwehr(eisenbuettel, weather_data_wendenwehr):\n",
    "\n",
    "    # weather_data_wendenwehr.reset_index(inplace=True)\n",
    "    # weather_data_wendenwehr = weather_data_wendenwehr.drop(columns=[\"timestamp\"])\n",
    "    fill_df = pd.DataFrame(eisenbuettel, index=weather_data_wendenwehr.index, columns=['eisenbuetteler_wehr'])\n",
    "    combined_df = weather_data_wendenwehr.join(fill_df, how=\"inner\")\n",
    "\n",
    "    pickle_file = \"model_wendenwehr.pkl\"\n",
    "    with open(pickle_file, 'rb') as file:\n",
    "        loaded_model = pickle.load(file)\n",
    "\n",
    "    scaled = scaler6.transform(combined_df)\n",
    "    wendenwehr = loaded_model.predict(scaled)\n",
    "\n",
    "    return wendenwehr\n"
   ]
  },
  {
   "cell_type": "code",
   "execution_count": 169,
   "metadata": {},
   "outputs": [],
   "source": [
    "def forecast():\n",
    "\t# okertal\n",
    "\tokertal_weather = get_forecast(\"okertal\")\n",
    "\tfill = predict_okertal(okertal_weather)\n",
    "\n",
    "\t# schladen\n",
    "\tschladen_weather = get_forecast(\"schladen\")\n",
    "\tschladen = predict_schladen(fill, schladen_weather)\n",
    "\n",
    "\t# ohrum\n",
    "\tohrum_weather = get_forecast(\"ohrum\")\n",
    "\tohrum = predict_ohrum(schladen, ohrum_weather)\n",
    "\n",
    "\t# schaeferbruecke\n",
    "\tschaeferbruecke_weather = get_forecast(\"schaeferbruecke\")\n",
    "\tschaeferbruecke = predict_bridge(ohrum, schaeferbruecke_weather)\n",
    "\n",
    "\t# eisenbuetteler_wehr\n",
    "\teisenbuetteler_wehr_weather = get_forecast(\"eisenbuetteler_wehr\")\n",
    "\teisenbuetteler_wehr = predict_eisenbuettel(schaeferbruecke, eisenbuetteler_wehr_weather)\n",
    "\n",
    "\t# wendenwehr\n",
    "\twendenwehr_weather = get_forecast(\"wendenwehr\")\n",
    "\twendenwehr = predict_wendenwehr(eisenbuetteler_wehr, wendenwehr_weather)\n",
    "\n",
    "\treturn wendenwehr"
   ]
  },
  {
   "cell_type": "code",
   "execution_count": 226,
   "metadata": {},
   "outputs": [
    {
     "data": {
      "text/plain": [
       "array([27.51748, 29.80684, 25.99978, 28.07637, 28.35667, 27.83294,\n",
       "       29.10294, 27.55397, 30.10101, 30.43844])"
      ]
     },
     "execution_count": 226,
     "metadata": {},
     "output_type": "execute_result"
    }
   ],
   "source": [
    "okertal_weather = get_forecast(\"okertal\")\n",
    "fill = predict_okertal(okertal_weather)\n",
    "fill"
   ]
  },
  {
   "cell_type": "code",
   "execution_count": 227,
   "metadata": {},
   "outputs": [
    {
     "data": {
      "text/plain": [
       "4098    40.483\n",
       "4099    41.678\n",
       "4100    41.765\n",
       "4101    43.181\n",
       "4102    46.020\n",
       "4103    47.209\n",
       "4104    47.153\n",
       "4105    46.513\n",
       "4106    45.392\n",
       "4107    44.588\n",
       "Name: fill_[mio.m³], dtype: float64"
      ]
     },
     "execution_count": 227,
     "metadata": {},
     "output_type": "execute_result"
    }
   ],
   "source": [
    "filtered_df = df_okertal[(df_okertal[\"timestamp\"] >= \"2023-12-21\") & (df_okertal[\"timestamp\"] <= \"2023-12-30\")]\n",
    "filtered_df[\"fill_[mio.m³]\"]"
   ]
  },
  {
   "cell_type": "code",
   "execution_count": 228,
   "metadata": {},
   "outputs": [
    {
     "data": {
      "application/vnd.plotly.v1+json": {
       "config": {
        "plotlyServerURL": "https://plot.ly"
       },
       "data": [
        {
         "mode": "lines",
         "name": "Actual",
         "type": "scatter",
         "x": [
          "2023-12-21T00:00:00",
          "2023-12-22T00:00:00",
          "2023-12-23T00:00:00",
          "2023-12-24T00:00:00",
          "2023-12-25T00:00:00",
          "2023-12-26T00:00:00",
          "2023-12-27T00:00:00",
          "2023-12-28T00:00:00",
          "2023-12-29T00:00:00",
          "2023-12-30T00:00:00"
         ],
         "y": [
          40.483,
          41.678,
          41.765,
          43.181,
          46.02,
          47.209,
          47.153,
          46.513,
          45.392,
          44.588
         ]
        },
        {
         "mode": "lines",
         "name": "Forecast",
         "type": "scatter",
         "x": [
          "2023-12-21T00:00:00",
          "2023-12-22T00:00:00",
          "2023-12-23T00:00:00",
          "2023-12-24T00:00:00",
          "2023-12-25T00:00:00",
          "2023-12-26T00:00:00",
          "2023-12-27T00:00:00",
          "2023-12-28T00:00:00",
          "2023-12-29T00:00:00",
          "2023-12-30T00:00:00"
         ],
         "y": [
          27.51748,
          29.80684000000002,
          25.999780000000015,
          28.07637,
          28.35667000000001,
          27.83293999999999,
          29.10294,
          27.55397,
          30.101010000000002,
          30.43844
         ]
        }
       ],
       "layout": {
        "legend": {
         "x": 0.01,
         "xanchor": "left",
         "y": 0.99,
         "yanchor": "top"
        },
        "template": {
         "data": {
          "bar": [
           {
            "error_x": {
             "color": "#2a3f5f"
            },
            "error_y": {
             "color": "#2a3f5f"
            },
            "marker": {
             "line": {
              "color": "#E5ECF6",
              "width": 0.5
             },
             "pattern": {
              "fillmode": "overlay",
              "size": 10,
              "solidity": 0.2
             }
            },
            "type": "bar"
           }
          ],
          "barpolar": [
           {
            "marker": {
             "line": {
              "color": "#E5ECF6",
              "width": 0.5
             },
             "pattern": {
              "fillmode": "overlay",
              "size": 10,
              "solidity": 0.2
             }
            },
            "type": "barpolar"
           }
          ],
          "carpet": [
           {
            "aaxis": {
             "endlinecolor": "#2a3f5f",
             "gridcolor": "white",
             "linecolor": "white",
             "minorgridcolor": "white",
             "startlinecolor": "#2a3f5f"
            },
            "baxis": {
             "endlinecolor": "#2a3f5f",
             "gridcolor": "white",
             "linecolor": "white",
             "minorgridcolor": "white",
             "startlinecolor": "#2a3f5f"
            },
            "type": "carpet"
           }
          ],
          "choropleth": [
           {
            "colorbar": {
             "outlinewidth": 0,
             "ticks": ""
            },
            "type": "choropleth"
           }
          ],
          "contour": [
           {
            "colorbar": {
             "outlinewidth": 0,
             "ticks": ""
            },
            "colorscale": [
             [
              0,
              "#0d0887"
             ],
             [
              0.1111111111111111,
              "#46039f"
             ],
             [
              0.2222222222222222,
              "#7201a8"
             ],
             [
              0.3333333333333333,
              "#9c179e"
             ],
             [
              0.4444444444444444,
              "#bd3786"
             ],
             [
              0.5555555555555556,
              "#d8576b"
             ],
             [
              0.6666666666666666,
              "#ed7953"
             ],
             [
              0.7777777777777778,
              "#fb9f3a"
             ],
             [
              0.8888888888888888,
              "#fdca26"
             ],
             [
              1,
              "#f0f921"
             ]
            ],
            "type": "contour"
           }
          ],
          "contourcarpet": [
           {
            "colorbar": {
             "outlinewidth": 0,
             "ticks": ""
            },
            "type": "contourcarpet"
           }
          ],
          "heatmap": [
           {
            "colorbar": {
             "outlinewidth": 0,
             "ticks": ""
            },
            "colorscale": [
             [
              0,
              "#0d0887"
             ],
             [
              0.1111111111111111,
              "#46039f"
             ],
             [
              0.2222222222222222,
              "#7201a8"
             ],
             [
              0.3333333333333333,
              "#9c179e"
             ],
             [
              0.4444444444444444,
              "#bd3786"
             ],
             [
              0.5555555555555556,
              "#d8576b"
             ],
             [
              0.6666666666666666,
              "#ed7953"
             ],
             [
              0.7777777777777778,
              "#fb9f3a"
             ],
             [
              0.8888888888888888,
              "#fdca26"
             ],
             [
              1,
              "#f0f921"
             ]
            ],
            "type": "heatmap"
           }
          ],
          "heatmapgl": [
           {
            "colorbar": {
             "outlinewidth": 0,
             "ticks": ""
            },
            "colorscale": [
             [
              0,
              "#0d0887"
             ],
             [
              0.1111111111111111,
              "#46039f"
             ],
             [
              0.2222222222222222,
              "#7201a8"
             ],
             [
              0.3333333333333333,
              "#9c179e"
             ],
             [
              0.4444444444444444,
              "#bd3786"
             ],
             [
              0.5555555555555556,
              "#d8576b"
             ],
             [
              0.6666666666666666,
              "#ed7953"
             ],
             [
              0.7777777777777778,
              "#fb9f3a"
             ],
             [
              0.8888888888888888,
              "#fdca26"
             ],
             [
              1,
              "#f0f921"
             ]
            ],
            "type": "heatmapgl"
           }
          ],
          "histogram": [
           {
            "marker": {
             "pattern": {
              "fillmode": "overlay",
              "size": 10,
              "solidity": 0.2
             }
            },
            "type": "histogram"
           }
          ],
          "histogram2d": [
           {
            "colorbar": {
             "outlinewidth": 0,
             "ticks": ""
            },
            "colorscale": [
             [
              0,
              "#0d0887"
             ],
             [
              0.1111111111111111,
              "#46039f"
             ],
             [
              0.2222222222222222,
              "#7201a8"
             ],
             [
              0.3333333333333333,
              "#9c179e"
             ],
             [
              0.4444444444444444,
              "#bd3786"
             ],
             [
              0.5555555555555556,
              "#d8576b"
             ],
             [
              0.6666666666666666,
              "#ed7953"
             ],
             [
              0.7777777777777778,
              "#fb9f3a"
             ],
             [
              0.8888888888888888,
              "#fdca26"
             ],
             [
              1,
              "#f0f921"
             ]
            ],
            "type": "histogram2d"
           }
          ],
          "histogram2dcontour": [
           {
            "colorbar": {
             "outlinewidth": 0,
             "ticks": ""
            },
            "colorscale": [
             [
              0,
              "#0d0887"
             ],
             [
              0.1111111111111111,
              "#46039f"
             ],
             [
              0.2222222222222222,
              "#7201a8"
             ],
             [
              0.3333333333333333,
              "#9c179e"
             ],
             [
              0.4444444444444444,
              "#bd3786"
             ],
             [
              0.5555555555555556,
              "#d8576b"
             ],
             [
              0.6666666666666666,
              "#ed7953"
             ],
             [
              0.7777777777777778,
              "#fb9f3a"
             ],
             [
              0.8888888888888888,
              "#fdca26"
             ],
             [
              1,
              "#f0f921"
             ]
            ],
            "type": "histogram2dcontour"
           }
          ],
          "mesh3d": [
           {
            "colorbar": {
             "outlinewidth": 0,
             "ticks": ""
            },
            "type": "mesh3d"
           }
          ],
          "parcoords": [
           {
            "line": {
             "colorbar": {
              "outlinewidth": 0,
              "ticks": ""
             }
            },
            "type": "parcoords"
           }
          ],
          "pie": [
           {
            "automargin": true,
            "type": "pie"
           }
          ],
          "scatter": [
           {
            "fillpattern": {
             "fillmode": "overlay",
             "size": 10,
             "solidity": 0.2
            },
            "type": "scatter"
           }
          ],
          "scatter3d": [
           {
            "line": {
             "colorbar": {
              "outlinewidth": 0,
              "ticks": ""
             }
            },
            "marker": {
             "colorbar": {
              "outlinewidth": 0,
              "ticks": ""
             }
            },
            "type": "scatter3d"
           }
          ],
          "scattercarpet": [
           {
            "marker": {
             "colorbar": {
              "outlinewidth": 0,
              "ticks": ""
             }
            },
            "type": "scattercarpet"
           }
          ],
          "scattergeo": [
           {
            "marker": {
             "colorbar": {
              "outlinewidth": 0,
              "ticks": ""
             }
            },
            "type": "scattergeo"
           }
          ],
          "scattergl": [
           {
            "marker": {
             "colorbar": {
              "outlinewidth": 0,
              "ticks": ""
             }
            },
            "type": "scattergl"
           }
          ],
          "scattermapbox": [
           {
            "marker": {
             "colorbar": {
              "outlinewidth": 0,
              "ticks": ""
             }
            },
            "type": "scattermapbox"
           }
          ],
          "scatterpolar": [
           {
            "marker": {
             "colorbar": {
              "outlinewidth": 0,
              "ticks": ""
             }
            },
            "type": "scatterpolar"
           }
          ],
          "scatterpolargl": [
           {
            "marker": {
             "colorbar": {
              "outlinewidth": 0,
              "ticks": ""
             }
            },
            "type": "scatterpolargl"
           }
          ],
          "scatterternary": [
           {
            "marker": {
             "colorbar": {
              "outlinewidth": 0,
              "ticks": ""
             }
            },
            "type": "scatterternary"
           }
          ],
          "surface": [
           {
            "colorbar": {
             "outlinewidth": 0,
             "ticks": ""
            },
            "colorscale": [
             [
              0,
              "#0d0887"
             ],
             [
              0.1111111111111111,
              "#46039f"
             ],
             [
              0.2222222222222222,
              "#7201a8"
             ],
             [
              0.3333333333333333,
              "#9c179e"
             ],
             [
              0.4444444444444444,
              "#bd3786"
             ],
             [
              0.5555555555555556,
              "#d8576b"
             ],
             [
              0.6666666666666666,
              "#ed7953"
             ],
             [
              0.7777777777777778,
              "#fb9f3a"
             ],
             [
              0.8888888888888888,
              "#fdca26"
             ],
             [
              1,
              "#f0f921"
             ]
            ],
            "type": "surface"
           }
          ],
          "table": [
           {
            "cells": {
             "fill": {
              "color": "#EBF0F8"
             },
             "line": {
              "color": "white"
             }
            },
            "header": {
             "fill": {
              "color": "#C8D4E3"
             },
             "line": {
              "color": "white"
             }
            },
            "type": "table"
           }
          ]
         },
         "layout": {
          "annotationdefaults": {
           "arrowcolor": "#2a3f5f",
           "arrowhead": 0,
           "arrowwidth": 1
          },
          "autotypenumbers": "strict",
          "coloraxis": {
           "colorbar": {
            "outlinewidth": 0,
            "ticks": ""
           }
          },
          "colorscale": {
           "diverging": [
            [
             0,
             "#8e0152"
            ],
            [
             0.1,
             "#c51b7d"
            ],
            [
             0.2,
             "#de77ae"
            ],
            [
             0.3,
             "#f1b6da"
            ],
            [
             0.4,
             "#fde0ef"
            ],
            [
             0.5,
             "#f7f7f7"
            ],
            [
             0.6,
             "#e6f5d0"
            ],
            [
             0.7,
             "#b8e186"
            ],
            [
             0.8,
             "#7fbc41"
            ],
            [
             0.9,
             "#4d9221"
            ],
            [
             1,
             "#276419"
            ]
           ],
           "sequential": [
            [
             0,
             "#0d0887"
            ],
            [
             0.1111111111111111,
             "#46039f"
            ],
            [
             0.2222222222222222,
             "#7201a8"
            ],
            [
             0.3333333333333333,
             "#9c179e"
            ],
            [
             0.4444444444444444,
             "#bd3786"
            ],
            [
             0.5555555555555556,
             "#d8576b"
            ],
            [
             0.6666666666666666,
             "#ed7953"
            ],
            [
             0.7777777777777778,
             "#fb9f3a"
            ],
            [
             0.8888888888888888,
             "#fdca26"
            ],
            [
             1,
             "#f0f921"
            ]
           ],
           "sequentialminus": [
            [
             0,
             "#0d0887"
            ],
            [
             0.1111111111111111,
             "#46039f"
            ],
            [
             0.2222222222222222,
             "#7201a8"
            ],
            [
             0.3333333333333333,
             "#9c179e"
            ],
            [
             0.4444444444444444,
             "#bd3786"
            ],
            [
             0.5555555555555556,
             "#d8576b"
            ],
            [
             0.6666666666666666,
             "#ed7953"
            ],
            [
             0.7777777777777778,
             "#fb9f3a"
            ],
            [
             0.8888888888888888,
             "#fdca26"
            ],
            [
             1,
             "#f0f921"
            ]
           ]
          },
          "colorway": [
           "#636efa",
           "#EF553B",
           "#00cc96",
           "#ab63fa",
           "#FFA15A",
           "#19d3f3",
           "#FF6692",
           "#B6E880",
           "#FF97FF",
           "#FECB52"
          ],
          "font": {
           "color": "#2a3f5f"
          },
          "geo": {
           "bgcolor": "white",
           "lakecolor": "white",
           "landcolor": "#E5ECF6",
           "showlakes": true,
           "showland": true,
           "subunitcolor": "white"
          },
          "hoverlabel": {
           "align": "left"
          },
          "hovermode": "closest",
          "mapbox": {
           "style": "light"
          },
          "paper_bgcolor": "white",
          "plot_bgcolor": "#E5ECF6",
          "polar": {
           "angularaxis": {
            "gridcolor": "white",
            "linecolor": "white",
            "ticks": ""
           },
           "bgcolor": "#E5ECF6",
           "radialaxis": {
            "gridcolor": "white",
            "linecolor": "white",
            "ticks": ""
           }
          },
          "scene": {
           "xaxis": {
            "backgroundcolor": "#E5ECF6",
            "gridcolor": "white",
            "gridwidth": 2,
            "linecolor": "white",
            "showbackground": true,
            "ticks": "",
            "zerolinecolor": "white"
           },
           "yaxis": {
            "backgroundcolor": "#E5ECF6",
            "gridcolor": "white",
            "gridwidth": 2,
            "linecolor": "white",
            "showbackground": true,
            "ticks": "",
            "zerolinecolor": "white"
           },
           "zaxis": {
            "backgroundcolor": "#E5ECF6",
            "gridcolor": "white",
            "gridwidth": 2,
            "linecolor": "white",
            "showbackground": true,
            "ticks": "",
            "zerolinecolor": "white"
           }
          },
          "shapedefaults": {
           "line": {
            "color": "#2a3f5f"
           }
          },
          "ternary": {
           "aaxis": {
            "gridcolor": "white",
            "linecolor": "white",
            "ticks": ""
           },
           "baxis": {
            "gridcolor": "white",
            "linecolor": "white",
            "ticks": ""
           },
           "bgcolor": "#E5ECF6",
           "caxis": {
            "gridcolor": "white",
            "linecolor": "white",
            "ticks": ""
           }
          },
          "title": {
           "x": 0.05
          },
          "xaxis": {
           "automargin": true,
           "gridcolor": "white",
           "linecolor": "white",
           "ticks": "",
           "title": {
            "standoff": 15
           },
           "zerolinecolor": "white",
           "zerolinewidth": 2
          },
          "yaxis": {
           "automargin": true,
           "gridcolor": "white",
           "linecolor": "white",
           "ticks": "",
           "title": {
            "standoff": 15
           },
           "zerolinecolor": "white",
           "zerolinewidth": 2
          }
         }
        },
        "title": {
         "text": "Okertal Actual vs Forecast Data"
        },
        "xaxis": {
         "tickangle": 45
        },
        "yaxis": {
         "dtick": 5,
         "range": [
          15,
          58
         ]
        }
       }
      }
     },
     "metadata": {},
     "output_type": "display_data"
    }
   ],
   "source": [
    "import plotly.graph_objects as go\n",
    "import numpy as np\n",
    "\n",
    "fig = go.Figure()\n",
    "fig.add_trace(go.Scatter(x=filtered_df[\"timestamp\"], y=filtered_df[\"fill_[mio.m³]\"], mode='lines', name='Actual'))\n",
    "fig.add_trace(go.Scatter(x=filtered_df[\"timestamp\"], y=fill, mode='lines', name='Forecast'))\n",
    "\n",
    "y_min = np.floor(min(filtered_df[\"fill_[mio.m³]\"].min(), fill.min()))\n",
    "y_max = np.ceil(max(filtered_df[\"fill_[mio.m³]\"].max(), fill.max()))\n",
    "\n",
    "fig.update_layout(\n",
    "    title=\"Okertal Actual vs Forecast Data\",\n",
    "    xaxis=dict(\n",
    "        tickangle=45\n",
    "    ),\n",
    "    yaxis=dict(\n",
    "        range=[y_min - 10, y_max + 10],\n",
    "        dtick=5\n",
    "    ),\n",
    "    legend=dict(\n",
    "        yanchor=\"top\",\n",
    "        y=0.99,\n",
    "        xanchor=\"left\",\n",
    "        x=0.01\n",
    "    )\n",
    ")\n",
    "\n",
    "fig.show()"
   ]
  },
  {
   "cell_type": "code",
   "execution_count": 229,
   "metadata": {},
   "outputs": [
    {
     "data": {
      "text/plain": [
       "array([89.678  , 89.7431 , 89.5506 , 89.5798 , 89.5827 , 89.5748 ,\n",
       "       89.4879 , 89.53073, 89.5926 , 89.6372 ])"
      ]
     },
     "execution_count": 229,
     "metadata": {},
     "output_type": "execute_result"
    }
   ],
   "source": [
    "schladen_weather = get_forecast(\"schladen\")\n",
    "schladen = predict_schladen(fill, schladen_weather)\n",
    "schladen"
   ]
  },
  {
   "cell_type": "code",
   "execution_count": 230,
   "metadata": {},
   "outputs": [
    {
     "data": {
      "text/plain": [
       "1084    90.12\n",
       "1085    90.75\n",
       "1086    90.94\n",
       "1087    91.48\n",
       "1088    91.51\n",
       "1089    91.44\n",
       "1090    91.57\n",
       "1091    91.29\n",
       "1092    91.24\n",
       "1093    91.31\n",
       "Name: schladen, dtype: float64"
      ]
     },
     "execution_count": 230,
     "metadata": {},
     "output_type": "execute_result"
    }
   ],
   "source": [
    "filtered_df = df_schladen[(df_schladen[\"timestamp\"] >= \"2023-12-21\") & (df_schladen[\"timestamp\"] <= \"2023-12-30\")]\n",
    "filtered_df[\"schladen\"]"
   ]
  },
  {
   "cell_type": "code",
   "execution_count": 231,
   "metadata": {},
   "outputs": [
    {
     "data": {
      "application/vnd.plotly.v1+json": {
       "config": {
        "plotlyServerURL": "https://plot.ly"
       },
       "data": [
        {
         "mode": "lines",
         "name": "Actual",
         "type": "scatter",
         "x": [
          "2023-12-21T00:00:00",
          "2023-12-22T00:00:00",
          "2023-12-23T00:00:00",
          "2023-12-24T00:00:00",
          "2023-12-25T00:00:00",
          "2023-12-26T00:00:00",
          "2023-12-27T00:00:00",
          "2023-12-28T00:00:00",
          "2023-12-29T00:00:00",
          "2023-12-30T00:00:00"
         ],
         "y": [
          90.12,
          90.75,
          90.94,
          91.48,
          91.51,
          91.44,
          91.57,
          91.29,
          91.24,
          91.31
         ]
        },
        {
         "mode": "lines",
         "name": "Forecast",
         "type": "scatter",
         "x": [
          "2023-12-21T00:00:00",
          "2023-12-22T00:00:00",
          "2023-12-23T00:00:00",
          "2023-12-24T00:00:00",
          "2023-12-25T00:00:00",
          "2023-12-26T00:00:00",
          "2023-12-27T00:00:00",
          "2023-12-28T00:00:00",
          "2023-12-29T00:00:00",
          "2023-12-30T00:00:00"
         ],
         "y": [
          89.678,
          89.74309999999997,
          89.55060000000005,
          89.57980000000003,
          89.58270000000005,
          89.57480000000001,
          89.48789999999997,
          89.53073000000003,
          89.59259999999999,
          89.63719999999999
         ]
        }
       ],
       "layout": {
        "legend": {
         "x": 0.01,
         "xanchor": "left",
         "y": 0.99,
         "yanchor": "top"
        },
        "template": {
         "data": {
          "bar": [
           {
            "error_x": {
             "color": "#2a3f5f"
            },
            "error_y": {
             "color": "#2a3f5f"
            },
            "marker": {
             "line": {
              "color": "#E5ECF6",
              "width": 0.5
             },
             "pattern": {
              "fillmode": "overlay",
              "size": 10,
              "solidity": 0.2
             }
            },
            "type": "bar"
           }
          ],
          "barpolar": [
           {
            "marker": {
             "line": {
              "color": "#E5ECF6",
              "width": 0.5
             },
             "pattern": {
              "fillmode": "overlay",
              "size": 10,
              "solidity": 0.2
             }
            },
            "type": "barpolar"
           }
          ],
          "carpet": [
           {
            "aaxis": {
             "endlinecolor": "#2a3f5f",
             "gridcolor": "white",
             "linecolor": "white",
             "minorgridcolor": "white",
             "startlinecolor": "#2a3f5f"
            },
            "baxis": {
             "endlinecolor": "#2a3f5f",
             "gridcolor": "white",
             "linecolor": "white",
             "minorgridcolor": "white",
             "startlinecolor": "#2a3f5f"
            },
            "type": "carpet"
           }
          ],
          "choropleth": [
           {
            "colorbar": {
             "outlinewidth": 0,
             "ticks": ""
            },
            "type": "choropleth"
           }
          ],
          "contour": [
           {
            "colorbar": {
             "outlinewidth": 0,
             "ticks": ""
            },
            "colorscale": [
             [
              0,
              "#0d0887"
             ],
             [
              0.1111111111111111,
              "#46039f"
             ],
             [
              0.2222222222222222,
              "#7201a8"
             ],
             [
              0.3333333333333333,
              "#9c179e"
             ],
             [
              0.4444444444444444,
              "#bd3786"
             ],
             [
              0.5555555555555556,
              "#d8576b"
             ],
             [
              0.6666666666666666,
              "#ed7953"
             ],
             [
              0.7777777777777778,
              "#fb9f3a"
             ],
             [
              0.8888888888888888,
              "#fdca26"
             ],
             [
              1,
              "#f0f921"
             ]
            ],
            "type": "contour"
           }
          ],
          "contourcarpet": [
           {
            "colorbar": {
             "outlinewidth": 0,
             "ticks": ""
            },
            "type": "contourcarpet"
           }
          ],
          "heatmap": [
           {
            "colorbar": {
             "outlinewidth": 0,
             "ticks": ""
            },
            "colorscale": [
             [
              0,
              "#0d0887"
             ],
             [
              0.1111111111111111,
              "#46039f"
             ],
             [
              0.2222222222222222,
              "#7201a8"
             ],
             [
              0.3333333333333333,
              "#9c179e"
             ],
             [
              0.4444444444444444,
              "#bd3786"
             ],
             [
              0.5555555555555556,
              "#d8576b"
             ],
             [
              0.6666666666666666,
              "#ed7953"
             ],
             [
              0.7777777777777778,
              "#fb9f3a"
             ],
             [
              0.8888888888888888,
              "#fdca26"
             ],
             [
              1,
              "#f0f921"
             ]
            ],
            "type": "heatmap"
           }
          ],
          "heatmapgl": [
           {
            "colorbar": {
             "outlinewidth": 0,
             "ticks": ""
            },
            "colorscale": [
             [
              0,
              "#0d0887"
             ],
             [
              0.1111111111111111,
              "#46039f"
             ],
             [
              0.2222222222222222,
              "#7201a8"
             ],
             [
              0.3333333333333333,
              "#9c179e"
             ],
             [
              0.4444444444444444,
              "#bd3786"
             ],
             [
              0.5555555555555556,
              "#d8576b"
             ],
             [
              0.6666666666666666,
              "#ed7953"
             ],
             [
              0.7777777777777778,
              "#fb9f3a"
             ],
             [
              0.8888888888888888,
              "#fdca26"
             ],
             [
              1,
              "#f0f921"
             ]
            ],
            "type": "heatmapgl"
           }
          ],
          "histogram": [
           {
            "marker": {
             "pattern": {
              "fillmode": "overlay",
              "size": 10,
              "solidity": 0.2
             }
            },
            "type": "histogram"
           }
          ],
          "histogram2d": [
           {
            "colorbar": {
             "outlinewidth": 0,
             "ticks": ""
            },
            "colorscale": [
             [
              0,
              "#0d0887"
             ],
             [
              0.1111111111111111,
              "#46039f"
             ],
             [
              0.2222222222222222,
              "#7201a8"
             ],
             [
              0.3333333333333333,
              "#9c179e"
             ],
             [
              0.4444444444444444,
              "#bd3786"
             ],
             [
              0.5555555555555556,
              "#d8576b"
             ],
             [
              0.6666666666666666,
              "#ed7953"
             ],
             [
              0.7777777777777778,
              "#fb9f3a"
             ],
             [
              0.8888888888888888,
              "#fdca26"
             ],
             [
              1,
              "#f0f921"
             ]
            ],
            "type": "histogram2d"
           }
          ],
          "histogram2dcontour": [
           {
            "colorbar": {
             "outlinewidth": 0,
             "ticks": ""
            },
            "colorscale": [
             [
              0,
              "#0d0887"
             ],
             [
              0.1111111111111111,
              "#46039f"
             ],
             [
              0.2222222222222222,
              "#7201a8"
             ],
             [
              0.3333333333333333,
              "#9c179e"
             ],
             [
              0.4444444444444444,
              "#bd3786"
             ],
             [
              0.5555555555555556,
              "#d8576b"
             ],
             [
              0.6666666666666666,
              "#ed7953"
             ],
             [
              0.7777777777777778,
              "#fb9f3a"
             ],
             [
              0.8888888888888888,
              "#fdca26"
             ],
             [
              1,
              "#f0f921"
             ]
            ],
            "type": "histogram2dcontour"
           }
          ],
          "mesh3d": [
           {
            "colorbar": {
             "outlinewidth": 0,
             "ticks": ""
            },
            "type": "mesh3d"
           }
          ],
          "parcoords": [
           {
            "line": {
             "colorbar": {
              "outlinewidth": 0,
              "ticks": ""
             }
            },
            "type": "parcoords"
           }
          ],
          "pie": [
           {
            "automargin": true,
            "type": "pie"
           }
          ],
          "scatter": [
           {
            "fillpattern": {
             "fillmode": "overlay",
             "size": 10,
             "solidity": 0.2
            },
            "type": "scatter"
           }
          ],
          "scatter3d": [
           {
            "line": {
             "colorbar": {
              "outlinewidth": 0,
              "ticks": ""
             }
            },
            "marker": {
             "colorbar": {
              "outlinewidth": 0,
              "ticks": ""
             }
            },
            "type": "scatter3d"
           }
          ],
          "scattercarpet": [
           {
            "marker": {
             "colorbar": {
              "outlinewidth": 0,
              "ticks": ""
             }
            },
            "type": "scattercarpet"
           }
          ],
          "scattergeo": [
           {
            "marker": {
             "colorbar": {
              "outlinewidth": 0,
              "ticks": ""
             }
            },
            "type": "scattergeo"
           }
          ],
          "scattergl": [
           {
            "marker": {
             "colorbar": {
              "outlinewidth": 0,
              "ticks": ""
             }
            },
            "type": "scattergl"
           }
          ],
          "scattermapbox": [
           {
            "marker": {
             "colorbar": {
              "outlinewidth": 0,
              "ticks": ""
             }
            },
            "type": "scattermapbox"
           }
          ],
          "scatterpolar": [
           {
            "marker": {
             "colorbar": {
              "outlinewidth": 0,
              "ticks": ""
             }
            },
            "type": "scatterpolar"
           }
          ],
          "scatterpolargl": [
           {
            "marker": {
             "colorbar": {
              "outlinewidth": 0,
              "ticks": ""
             }
            },
            "type": "scatterpolargl"
           }
          ],
          "scatterternary": [
           {
            "marker": {
             "colorbar": {
              "outlinewidth": 0,
              "ticks": ""
             }
            },
            "type": "scatterternary"
           }
          ],
          "surface": [
           {
            "colorbar": {
             "outlinewidth": 0,
             "ticks": ""
            },
            "colorscale": [
             [
              0,
              "#0d0887"
             ],
             [
              0.1111111111111111,
              "#46039f"
             ],
             [
              0.2222222222222222,
              "#7201a8"
             ],
             [
              0.3333333333333333,
              "#9c179e"
             ],
             [
              0.4444444444444444,
              "#bd3786"
             ],
             [
              0.5555555555555556,
              "#d8576b"
             ],
             [
              0.6666666666666666,
              "#ed7953"
             ],
             [
              0.7777777777777778,
              "#fb9f3a"
             ],
             [
              0.8888888888888888,
              "#fdca26"
             ],
             [
              1,
              "#f0f921"
             ]
            ],
            "type": "surface"
           }
          ],
          "table": [
           {
            "cells": {
             "fill": {
              "color": "#EBF0F8"
             },
             "line": {
              "color": "white"
             }
            },
            "header": {
             "fill": {
              "color": "#C8D4E3"
             },
             "line": {
              "color": "white"
             }
            },
            "type": "table"
           }
          ]
         },
         "layout": {
          "annotationdefaults": {
           "arrowcolor": "#2a3f5f",
           "arrowhead": 0,
           "arrowwidth": 1
          },
          "autotypenumbers": "strict",
          "coloraxis": {
           "colorbar": {
            "outlinewidth": 0,
            "ticks": ""
           }
          },
          "colorscale": {
           "diverging": [
            [
             0,
             "#8e0152"
            ],
            [
             0.1,
             "#c51b7d"
            ],
            [
             0.2,
             "#de77ae"
            ],
            [
             0.3,
             "#f1b6da"
            ],
            [
             0.4,
             "#fde0ef"
            ],
            [
             0.5,
             "#f7f7f7"
            ],
            [
             0.6,
             "#e6f5d0"
            ],
            [
             0.7,
             "#b8e186"
            ],
            [
             0.8,
             "#7fbc41"
            ],
            [
             0.9,
             "#4d9221"
            ],
            [
             1,
             "#276419"
            ]
           ],
           "sequential": [
            [
             0,
             "#0d0887"
            ],
            [
             0.1111111111111111,
             "#46039f"
            ],
            [
             0.2222222222222222,
             "#7201a8"
            ],
            [
             0.3333333333333333,
             "#9c179e"
            ],
            [
             0.4444444444444444,
             "#bd3786"
            ],
            [
             0.5555555555555556,
             "#d8576b"
            ],
            [
             0.6666666666666666,
             "#ed7953"
            ],
            [
             0.7777777777777778,
             "#fb9f3a"
            ],
            [
             0.8888888888888888,
             "#fdca26"
            ],
            [
             1,
             "#f0f921"
            ]
           ],
           "sequentialminus": [
            [
             0,
             "#0d0887"
            ],
            [
             0.1111111111111111,
             "#46039f"
            ],
            [
             0.2222222222222222,
             "#7201a8"
            ],
            [
             0.3333333333333333,
             "#9c179e"
            ],
            [
             0.4444444444444444,
             "#bd3786"
            ],
            [
             0.5555555555555556,
             "#d8576b"
            ],
            [
             0.6666666666666666,
             "#ed7953"
            ],
            [
             0.7777777777777778,
             "#fb9f3a"
            ],
            [
             0.8888888888888888,
             "#fdca26"
            ],
            [
             1,
             "#f0f921"
            ]
           ]
          },
          "colorway": [
           "#636efa",
           "#EF553B",
           "#00cc96",
           "#ab63fa",
           "#FFA15A",
           "#19d3f3",
           "#FF6692",
           "#B6E880",
           "#FF97FF",
           "#FECB52"
          ],
          "font": {
           "color": "#2a3f5f"
          },
          "geo": {
           "bgcolor": "white",
           "lakecolor": "white",
           "landcolor": "#E5ECF6",
           "showlakes": true,
           "showland": true,
           "subunitcolor": "white"
          },
          "hoverlabel": {
           "align": "left"
          },
          "hovermode": "closest",
          "mapbox": {
           "style": "light"
          },
          "paper_bgcolor": "white",
          "plot_bgcolor": "#E5ECF6",
          "polar": {
           "angularaxis": {
            "gridcolor": "white",
            "linecolor": "white",
            "ticks": ""
           },
           "bgcolor": "#E5ECF6",
           "radialaxis": {
            "gridcolor": "white",
            "linecolor": "white",
            "ticks": ""
           }
          },
          "scene": {
           "xaxis": {
            "backgroundcolor": "#E5ECF6",
            "gridcolor": "white",
            "gridwidth": 2,
            "linecolor": "white",
            "showbackground": true,
            "ticks": "",
            "zerolinecolor": "white"
           },
           "yaxis": {
            "backgroundcolor": "#E5ECF6",
            "gridcolor": "white",
            "gridwidth": 2,
            "linecolor": "white",
            "showbackground": true,
            "ticks": "",
            "zerolinecolor": "white"
           },
           "zaxis": {
            "backgroundcolor": "#E5ECF6",
            "gridcolor": "white",
            "gridwidth": 2,
            "linecolor": "white",
            "showbackground": true,
            "ticks": "",
            "zerolinecolor": "white"
           }
          },
          "shapedefaults": {
           "line": {
            "color": "#2a3f5f"
           }
          },
          "ternary": {
           "aaxis": {
            "gridcolor": "white",
            "linecolor": "white",
            "ticks": ""
           },
           "baxis": {
            "gridcolor": "white",
            "linecolor": "white",
            "ticks": ""
           },
           "bgcolor": "#E5ECF6",
           "caxis": {
            "gridcolor": "white",
            "linecolor": "white",
            "ticks": ""
           }
          },
          "title": {
           "x": 0.05
          },
          "xaxis": {
           "automargin": true,
           "gridcolor": "white",
           "linecolor": "white",
           "ticks": "",
           "title": {
            "standoff": 15
           },
           "zerolinecolor": "white",
           "zerolinewidth": 2
          },
          "yaxis": {
           "automargin": true,
           "gridcolor": "white",
           "linecolor": "white",
           "ticks": "",
           "title": {
            "standoff": 15
           },
           "zerolinecolor": "white",
           "zerolinewidth": 2
          }
         }
        },
        "title": {
         "text": "Schladen Actual vs Forecast Data"
        },
        "xaxis": {
         "tickangle": 45
        },
        "yaxis": {
         "dtick": 5,
         "range": [
          79,
          102
         ]
        }
       }
      }
     },
     "metadata": {},
     "output_type": "display_data"
    }
   ],
   "source": [
    "import plotly.graph_objects as go\n",
    "import numpy as np\n",
    "\n",
    "fig = go.Figure()\n",
    "fig.add_trace(go.Scatter(x=filtered_df[\"timestamp\"], y=filtered_df[\"schladen\"], mode='lines', name='Actual'))\n",
    "fig.add_trace(go.Scatter(x=filtered_df[\"timestamp\"], y=schladen, mode='lines', name='Forecast'))\n",
    "\n",
    "y_min = np.floor(min(filtered_df[\"schladen\"].min(), schladen.min()))\n",
    "y_max = np.ceil(max(filtered_df[\"schladen\"].max(), fill.max()))\n",
    "\n",
    "fig.update_layout(\n",
    "    title=\"Schladen Actual vs Forecast Data\",\n",
    "    xaxis=dict(\n",
    "        tickangle=45\n",
    "    ),\n",
    "    yaxis=dict(\n",
    "        range=[y_min - 10, y_max + 10],\n",
    "        dtick=5\n",
    "    ),\n",
    "    legend=dict(\n",
    "        yanchor=\"top\",\n",
    "        y=0.99,\n",
    "        xanchor=\"left\",\n",
    "        x=0.01\n",
    "    )\n",
    ")\n",
    "\n",
    "fig.show()"
   ]
  },
  {
   "cell_type": "code",
   "execution_count": 232,
   "metadata": {},
   "outputs": [
    {
     "data": {
      "text/plain": [
       "array([77.3695 , 77.6229 , 77.1545 , 77.15334, 77.14864, 77.12674,\n",
       "       76.8439 , 76.9951 , 77.1214 , 77.3264 ])"
      ]
     },
     "execution_count": 232,
     "metadata": {},
     "output_type": "execute_result"
    }
   ],
   "source": [
    "ohrum_weather = get_forecast(\"ohrum\")\n",
    "ohrum = predict_ohrum(schladen, ohrum_weather)\n",
    "ohrum"
   ]
  },
  {
   "cell_type": "code",
   "execution_count": 233,
   "metadata": {},
   "outputs": [
    {
     "data": {
      "text/plain": [
       "1084    78.21\n",
       "1085    78.92\n",
       "1086    79.20\n",
       "1087    79.56\n",
       "1088    79.79\n",
       "1089    79.87\n",
       "1090    79.87\n",
       "1091    79.83\n",
       "1092    79.75\n",
       "1093    79.71\n",
       "Name: ohrum_level, dtype: float64"
      ]
     },
     "execution_count": 233,
     "metadata": {},
     "output_type": "execute_result"
    }
   ],
   "source": [
    "filtered_df = df_ohrum[(df_ohrum[\"timestamp\"] >= \"2023-12-21\") & (df_ohrum[\"timestamp\"] <= \"2023-12-30\")]\n",
    "filtered_df[\"ohrum_level\"]"
   ]
  },
  {
   "cell_type": "code",
   "execution_count": 234,
   "metadata": {},
   "outputs": [
    {
     "data": {
      "application/vnd.plotly.v1+json": {
       "config": {
        "plotlyServerURL": "https://plot.ly"
       },
       "data": [
        {
         "mode": "lines",
         "name": "Actual",
         "type": "scatter",
         "x": [
          "2023-12-21T00:00:00",
          "2023-12-22T00:00:00",
          "2023-12-23T00:00:00",
          "2023-12-24T00:00:00",
          "2023-12-25T00:00:00",
          "2023-12-26T00:00:00",
          "2023-12-27T00:00:00",
          "2023-12-28T00:00:00",
          "2023-12-29T00:00:00",
          "2023-12-30T00:00:00"
         ],
         "y": [
          78.21,
          78.92,
          79.2,
          79.56,
          79.79,
          79.87,
          79.87,
          79.83,
          79.75,
          79.71
         ]
        },
        {
         "mode": "lines",
         "name": "Forecast",
         "type": "scatter",
         "x": [
          "2023-12-21T00:00:00",
          "2023-12-22T00:00:00",
          "2023-12-23T00:00:00",
          "2023-12-24T00:00:00",
          "2023-12-25T00:00:00",
          "2023-12-26T00:00:00",
          "2023-12-27T00:00:00",
          "2023-12-28T00:00:00",
          "2023-12-29T00:00:00",
          "2023-12-30T00:00:00"
         ],
         "y": [
          77.36950000000003,
          77.62290000000003,
          77.15450000000003,
          77.15334000000001,
          77.14863999999992,
          77.12673999999996,
          76.84390000000003,
          76.99510000000004,
          77.12139999999995,
          77.32640000000004
         ]
        }
       ],
       "layout": {
        "legend": {
         "x": 0.01,
         "xanchor": "left",
         "y": 0.99,
         "yanchor": "top"
        },
        "template": {
         "data": {
          "bar": [
           {
            "error_x": {
             "color": "#2a3f5f"
            },
            "error_y": {
             "color": "#2a3f5f"
            },
            "marker": {
             "line": {
              "color": "#E5ECF6",
              "width": 0.5
             },
             "pattern": {
              "fillmode": "overlay",
              "size": 10,
              "solidity": 0.2
             }
            },
            "type": "bar"
           }
          ],
          "barpolar": [
           {
            "marker": {
             "line": {
              "color": "#E5ECF6",
              "width": 0.5
             },
             "pattern": {
              "fillmode": "overlay",
              "size": 10,
              "solidity": 0.2
             }
            },
            "type": "barpolar"
           }
          ],
          "carpet": [
           {
            "aaxis": {
             "endlinecolor": "#2a3f5f",
             "gridcolor": "white",
             "linecolor": "white",
             "minorgridcolor": "white",
             "startlinecolor": "#2a3f5f"
            },
            "baxis": {
             "endlinecolor": "#2a3f5f",
             "gridcolor": "white",
             "linecolor": "white",
             "minorgridcolor": "white",
             "startlinecolor": "#2a3f5f"
            },
            "type": "carpet"
           }
          ],
          "choropleth": [
           {
            "colorbar": {
             "outlinewidth": 0,
             "ticks": ""
            },
            "type": "choropleth"
           }
          ],
          "contour": [
           {
            "colorbar": {
             "outlinewidth": 0,
             "ticks": ""
            },
            "colorscale": [
             [
              0,
              "#0d0887"
             ],
             [
              0.1111111111111111,
              "#46039f"
             ],
             [
              0.2222222222222222,
              "#7201a8"
             ],
             [
              0.3333333333333333,
              "#9c179e"
             ],
             [
              0.4444444444444444,
              "#bd3786"
             ],
             [
              0.5555555555555556,
              "#d8576b"
             ],
             [
              0.6666666666666666,
              "#ed7953"
             ],
             [
              0.7777777777777778,
              "#fb9f3a"
             ],
             [
              0.8888888888888888,
              "#fdca26"
             ],
             [
              1,
              "#f0f921"
             ]
            ],
            "type": "contour"
           }
          ],
          "contourcarpet": [
           {
            "colorbar": {
             "outlinewidth": 0,
             "ticks": ""
            },
            "type": "contourcarpet"
           }
          ],
          "heatmap": [
           {
            "colorbar": {
             "outlinewidth": 0,
             "ticks": ""
            },
            "colorscale": [
             [
              0,
              "#0d0887"
             ],
             [
              0.1111111111111111,
              "#46039f"
             ],
             [
              0.2222222222222222,
              "#7201a8"
             ],
             [
              0.3333333333333333,
              "#9c179e"
             ],
             [
              0.4444444444444444,
              "#bd3786"
             ],
             [
              0.5555555555555556,
              "#d8576b"
             ],
             [
              0.6666666666666666,
              "#ed7953"
             ],
             [
              0.7777777777777778,
              "#fb9f3a"
             ],
             [
              0.8888888888888888,
              "#fdca26"
             ],
             [
              1,
              "#f0f921"
             ]
            ],
            "type": "heatmap"
           }
          ],
          "heatmapgl": [
           {
            "colorbar": {
             "outlinewidth": 0,
             "ticks": ""
            },
            "colorscale": [
             [
              0,
              "#0d0887"
             ],
             [
              0.1111111111111111,
              "#46039f"
             ],
             [
              0.2222222222222222,
              "#7201a8"
             ],
             [
              0.3333333333333333,
              "#9c179e"
             ],
             [
              0.4444444444444444,
              "#bd3786"
             ],
             [
              0.5555555555555556,
              "#d8576b"
             ],
             [
              0.6666666666666666,
              "#ed7953"
             ],
             [
              0.7777777777777778,
              "#fb9f3a"
             ],
             [
              0.8888888888888888,
              "#fdca26"
             ],
             [
              1,
              "#f0f921"
             ]
            ],
            "type": "heatmapgl"
           }
          ],
          "histogram": [
           {
            "marker": {
             "pattern": {
              "fillmode": "overlay",
              "size": 10,
              "solidity": 0.2
             }
            },
            "type": "histogram"
           }
          ],
          "histogram2d": [
           {
            "colorbar": {
             "outlinewidth": 0,
             "ticks": ""
            },
            "colorscale": [
             [
              0,
              "#0d0887"
             ],
             [
              0.1111111111111111,
              "#46039f"
             ],
             [
              0.2222222222222222,
              "#7201a8"
             ],
             [
              0.3333333333333333,
              "#9c179e"
             ],
             [
              0.4444444444444444,
              "#bd3786"
             ],
             [
              0.5555555555555556,
              "#d8576b"
             ],
             [
              0.6666666666666666,
              "#ed7953"
             ],
             [
              0.7777777777777778,
              "#fb9f3a"
             ],
             [
              0.8888888888888888,
              "#fdca26"
             ],
             [
              1,
              "#f0f921"
             ]
            ],
            "type": "histogram2d"
           }
          ],
          "histogram2dcontour": [
           {
            "colorbar": {
             "outlinewidth": 0,
             "ticks": ""
            },
            "colorscale": [
             [
              0,
              "#0d0887"
             ],
             [
              0.1111111111111111,
              "#46039f"
             ],
             [
              0.2222222222222222,
              "#7201a8"
             ],
             [
              0.3333333333333333,
              "#9c179e"
             ],
             [
              0.4444444444444444,
              "#bd3786"
             ],
             [
              0.5555555555555556,
              "#d8576b"
             ],
             [
              0.6666666666666666,
              "#ed7953"
             ],
             [
              0.7777777777777778,
              "#fb9f3a"
             ],
             [
              0.8888888888888888,
              "#fdca26"
             ],
             [
              1,
              "#f0f921"
             ]
            ],
            "type": "histogram2dcontour"
           }
          ],
          "mesh3d": [
           {
            "colorbar": {
             "outlinewidth": 0,
             "ticks": ""
            },
            "type": "mesh3d"
           }
          ],
          "parcoords": [
           {
            "line": {
             "colorbar": {
              "outlinewidth": 0,
              "ticks": ""
             }
            },
            "type": "parcoords"
           }
          ],
          "pie": [
           {
            "automargin": true,
            "type": "pie"
           }
          ],
          "scatter": [
           {
            "fillpattern": {
             "fillmode": "overlay",
             "size": 10,
             "solidity": 0.2
            },
            "type": "scatter"
           }
          ],
          "scatter3d": [
           {
            "line": {
             "colorbar": {
              "outlinewidth": 0,
              "ticks": ""
             }
            },
            "marker": {
             "colorbar": {
              "outlinewidth": 0,
              "ticks": ""
             }
            },
            "type": "scatter3d"
           }
          ],
          "scattercarpet": [
           {
            "marker": {
             "colorbar": {
              "outlinewidth": 0,
              "ticks": ""
             }
            },
            "type": "scattercarpet"
           }
          ],
          "scattergeo": [
           {
            "marker": {
             "colorbar": {
              "outlinewidth": 0,
              "ticks": ""
             }
            },
            "type": "scattergeo"
           }
          ],
          "scattergl": [
           {
            "marker": {
             "colorbar": {
              "outlinewidth": 0,
              "ticks": ""
             }
            },
            "type": "scattergl"
           }
          ],
          "scattermapbox": [
           {
            "marker": {
             "colorbar": {
              "outlinewidth": 0,
              "ticks": ""
             }
            },
            "type": "scattermapbox"
           }
          ],
          "scatterpolar": [
           {
            "marker": {
             "colorbar": {
              "outlinewidth": 0,
              "ticks": ""
             }
            },
            "type": "scatterpolar"
           }
          ],
          "scatterpolargl": [
           {
            "marker": {
             "colorbar": {
              "outlinewidth": 0,
              "ticks": ""
             }
            },
            "type": "scatterpolargl"
           }
          ],
          "scatterternary": [
           {
            "marker": {
             "colorbar": {
              "outlinewidth": 0,
              "ticks": ""
             }
            },
            "type": "scatterternary"
           }
          ],
          "surface": [
           {
            "colorbar": {
             "outlinewidth": 0,
             "ticks": ""
            },
            "colorscale": [
             [
              0,
              "#0d0887"
             ],
             [
              0.1111111111111111,
              "#46039f"
             ],
             [
              0.2222222222222222,
              "#7201a8"
             ],
             [
              0.3333333333333333,
              "#9c179e"
             ],
             [
              0.4444444444444444,
              "#bd3786"
             ],
             [
              0.5555555555555556,
              "#d8576b"
             ],
             [
              0.6666666666666666,
              "#ed7953"
             ],
             [
              0.7777777777777778,
              "#fb9f3a"
             ],
             [
              0.8888888888888888,
              "#fdca26"
             ],
             [
              1,
              "#f0f921"
             ]
            ],
            "type": "surface"
           }
          ],
          "table": [
           {
            "cells": {
             "fill": {
              "color": "#EBF0F8"
             },
             "line": {
              "color": "white"
             }
            },
            "header": {
             "fill": {
              "color": "#C8D4E3"
             },
             "line": {
              "color": "white"
             }
            },
            "type": "table"
           }
          ]
         },
         "layout": {
          "annotationdefaults": {
           "arrowcolor": "#2a3f5f",
           "arrowhead": 0,
           "arrowwidth": 1
          },
          "autotypenumbers": "strict",
          "coloraxis": {
           "colorbar": {
            "outlinewidth": 0,
            "ticks": ""
           }
          },
          "colorscale": {
           "diverging": [
            [
             0,
             "#8e0152"
            ],
            [
             0.1,
             "#c51b7d"
            ],
            [
             0.2,
             "#de77ae"
            ],
            [
             0.3,
             "#f1b6da"
            ],
            [
             0.4,
             "#fde0ef"
            ],
            [
             0.5,
             "#f7f7f7"
            ],
            [
             0.6,
             "#e6f5d0"
            ],
            [
             0.7,
             "#b8e186"
            ],
            [
             0.8,
             "#7fbc41"
            ],
            [
             0.9,
             "#4d9221"
            ],
            [
             1,
             "#276419"
            ]
           ],
           "sequential": [
            [
             0,
             "#0d0887"
            ],
            [
             0.1111111111111111,
             "#46039f"
            ],
            [
             0.2222222222222222,
             "#7201a8"
            ],
            [
             0.3333333333333333,
             "#9c179e"
            ],
            [
             0.4444444444444444,
             "#bd3786"
            ],
            [
             0.5555555555555556,
             "#d8576b"
            ],
            [
             0.6666666666666666,
             "#ed7953"
            ],
            [
             0.7777777777777778,
             "#fb9f3a"
            ],
            [
             0.8888888888888888,
             "#fdca26"
            ],
            [
             1,
             "#f0f921"
            ]
           ],
           "sequentialminus": [
            [
             0,
             "#0d0887"
            ],
            [
             0.1111111111111111,
             "#46039f"
            ],
            [
             0.2222222222222222,
             "#7201a8"
            ],
            [
             0.3333333333333333,
             "#9c179e"
            ],
            [
             0.4444444444444444,
             "#bd3786"
            ],
            [
             0.5555555555555556,
             "#d8576b"
            ],
            [
             0.6666666666666666,
             "#ed7953"
            ],
            [
             0.7777777777777778,
             "#fb9f3a"
            ],
            [
             0.8888888888888888,
             "#fdca26"
            ],
            [
             1,
             "#f0f921"
            ]
           ]
          },
          "colorway": [
           "#636efa",
           "#EF553B",
           "#00cc96",
           "#ab63fa",
           "#FFA15A",
           "#19d3f3",
           "#FF6692",
           "#B6E880",
           "#FF97FF",
           "#FECB52"
          ],
          "font": {
           "color": "#2a3f5f"
          },
          "geo": {
           "bgcolor": "white",
           "lakecolor": "white",
           "landcolor": "#E5ECF6",
           "showlakes": true,
           "showland": true,
           "subunitcolor": "white"
          },
          "hoverlabel": {
           "align": "left"
          },
          "hovermode": "closest",
          "mapbox": {
           "style": "light"
          },
          "paper_bgcolor": "white",
          "plot_bgcolor": "#E5ECF6",
          "polar": {
           "angularaxis": {
            "gridcolor": "white",
            "linecolor": "white",
            "ticks": ""
           },
           "bgcolor": "#E5ECF6",
           "radialaxis": {
            "gridcolor": "white",
            "linecolor": "white",
            "ticks": ""
           }
          },
          "scene": {
           "xaxis": {
            "backgroundcolor": "#E5ECF6",
            "gridcolor": "white",
            "gridwidth": 2,
            "linecolor": "white",
            "showbackground": true,
            "ticks": "",
            "zerolinecolor": "white"
           },
           "yaxis": {
            "backgroundcolor": "#E5ECF6",
            "gridcolor": "white",
            "gridwidth": 2,
            "linecolor": "white",
            "showbackground": true,
            "ticks": "",
            "zerolinecolor": "white"
           },
           "zaxis": {
            "backgroundcolor": "#E5ECF6",
            "gridcolor": "white",
            "gridwidth": 2,
            "linecolor": "white",
            "showbackground": true,
            "ticks": "",
            "zerolinecolor": "white"
           }
          },
          "shapedefaults": {
           "line": {
            "color": "#2a3f5f"
           }
          },
          "ternary": {
           "aaxis": {
            "gridcolor": "white",
            "linecolor": "white",
            "ticks": ""
           },
           "baxis": {
            "gridcolor": "white",
            "linecolor": "white",
            "ticks": ""
           },
           "bgcolor": "#E5ECF6",
           "caxis": {
            "gridcolor": "white",
            "linecolor": "white",
            "ticks": ""
           }
          },
          "title": {
           "x": 0.05
          },
          "xaxis": {
           "automargin": true,
           "gridcolor": "white",
           "linecolor": "white",
           "ticks": "",
           "title": {
            "standoff": 15
           },
           "zerolinecolor": "white",
           "zerolinewidth": 2
          },
          "yaxis": {
           "automargin": true,
           "gridcolor": "white",
           "linecolor": "white",
           "ticks": "",
           "title": {
            "standoff": 15
           },
           "zerolinecolor": "white",
           "zerolinewidth": 2
          }
         }
        },
        "title": {
         "text": "Ohrum Actual vs Forecast Data"
        },
        "xaxis": {
         "tickangle": 45
        },
        "yaxis": {
         "dtick": 5,
         "range": [
          68,
          90
         ]
        }
       }
      }
     },
     "metadata": {},
     "output_type": "display_data"
    }
   ],
   "source": [
    "import plotly.graph_objects as go\n",
    "import numpy as np\n",
    "\n",
    "fig = go.Figure()\n",
    "fig.add_trace(go.Scatter(x=filtered_df[\"timestamp\"], y=filtered_df[\"ohrum_level\"], mode='lines', name='Actual'))\n",
    "fig.add_trace(go.Scatter(x=filtered_df[\"timestamp\"], y=ohrum, mode='lines', name='Forecast'))\n",
    "\n",
    "y_min = np.floor(min(filtered_df[\"ohrum_level\"].min(), schladen.min()))\n",
    "y_max = np.ceil(max(filtered_df[\"ohrum_level\"].max(), fill.max()))\n",
    "\n",
    "fig.update_layout(\n",
    "    title=\"Ohrum Actual vs Forecast Data\",\n",
    "    xaxis=dict(\n",
    "        tickangle=45\n",
    "    ),\n",
    "    yaxis=dict(\n",
    "        range=[y_min - 10, y_max + 10],\n",
    "        dtick=5\n",
    "    ),\n",
    "    legend=dict(\n",
    "        yanchor=\"top\",\n",
    "        y=0.99,\n",
    "        xanchor=\"left\",\n",
    "        x=0.01\n",
    "    )\n",
    ")\n",
    "\n",
    "fig.show()"
   ]
  },
  {
   "cell_type": "code",
   "execution_count": 235,
   "metadata": {},
   "outputs": [
    {
     "data": {
      "text/plain": [
       "array([72.904 , 73.2162, 72.7962, 72.7591, 72.7714, 72.7644, 72.5492,\n",
       "       72.5676, 72.7651, 72.8387])"
      ]
     },
     "execution_count": 235,
     "metadata": {},
     "output_type": "execute_result"
    }
   ],
   "source": [
    "# schaeferbruecke\n",
    "schaeferbruecke_weather = get_forecast(\"schaeferbruecke\")\n",
    "schaeferbruecke = predict_bridge(ohrum, schaeferbruecke_weather)\n",
    "schaeferbruecke"
   ]
  },
  {
   "cell_type": "code",
   "execution_count": 236,
   "metadata": {},
   "outputs": [
    {
     "data": {
      "text/plain": [
       "1084    73.79\n",
       "1085    74.46\n",
       "1086    74.83\n",
       "1087    74.94\n",
       "1088    75.17\n",
       "1089    75.22\n",
       "1090    75.22\n",
       "1091    75.21\n",
       "1092    75.15\n",
       "1093    75.13\n",
       "Name: schaeferbridge, dtype: float64"
      ]
     },
     "execution_count": 236,
     "metadata": {},
     "output_type": "execute_result"
    }
   ],
   "source": [
    "filtered_df = df_bridge[(df_bridge[\"timestamp\"] >= \"2023-12-21\") & (df_bridge[\"timestamp\"] <= \"2023-12-30\")]\n",
    "filtered_df[\"schaeferbridge\"]"
   ]
  },
  {
   "cell_type": "code",
   "execution_count": 237,
   "metadata": {},
   "outputs": [
    {
     "data": {
      "application/vnd.plotly.v1+json": {
       "config": {
        "plotlyServerURL": "https://plot.ly"
       },
       "data": [
        {
         "mode": "lines",
         "name": "Actual",
         "type": "scatter",
         "x": [
          "2023-12-21T00:00:00",
          "2023-12-22T00:00:00",
          "2023-12-23T00:00:00",
          "2023-12-24T00:00:00",
          "2023-12-25T00:00:00",
          "2023-12-26T00:00:00",
          "2023-12-27T00:00:00",
          "2023-12-28T00:00:00",
          "2023-12-29T00:00:00",
          "2023-12-30T00:00:00"
         ],
         "y": [
          73.79,
          74.46,
          74.83,
          74.94,
          75.17,
          75.22,
          75.22,
          75.21,
          75.15,
          75.13
         ]
        },
        {
         "mode": "lines",
         "name": "Forecast",
         "type": "scatter",
         "x": [
          "2023-12-21T00:00:00",
          "2023-12-22T00:00:00",
          "2023-12-23T00:00:00",
          "2023-12-24T00:00:00",
          "2023-12-25T00:00:00",
          "2023-12-26T00:00:00",
          "2023-12-27T00:00:00",
          "2023-12-28T00:00:00",
          "2023-12-29T00:00:00",
          "2023-12-30T00:00:00"
         ],
         "y": [
          72.90400000000001,
          73.2162,
          72.79619999999998,
          72.7591,
          72.77140000000001,
          72.76440000000001,
          72.54920000000007,
          72.56759999999997,
          72.76509999999998,
          72.83869999999999
         ]
        }
       ],
       "layout": {
        "legend": {
         "x": 0.01,
         "xanchor": "left",
         "y": 0.99,
         "yanchor": "top"
        },
        "template": {
         "data": {
          "bar": [
           {
            "error_x": {
             "color": "#2a3f5f"
            },
            "error_y": {
             "color": "#2a3f5f"
            },
            "marker": {
             "line": {
              "color": "#E5ECF6",
              "width": 0.5
             },
             "pattern": {
              "fillmode": "overlay",
              "size": 10,
              "solidity": 0.2
             }
            },
            "type": "bar"
           }
          ],
          "barpolar": [
           {
            "marker": {
             "line": {
              "color": "#E5ECF6",
              "width": 0.5
             },
             "pattern": {
              "fillmode": "overlay",
              "size": 10,
              "solidity": 0.2
             }
            },
            "type": "barpolar"
           }
          ],
          "carpet": [
           {
            "aaxis": {
             "endlinecolor": "#2a3f5f",
             "gridcolor": "white",
             "linecolor": "white",
             "minorgridcolor": "white",
             "startlinecolor": "#2a3f5f"
            },
            "baxis": {
             "endlinecolor": "#2a3f5f",
             "gridcolor": "white",
             "linecolor": "white",
             "minorgridcolor": "white",
             "startlinecolor": "#2a3f5f"
            },
            "type": "carpet"
           }
          ],
          "choropleth": [
           {
            "colorbar": {
             "outlinewidth": 0,
             "ticks": ""
            },
            "type": "choropleth"
           }
          ],
          "contour": [
           {
            "colorbar": {
             "outlinewidth": 0,
             "ticks": ""
            },
            "colorscale": [
             [
              0,
              "#0d0887"
             ],
             [
              0.1111111111111111,
              "#46039f"
             ],
             [
              0.2222222222222222,
              "#7201a8"
             ],
             [
              0.3333333333333333,
              "#9c179e"
             ],
             [
              0.4444444444444444,
              "#bd3786"
             ],
             [
              0.5555555555555556,
              "#d8576b"
             ],
             [
              0.6666666666666666,
              "#ed7953"
             ],
             [
              0.7777777777777778,
              "#fb9f3a"
             ],
             [
              0.8888888888888888,
              "#fdca26"
             ],
             [
              1,
              "#f0f921"
             ]
            ],
            "type": "contour"
           }
          ],
          "contourcarpet": [
           {
            "colorbar": {
             "outlinewidth": 0,
             "ticks": ""
            },
            "type": "contourcarpet"
           }
          ],
          "heatmap": [
           {
            "colorbar": {
             "outlinewidth": 0,
             "ticks": ""
            },
            "colorscale": [
             [
              0,
              "#0d0887"
             ],
             [
              0.1111111111111111,
              "#46039f"
             ],
             [
              0.2222222222222222,
              "#7201a8"
             ],
             [
              0.3333333333333333,
              "#9c179e"
             ],
             [
              0.4444444444444444,
              "#bd3786"
             ],
             [
              0.5555555555555556,
              "#d8576b"
             ],
             [
              0.6666666666666666,
              "#ed7953"
             ],
             [
              0.7777777777777778,
              "#fb9f3a"
             ],
             [
              0.8888888888888888,
              "#fdca26"
             ],
             [
              1,
              "#f0f921"
             ]
            ],
            "type": "heatmap"
           }
          ],
          "heatmapgl": [
           {
            "colorbar": {
             "outlinewidth": 0,
             "ticks": ""
            },
            "colorscale": [
             [
              0,
              "#0d0887"
             ],
             [
              0.1111111111111111,
              "#46039f"
             ],
             [
              0.2222222222222222,
              "#7201a8"
             ],
             [
              0.3333333333333333,
              "#9c179e"
             ],
             [
              0.4444444444444444,
              "#bd3786"
             ],
             [
              0.5555555555555556,
              "#d8576b"
             ],
             [
              0.6666666666666666,
              "#ed7953"
             ],
             [
              0.7777777777777778,
              "#fb9f3a"
             ],
             [
              0.8888888888888888,
              "#fdca26"
             ],
             [
              1,
              "#f0f921"
             ]
            ],
            "type": "heatmapgl"
           }
          ],
          "histogram": [
           {
            "marker": {
             "pattern": {
              "fillmode": "overlay",
              "size": 10,
              "solidity": 0.2
             }
            },
            "type": "histogram"
           }
          ],
          "histogram2d": [
           {
            "colorbar": {
             "outlinewidth": 0,
             "ticks": ""
            },
            "colorscale": [
             [
              0,
              "#0d0887"
             ],
             [
              0.1111111111111111,
              "#46039f"
             ],
             [
              0.2222222222222222,
              "#7201a8"
             ],
             [
              0.3333333333333333,
              "#9c179e"
             ],
             [
              0.4444444444444444,
              "#bd3786"
             ],
             [
              0.5555555555555556,
              "#d8576b"
             ],
             [
              0.6666666666666666,
              "#ed7953"
             ],
             [
              0.7777777777777778,
              "#fb9f3a"
             ],
             [
              0.8888888888888888,
              "#fdca26"
             ],
             [
              1,
              "#f0f921"
             ]
            ],
            "type": "histogram2d"
           }
          ],
          "histogram2dcontour": [
           {
            "colorbar": {
             "outlinewidth": 0,
             "ticks": ""
            },
            "colorscale": [
             [
              0,
              "#0d0887"
             ],
             [
              0.1111111111111111,
              "#46039f"
             ],
             [
              0.2222222222222222,
              "#7201a8"
             ],
             [
              0.3333333333333333,
              "#9c179e"
             ],
             [
              0.4444444444444444,
              "#bd3786"
             ],
             [
              0.5555555555555556,
              "#d8576b"
             ],
             [
              0.6666666666666666,
              "#ed7953"
             ],
             [
              0.7777777777777778,
              "#fb9f3a"
             ],
             [
              0.8888888888888888,
              "#fdca26"
             ],
             [
              1,
              "#f0f921"
             ]
            ],
            "type": "histogram2dcontour"
           }
          ],
          "mesh3d": [
           {
            "colorbar": {
             "outlinewidth": 0,
             "ticks": ""
            },
            "type": "mesh3d"
           }
          ],
          "parcoords": [
           {
            "line": {
             "colorbar": {
              "outlinewidth": 0,
              "ticks": ""
             }
            },
            "type": "parcoords"
           }
          ],
          "pie": [
           {
            "automargin": true,
            "type": "pie"
           }
          ],
          "scatter": [
           {
            "fillpattern": {
             "fillmode": "overlay",
             "size": 10,
             "solidity": 0.2
            },
            "type": "scatter"
           }
          ],
          "scatter3d": [
           {
            "line": {
             "colorbar": {
              "outlinewidth": 0,
              "ticks": ""
             }
            },
            "marker": {
             "colorbar": {
              "outlinewidth": 0,
              "ticks": ""
             }
            },
            "type": "scatter3d"
           }
          ],
          "scattercarpet": [
           {
            "marker": {
             "colorbar": {
              "outlinewidth": 0,
              "ticks": ""
             }
            },
            "type": "scattercarpet"
           }
          ],
          "scattergeo": [
           {
            "marker": {
             "colorbar": {
              "outlinewidth": 0,
              "ticks": ""
             }
            },
            "type": "scattergeo"
           }
          ],
          "scattergl": [
           {
            "marker": {
             "colorbar": {
              "outlinewidth": 0,
              "ticks": ""
             }
            },
            "type": "scattergl"
           }
          ],
          "scattermapbox": [
           {
            "marker": {
             "colorbar": {
              "outlinewidth": 0,
              "ticks": ""
             }
            },
            "type": "scattermapbox"
           }
          ],
          "scatterpolar": [
           {
            "marker": {
             "colorbar": {
              "outlinewidth": 0,
              "ticks": ""
             }
            },
            "type": "scatterpolar"
           }
          ],
          "scatterpolargl": [
           {
            "marker": {
             "colorbar": {
              "outlinewidth": 0,
              "ticks": ""
             }
            },
            "type": "scatterpolargl"
           }
          ],
          "scatterternary": [
           {
            "marker": {
             "colorbar": {
              "outlinewidth": 0,
              "ticks": ""
             }
            },
            "type": "scatterternary"
           }
          ],
          "surface": [
           {
            "colorbar": {
             "outlinewidth": 0,
             "ticks": ""
            },
            "colorscale": [
             [
              0,
              "#0d0887"
             ],
             [
              0.1111111111111111,
              "#46039f"
             ],
             [
              0.2222222222222222,
              "#7201a8"
             ],
             [
              0.3333333333333333,
              "#9c179e"
             ],
             [
              0.4444444444444444,
              "#bd3786"
             ],
             [
              0.5555555555555556,
              "#d8576b"
             ],
             [
              0.6666666666666666,
              "#ed7953"
             ],
             [
              0.7777777777777778,
              "#fb9f3a"
             ],
             [
              0.8888888888888888,
              "#fdca26"
             ],
             [
              1,
              "#f0f921"
             ]
            ],
            "type": "surface"
           }
          ],
          "table": [
           {
            "cells": {
             "fill": {
              "color": "#EBF0F8"
             },
             "line": {
              "color": "white"
             }
            },
            "header": {
             "fill": {
              "color": "#C8D4E3"
             },
             "line": {
              "color": "white"
             }
            },
            "type": "table"
           }
          ]
         },
         "layout": {
          "annotationdefaults": {
           "arrowcolor": "#2a3f5f",
           "arrowhead": 0,
           "arrowwidth": 1
          },
          "autotypenumbers": "strict",
          "coloraxis": {
           "colorbar": {
            "outlinewidth": 0,
            "ticks": ""
           }
          },
          "colorscale": {
           "diverging": [
            [
             0,
             "#8e0152"
            ],
            [
             0.1,
             "#c51b7d"
            ],
            [
             0.2,
             "#de77ae"
            ],
            [
             0.3,
             "#f1b6da"
            ],
            [
             0.4,
             "#fde0ef"
            ],
            [
             0.5,
             "#f7f7f7"
            ],
            [
             0.6,
             "#e6f5d0"
            ],
            [
             0.7,
             "#b8e186"
            ],
            [
             0.8,
             "#7fbc41"
            ],
            [
             0.9,
             "#4d9221"
            ],
            [
             1,
             "#276419"
            ]
           ],
           "sequential": [
            [
             0,
             "#0d0887"
            ],
            [
             0.1111111111111111,
             "#46039f"
            ],
            [
             0.2222222222222222,
             "#7201a8"
            ],
            [
             0.3333333333333333,
             "#9c179e"
            ],
            [
             0.4444444444444444,
             "#bd3786"
            ],
            [
             0.5555555555555556,
             "#d8576b"
            ],
            [
             0.6666666666666666,
             "#ed7953"
            ],
            [
             0.7777777777777778,
             "#fb9f3a"
            ],
            [
             0.8888888888888888,
             "#fdca26"
            ],
            [
             1,
             "#f0f921"
            ]
           ],
           "sequentialminus": [
            [
             0,
             "#0d0887"
            ],
            [
             0.1111111111111111,
             "#46039f"
            ],
            [
             0.2222222222222222,
             "#7201a8"
            ],
            [
             0.3333333333333333,
             "#9c179e"
            ],
            [
             0.4444444444444444,
             "#bd3786"
            ],
            [
             0.5555555555555556,
             "#d8576b"
            ],
            [
             0.6666666666666666,
             "#ed7953"
            ],
            [
             0.7777777777777778,
             "#fb9f3a"
            ],
            [
             0.8888888888888888,
             "#fdca26"
            ],
            [
             1,
             "#f0f921"
            ]
           ]
          },
          "colorway": [
           "#636efa",
           "#EF553B",
           "#00cc96",
           "#ab63fa",
           "#FFA15A",
           "#19d3f3",
           "#FF6692",
           "#B6E880",
           "#FF97FF",
           "#FECB52"
          ],
          "font": {
           "color": "#2a3f5f"
          },
          "geo": {
           "bgcolor": "white",
           "lakecolor": "white",
           "landcolor": "#E5ECF6",
           "showlakes": true,
           "showland": true,
           "subunitcolor": "white"
          },
          "hoverlabel": {
           "align": "left"
          },
          "hovermode": "closest",
          "mapbox": {
           "style": "light"
          },
          "paper_bgcolor": "white",
          "plot_bgcolor": "#E5ECF6",
          "polar": {
           "angularaxis": {
            "gridcolor": "white",
            "linecolor": "white",
            "ticks": ""
           },
           "bgcolor": "#E5ECF6",
           "radialaxis": {
            "gridcolor": "white",
            "linecolor": "white",
            "ticks": ""
           }
          },
          "scene": {
           "xaxis": {
            "backgroundcolor": "#E5ECF6",
            "gridcolor": "white",
            "gridwidth": 2,
            "linecolor": "white",
            "showbackground": true,
            "ticks": "",
            "zerolinecolor": "white"
           },
           "yaxis": {
            "backgroundcolor": "#E5ECF6",
            "gridcolor": "white",
            "gridwidth": 2,
            "linecolor": "white",
            "showbackground": true,
            "ticks": "",
            "zerolinecolor": "white"
           },
           "zaxis": {
            "backgroundcolor": "#E5ECF6",
            "gridcolor": "white",
            "gridwidth": 2,
            "linecolor": "white",
            "showbackground": true,
            "ticks": "",
            "zerolinecolor": "white"
           }
          },
          "shapedefaults": {
           "line": {
            "color": "#2a3f5f"
           }
          },
          "ternary": {
           "aaxis": {
            "gridcolor": "white",
            "linecolor": "white",
            "ticks": ""
           },
           "baxis": {
            "gridcolor": "white",
            "linecolor": "white",
            "ticks": ""
           },
           "bgcolor": "#E5ECF6",
           "caxis": {
            "gridcolor": "white",
            "linecolor": "white",
            "ticks": ""
           }
          },
          "title": {
           "x": 0.05
          },
          "xaxis": {
           "automargin": true,
           "gridcolor": "white",
           "linecolor": "white",
           "ticks": "",
           "title": {
            "standoff": 15
           },
           "zerolinecolor": "white",
           "zerolinewidth": 2
          },
          "yaxis": {
           "automargin": true,
           "gridcolor": "white",
           "linecolor": "white",
           "ticks": "",
           "title": {
            "standoff": 15
           },
           "zerolinecolor": "white",
           "zerolinewidth": 2
          }
         }
        },
        "title": {
         "text": "Bridge Actual vs Forecast Data"
        },
        "xaxis": {
         "tickangle": 45
        },
        "yaxis": {
         "dtick": 5,
         "range": [
          63,
          86
         ]
        }
       }
      }
     },
     "metadata": {},
     "output_type": "display_data"
    }
   ],
   "source": [
    "import plotly.graph_objects as go\n",
    "import numpy as np\n",
    "\n",
    "fig = go.Figure()\n",
    "fig.add_trace(go.Scatter(x=filtered_df[\"timestamp\"], y=filtered_df[\"schaeferbridge\"], mode='lines', name='Actual'))\n",
    "fig.add_trace(go.Scatter(x=filtered_df[\"timestamp\"], y=schaeferbruecke, mode='lines', name='Forecast'))\n",
    "\n",
    "y_min = np.floor(min(filtered_df[\"schaeferbridge\"].min(), schladen.min()))\n",
    "y_max = np.ceil(max(filtered_df[\"schaeferbridge\"].max(), fill.max()))\n",
    "\n",
    "fig.update_layout(\n",
    "    title=\"Bridge Actual vs Forecast Data\",\n",
    "    xaxis=dict(\n",
    "        tickangle=45\n",
    "    ),\n",
    "    yaxis=dict(\n",
    "        range=[y_min - 10, y_max + 10],\n",
    "        dtick=5\n",
    "    ),\n",
    "    legend=dict(\n",
    "        yanchor=\"top\",\n",
    "        y=0.99,\n",
    "        xanchor=\"left\",\n",
    "        x=0.01\n",
    "    )\n",
    ")\n",
    "\n",
    "fig.show()"
   ]
  },
  {
   "cell_type": "code",
   "execution_count": 238,
   "metadata": {},
   "outputs": [
    {
     "name": "stdout",
     "output_type": "stream",
     "text": [
      "[70.6355 70.6657 70.5181 70.5499 70.6475 70.6178 70.7651 70.7441 70.7614\n",
      " 70.7155]\n",
      "[68.8478 68.7218 68.6    68.9646 68.5248 68.904  69.2925 69.2157 68.7884\n",
      " 69.1154]\n"
     ]
    }
   ],
   "source": [
    "eisenbuetteler_wehr_weather = get_forecast(\"eisenbuetteler_wehr\")\n",
    "eisenbuetteler_wehr = predict_eisenbuettel(schaeferbruecke, eisenbuetteler_wehr_weather)\n",
    "\n",
    "# wendenwehr\n",
    "wendenwehr_weather = get_forecast(\"wendenwehr\")\n",
    "wendenwehr = predict_wendenwehr(eisenbuetteler_wehr, wendenwehr_weather)\n",
    "\n",
    "print(eisenbuetteler_wehr)\n",
    "print(wendenwehr)"
   ]
  },
  {
   "cell_type": "code",
   "execution_count": 239,
   "metadata": {},
   "outputs": [
    {
     "data": {
      "text/plain": [
       "1084    70.40\n",
       "1085    70.35\n",
       "1086    70.15\n",
       "1087    70.24\n",
       "1088    70.54\n",
       "1089    71.03\n",
       "1090    71.06\n",
       "1091    71.07\n",
       "1092    70.72\n",
       "1093    70.60\n",
       "Name: eisenbuetteler_wehr, dtype: float64"
      ]
     },
     "execution_count": 239,
     "metadata": {},
     "output_type": "execute_result"
    }
   ],
   "source": [
    "filtered_df = df_eisenbuettel[(df_eisenbuettel[\"timestamp\"] >= \"2023-12-21\") & (df_eisenbuettel[\"timestamp\"] <= \"2023-12-30\")]\n",
    "filtered_df[\"eisenbuetteler_wehr\"]"
   ]
  },
  {
   "cell_type": "code",
   "execution_count": 240,
   "metadata": {},
   "outputs": [
    {
     "data": {
      "application/vnd.plotly.v1+json": {
       "config": {
        "plotlyServerURL": "https://plot.ly"
       },
       "data": [
        {
         "mode": "lines",
         "name": "Actual",
         "type": "scatter",
         "x": [
          "2023-12-21T00:00:00",
          "2023-12-22T00:00:00",
          "2023-12-23T00:00:00",
          "2023-12-24T00:00:00",
          "2023-12-25T00:00:00",
          "2023-12-26T00:00:00",
          "2023-12-27T00:00:00",
          "2023-12-28T00:00:00",
          "2023-12-29T00:00:00",
          "2023-12-30T00:00:00"
         ],
         "y": [
          70.4,
          70.35,
          70.15,
          70.24,
          70.54,
          71.03,
          71.06,
          71.07,
          70.72,
          70.6
         ]
        },
        {
         "mode": "lines",
         "name": "Forecast",
         "type": "scatter",
         "x": [
          "2023-12-21T00:00:00",
          "2023-12-22T00:00:00",
          "2023-12-23T00:00:00",
          "2023-12-24T00:00:00",
          "2023-12-25T00:00:00",
          "2023-12-26T00:00:00",
          "2023-12-27T00:00:00",
          "2023-12-28T00:00:00",
          "2023-12-29T00:00:00",
          "2023-12-30T00:00:00"
         ],
         "y": [
          70.63549999999996,
          70.66570000000003,
          70.51809999999996,
          70.54989999999994,
          70.64749999999997,
          70.6178,
          70.76509999999999,
          70.7441,
          70.76140000000001,
          70.71549999999998
         ]
        }
       ],
       "layout": {
        "legend": {
         "x": 0.01,
         "xanchor": "left",
         "y": 0.99,
         "yanchor": "top"
        },
        "template": {
         "data": {
          "bar": [
           {
            "error_x": {
             "color": "#2a3f5f"
            },
            "error_y": {
             "color": "#2a3f5f"
            },
            "marker": {
             "line": {
              "color": "#E5ECF6",
              "width": 0.5
             },
             "pattern": {
              "fillmode": "overlay",
              "size": 10,
              "solidity": 0.2
             }
            },
            "type": "bar"
           }
          ],
          "barpolar": [
           {
            "marker": {
             "line": {
              "color": "#E5ECF6",
              "width": 0.5
             },
             "pattern": {
              "fillmode": "overlay",
              "size": 10,
              "solidity": 0.2
             }
            },
            "type": "barpolar"
           }
          ],
          "carpet": [
           {
            "aaxis": {
             "endlinecolor": "#2a3f5f",
             "gridcolor": "white",
             "linecolor": "white",
             "minorgridcolor": "white",
             "startlinecolor": "#2a3f5f"
            },
            "baxis": {
             "endlinecolor": "#2a3f5f",
             "gridcolor": "white",
             "linecolor": "white",
             "minorgridcolor": "white",
             "startlinecolor": "#2a3f5f"
            },
            "type": "carpet"
           }
          ],
          "choropleth": [
           {
            "colorbar": {
             "outlinewidth": 0,
             "ticks": ""
            },
            "type": "choropleth"
           }
          ],
          "contour": [
           {
            "colorbar": {
             "outlinewidth": 0,
             "ticks": ""
            },
            "colorscale": [
             [
              0,
              "#0d0887"
             ],
             [
              0.1111111111111111,
              "#46039f"
             ],
             [
              0.2222222222222222,
              "#7201a8"
             ],
             [
              0.3333333333333333,
              "#9c179e"
             ],
             [
              0.4444444444444444,
              "#bd3786"
             ],
             [
              0.5555555555555556,
              "#d8576b"
             ],
             [
              0.6666666666666666,
              "#ed7953"
             ],
             [
              0.7777777777777778,
              "#fb9f3a"
             ],
             [
              0.8888888888888888,
              "#fdca26"
             ],
             [
              1,
              "#f0f921"
             ]
            ],
            "type": "contour"
           }
          ],
          "contourcarpet": [
           {
            "colorbar": {
             "outlinewidth": 0,
             "ticks": ""
            },
            "type": "contourcarpet"
           }
          ],
          "heatmap": [
           {
            "colorbar": {
             "outlinewidth": 0,
             "ticks": ""
            },
            "colorscale": [
             [
              0,
              "#0d0887"
             ],
             [
              0.1111111111111111,
              "#46039f"
             ],
             [
              0.2222222222222222,
              "#7201a8"
             ],
             [
              0.3333333333333333,
              "#9c179e"
             ],
             [
              0.4444444444444444,
              "#bd3786"
             ],
             [
              0.5555555555555556,
              "#d8576b"
             ],
             [
              0.6666666666666666,
              "#ed7953"
             ],
             [
              0.7777777777777778,
              "#fb9f3a"
             ],
             [
              0.8888888888888888,
              "#fdca26"
             ],
             [
              1,
              "#f0f921"
             ]
            ],
            "type": "heatmap"
           }
          ],
          "heatmapgl": [
           {
            "colorbar": {
             "outlinewidth": 0,
             "ticks": ""
            },
            "colorscale": [
             [
              0,
              "#0d0887"
             ],
             [
              0.1111111111111111,
              "#46039f"
             ],
             [
              0.2222222222222222,
              "#7201a8"
             ],
             [
              0.3333333333333333,
              "#9c179e"
             ],
             [
              0.4444444444444444,
              "#bd3786"
             ],
             [
              0.5555555555555556,
              "#d8576b"
             ],
             [
              0.6666666666666666,
              "#ed7953"
             ],
             [
              0.7777777777777778,
              "#fb9f3a"
             ],
             [
              0.8888888888888888,
              "#fdca26"
             ],
             [
              1,
              "#f0f921"
             ]
            ],
            "type": "heatmapgl"
           }
          ],
          "histogram": [
           {
            "marker": {
             "pattern": {
              "fillmode": "overlay",
              "size": 10,
              "solidity": 0.2
             }
            },
            "type": "histogram"
           }
          ],
          "histogram2d": [
           {
            "colorbar": {
             "outlinewidth": 0,
             "ticks": ""
            },
            "colorscale": [
             [
              0,
              "#0d0887"
             ],
             [
              0.1111111111111111,
              "#46039f"
             ],
             [
              0.2222222222222222,
              "#7201a8"
             ],
             [
              0.3333333333333333,
              "#9c179e"
             ],
             [
              0.4444444444444444,
              "#bd3786"
             ],
             [
              0.5555555555555556,
              "#d8576b"
             ],
             [
              0.6666666666666666,
              "#ed7953"
             ],
             [
              0.7777777777777778,
              "#fb9f3a"
             ],
             [
              0.8888888888888888,
              "#fdca26"
             ],
             [
              1,
              "#f0f921"
             ]
            ],
            "type": "histogram2d"
           }
          ],
          "histogram2dcontour": [
           {
            "colorbar": {
             "outlinewidth": 0,
             "ticks": ""
            },
            "colorscale": [
             [
              0,
              "#0d0887"
             ],
             [
              0.1111111111111111,
              "#46039f"
             ],
             [
              0.2222222222222222,
              "#7201a8"
             ],
             [
              0.3333333333333333,
              "#9c179e"
             ],
             [
              0.4444444444444444,
              "#bd3786"
             ],
             [
              0.5555555555555556,
              "#d8576b"
             ],
             [
              0.6666666666666666,
              "#ed7953"
             ],
             [
              0.7777777777777778,
              "#fb9f3a"
             ],
             [
              0.8888888888888888,
              "#fdca26"
             ],
             [
              1,
              "#f0f921"
             ]
            ],
            "type": "histogram2dcontour"
           }
          ],
          "mesh3d": [
           {
            "colorbar": {
             "outlinewidth": 0,
             "ticks": ""
            },
            "type": "mesh3d"
           }
          ],
          "parcoords": [
           {
            "line": {
             "colorbar": {
              "outlinewidth": 0,
              "ticks": ""
             }
            },
            "type": "parcoords"
           }
          ],
          "pie": [
           {
            "automargin": true,
            "type": "pie"
           }
          ],
          "scatter": [
           {
            "fillpattern": {
             "fillmode": "overlay",
             "size": 10,
             "solidity": 0.2
            },
            "type": "scatter"
           }
          ],
          "scatter3d": [
           {
            "line": {
             "colorbar": {
              "outlinewidth": 0,
              "ticks": ""
             }
            },
            "marker": {
             "colorbar": {
              "outlinewidth": 0,
              "ticks": ""
             }
            },
            "type": "scatter3d"
           }
          ],
          "scattercarpet": [
           {
            "marker": {
             "colorbar": {
              "outlinewidth": 0,
              "ticks": ""
             }
            },
            "type": "scattercarpet"
           }
          ],
          "scattergeo": [
           {
            "marker": {
             "colorbar": {
              "outlinewidth": 0,
              "ticks": ""
             }
            },
            "type": "scattergeo"
           }
          ],
          "scattergl": [
           {
            "marker": {
             "colorbar": {
              "outlinewidth": 0,
              "ticks": ""
             }
            },
            "type": "scattergl"
           }
          ],
          "scattermapbox": [
           {
            "marker": {
             "colorbar": {
              "outlinewidth": 0,
              "ticks": ""
             }
            },
            "type": "scattermapbox"
           }
          ],
          "scatterpolar": [
           {
            "marker": {
             "colorbar": {
              "outlinewidth": 0,
              "ticks": ""
             }
            },
            "type": "scatterpolar"
           }
          ],
          "scatterpolargl": [
           {
            "marker": {
             "colorbar": {
              "outlinewidth": 0,
              "ticks": ""
             }
            },
            "type": "scatterpolargl"
           }
          ],
          "scatterternary": [
           {
            "marker": {
             "colorbar": {
              "outlinewidth": 0,
              "ticks": ""
             }
            },
            "type": "scatterternary"
           }
          ],
          "surface": [
           {
            "colorbar": {
             "outlinewidth": 0,
             "ticks": ""
            },
            "colorscale": [
             [
              0,
              "#0d0887"
             ],
             [
              0.1111111111111111,
              "#46039f"
             ],
             [
              0.2222222222222222,
              "#7201a8"
             ],
             [
              0.3333333333333333,
              "#9c179e"
             ],
             [
              0.4444444444444444,
              "#bd3786"
             ],
             [
              0.5555555555555556,
              "#d8576b"
             ],
             [
              0.6666666666666666,
              "#ed7953"
             ],
             [
              0.7777777777777778,
              "#fb9f3a"
             ],
             [
              0.8888888888888888,
              "#fdca26"
             ],
             [
              1,
              "#f0f921"
             ]
            ],
            "type": "surface"
           }
          ],
          "table": [
           {
            "cells": {
             "fill": {
              "color": "#EBF0F8"
             },
             "line": {
              "color": "white"
             }
            },
            "header": {
             "fill": {
              "color": "#C8D4E3"
             },
             "line": {
              "color": "white"
             }
            },
            "type": "table"
           }
          ]
         },
         "layout": {
          "annotationdefaults": {
           "arrowcolor": "#2a3f5f",
           "arrowhead": 0,
           "arrowwidth": 1
          },
          "autotypenumbers": "strict",
          "coloraxis": {
           "colorbar": {
            "outlinewidth": 0,
            "ticks": ""
           }
          },
          "colorscale": {
           "diverging": [
            [
             0,
             "#8e0152"
            ],
            [
             0.1,
             "#c51b7d"
            ],
            [
             0.2,
             "#de77ae"
            ],
            [
             0.3,
             "#f1b6da"
            ],
            [
             0.4,
             "#fde0ef"
            ],
            [
             0.5,
             "#f7f7f7"
            ],
            [
             0.6,
             "#e6f5d0"
            ],
            [
             0.7,
             "#b8e186"
            ],
            [
             0.8,
             "#7fbc41"
            ],
            [
             0.9,
             "#4d9221"
            ],
            [
             1,
             "#276419"
            ]
           ],
           "sequential": [
            [
             0,
             "#0d0887"
            ],
            [
             0.1111111111111111,
             "#46039f"
            ],
            [
             0.2222222222222222,
             "#7201a8"
            ],
            [
             0.3333333333333333,
             "#9c179e"
            ],
            [
             0.4444444444444444,
             "#bd3786"
            ],
            [
             0.5555555555555556,
             "#d8576b"
            ],
            [
             0.6666666666666666,
             "#ed7953"
            ],
            [
             0.7777777777777778,
             "#fb9f3a"
            ],
            [
             0.8888888888888888,
             "#fdca26"
            ],
            [
             1,
             "#f0f921"
            ]
           ],
           "sequentialminus": [
            [
             0,
             "#0d0887"
            ],
            [
             0.1111111111111111,
             "#46039f"
            ],
            [
             0.2222222222222222,
             "#7201a8"
            ],
            [
             0.3333333333333333,
             "#9c179e"
            ],
            [
             0.4444444444444444,
             "#bd3786"
            ],
            [
             0.5555555555555556,
             "#d8576b"
            ],
            [
             0.6666666666666666,
             "#ed7953"
            ],
            [
             0.7777777777777778,
             "#fb9f3a"
            ],
            [
             0.8888888888888888,
             "#fdca26"
            ],
            [
             1,
             "#f0f921"
            ]
           ]
          },
          "colorway": [
           "#636efa",
           "#EF553B",
           "#00cc96",
           "#ab63fa",
           "#FFA15A",
           "#19d3f3",
           "#FF6692",
           "#B6E880",
           "#FF97FF",
           "#FECB52"
          ],
          "font": {
           "color": "#2a3f5f"
          },
          "geo": {
           "bgcolor": "white",
           "lakecolor": "white",
           "landcolor": "#E5ECF6",
           "showlakes": true,
           "showland": true,
           "subunitcolor": "white"
          },
          "hoverlabel": {
           "align": "left"
          },
          "hovermode": "closest",
          "mapbox": {
           "style": "light"
          },
          "paper_bgcolor": "white",
          "plot_bgcolor": "#E5ECF6",
          "polar": {
           "angularaxis": {
            "gridcolor": "white",
            "linecolor": "white",
            "ticks": ""
           },
           "bgcolor": "#E5ECF6",
           "radialaxis": {
            "gridcolor": "white",
            "linecolor": "white",
            "ticks": ""
           }
          },
          "scene": {
           "xaxis": {
            "backgroundcolor": "#E5ECF6",
            "gridcolor": "white",
            "gridwidth": 2,
            "linecolor": "white",
            "showbackground": true,
            "ticks": "",
            "zerolinecolor": "white"
           },
           "yaxis": {
            "backgroundcolor": "#E5ECF6",
            "gridcolor": "white",
            "gridwidth": 2,
            "linecolor": "white",
            "showbackground": true,
            "ticks": "",
            "zerolinecolor": "white"
           },
           "zaxis": {
            "backgroundcolor": "#E5ECF6",
            "gridcolor": "white",
            "gridwidth": 2,
            "linecolor": "white",
            "showbackground": true,
            "ticks": "",
            "zerolinecolor": "white"
           }
          },
          "shapedefaults": {
           "line": {
            "color": "#2a3f5f"
           }
          },
          "ternary": {
           "aaxis": {
            "gridcolor": "white",
            "linecolor": "white",
            "ticks": ""
           },
           "baxis": {
            "gridcolor": "white",
            "linecolor": "white",
            "ticks": ""
           },
           "bgcolor": "#E5ECF6",
           "caxis": {
            "gridcolor": "white",
            "linecolor": "white",
            "ticks": ""
           }
          },
          "title": {
           "x": 0.05
          },
          "xaxis": {
           "automargin": true,
           "gridcolor": "white",
           "linecolor": "white",
           "ticks": "",
           "title": {
            "standoff": 15
           },
           "zerolinecolor": "white",
           "zerolinewidth": 2
          },
          "yaxis": {
           "automargin": true,
           "gridcolor": "white",
           "linecolor": "white",
           "ticks": "",
           "title": {
            "standoff": 15
           },
           "zerolinecolor": "white",
           "zerolinewidth": 2
          }
         }
        },
        "title": {
         "text": "Eisenbuttel Actual vs Forecast Data"
        },
        "xaxis": {
         "tickangle": 45
        },
        "yaxis": {
         "dtick": 5,
         "range": [
          60,
          82
         ]
        }
       }
      }
     },
     "metadata": {},
     "output_type": "display_data"
    }
   ],
   "source": [
    "import plotly.graph_objects as go\n",
    "import numpy as np\n",
    "\n",
    "fig = go.Figure()\n",
    "fig.add_trace(go.Scatter(x=filtered_df[\"timestamp\"], y=filtered_df[\"eisenbuetteler_wehr\"], mode='lines', name='Actual'))\n",
    "fig.add_trace(go.Scatter(x=filtered_df[\"timestamp\"], y=eisenbuetteler_wehr, mode='lines', name='Forecast'))\n",
    "\n",
    "y_min = np.floor(min(filtered_df[\"eisenbuetteler_wehr\"].min(), schladen.min()))\n",
    "y_max = np.ceil(max(filtered_df[\"eisenbuetteler_wehr\"].max(), fill.max()))\n",
    "\n",
    "fig.update_layout(\n",
    "    title=\"Eisenbuttel Actual vs Forecast Data\",\n",
    "    xaxis=dict(\n",
    "        tickangle=45\n",
    "    ),\n",
    "    yaxis=dict(\n",
    "        range=[y_min - 10, y_max + 10],\n",
    "        dtick=5\n",
    "    ),\n",
    "    legend=dict(\n",
    "        yanchor=\"top\",\n",
    "        y=0.99,\n",
    "        xanchor=\"left\",\n",
    "        x=0.01\n",
    "    )\n",
    ")\n",
    "\n",
    "fig.show()"
   ]
  },
  {
   "cell_type": "code",
   "execution_count": 241,
   "metadata": {},
   "outputs": [
    {
     "data": {
      "text/plain": [
       "array([68.8478, 68.7218, 68.6   , 68.9646, 68.5248, 68.904 , 69.2925,\n",
       "       69.2157, 68.7884, 69.1154])"
      ]
     },
     "execution_count": 241,
     "metadata": {},
     "output_type": "execute_result"
    }
   ],
   "source": [
    "forecast()"
   ]
  },
  {
   "cell_type": "code",
   "execution_count": 242,
   "metadata": {},
   "outputs": [
    {
     "data": {
      "text/plain": [
       "1084    69.03\n",
       "1085    68.26\n",
       "1086    68.04\n",
       "1087    69.09\n",
       "1088    68.23\n",
       "1089    68.56\n",
       "1090    68.75\n",
       "1091    68.67\n",
       "1092    68.42\n",
       "1093    68.27\n",
       "Name: wendenwehr, dtype: float64"
      ]
     },
     "execution_count": 242,
     "metadata": {},
     "output_type": "execute_result"
    }
   ],
   "source": [
    "filtered_df = df_wendenwehr[(df_wendenwehr[\"timestamp\"] >= \"2023-12-21\") & (df_wendenwehr[\"timestamp\"] <= \"2023-12-30\")]\n",
    "filtered_df[\"wendenwehr\"]"
   ]
  },
  {
   "cell_type": "code",
   "execution_count": 243,
   "metadata": {},
   "outputs": [
    {
     "data": {
      "application/vnd.plotly.v1+json": {
       "config": {
        "plotlyServerURL": "https://plot.ly"
       },
       "data": [
        {
         "mode": "lines",
         "name": "Actual",
         "type": "scatter",
         "x": [
          "2023-12-21T00:00:00",
          "2023-12-22T00:00:00",
          "2023-12-23T00:00:00",
          "2023-12-24T00:00:00",
          "2023-12-25T00:00:00",
          "2023-12-26T00:00:00",
          "2023-12-27T00:00:00",
          "2023-12-28T00:00:00",
          "2023-12-29T00:00:00",
          "2023-12-30T00:00:00"
         ],
         "y": [
          69.03,
          68.26,
          68.04,
          69.09,
          68.23,
          68.56,
          68.75,
          68.67,
          68.42,
          68.27
         ]
        },
        {
         "mode": "lines",
         "name": "Forecast",
         "type": "scatter",
         "x": [
          "2023-12-21T00:00:00",
          "2023-12-22T00:00:00",
          "2023-12-23T00:00:00",
          "2023-12-24T00:00:00",
          "2023-12-25T00:00:00",
          "2023-12-26T00:00:00",
          "2023-12-27T00:00:00",
          "2023-12-28T00:00:00",
          "2023-12-29T00:00:00",
          "2023-12-30T00:00:00"
         ],
         "y": [
          68.84779999999999,
          68.72180000000007,
          68.59999999999997,
          68.96460000000003,
          68.52479999999997,
          68.90400000000004,
          69.29250000000006,
          69.21570000000006,
          68.78840000000005,
          69.11540000000007
         ]
        }
       ],
       "layout": {
        "legend": {
         "x": 0.01,
         "xanchor": "left",
         "y": 0.99,
         "yanchor": "top"
        },
        "template": {
         "data": {
          "bar": [
           {
            "error_x": {
             "color": "#2a3f5f"
            },
            "error_y": {
             "color": "#2a3f5f"
            },
            "marker": {
             "line": {
              "color": "#E5ECF6",
              "width": 0.5
             },
             "pattern": {
              "fillmode": "overlay",
              "size": 10,
              "solidity": 0.2
             }
            },
            "type": "bar"
           }
          ],
          "barpolar": [
           {
            "marker": {
             "line": {
              "color": "#E5ECF6",
              "width": 0.5
             },
             "pattern": {
              "fillmode": "overlay",
              "size": 10,
              "solidity": 0.2
             }
            },
            "type": "barpolar"
           }
          ],
          "carpet": [
           {
            "aaxis": {
             "endlinecolor": "#2a3f5f",
             "gridcolor": "white",
             "linecolor": "white",
             "minorgridcolor": "white",
             "startlinecolor": "#2a3f5f"
            },
            "baxis": {
             "endlinecolor": "#2a3f5f",
             "gridcolor": "white",
             "linecolor": "white",
             "minorgridcolor": "white",
             "startlinecolor": "#2a3f5f"
            },
            "type": "carpet"
           }
          ],
          "choropleth": [
           {
            "colorbar": {
             "outlinewidth": 0,
             "ticks": ""
            },
            "type": "choropleth"
           }
          ],
          "contour": [
           {
            "colorbar": {
             "outlinewidth": 0,
             "ticks": ""
            },
            "colorscale": [
             [
              0,
              "#0d0887"
             ],
             [
              0.1111111111111111,
              "#46039f"
             ],
             [
              0.2222222222222222,
              "#7201a8"
             ],
             [
              0.3333333333333333,
              "#9c179e"
             ],
             [
              0.4444444444444444,
              "#bd3786"
             ],
             [
              0.5555555555555556,
              "#d8576b"
             ],
             [
              0.6666666666666666,
              "#ed7953"
             ],
             [
              0.7777777777777778,
              "#fb9f3a"
             ],
             [
              0.8888888888888888,
              "#fdca26"
             ],
             [
              1,
              "#f0f921"
             ]
            ],
            "type": "contour"
           }
          ],
          "contourcarpet": [
           {
            "colorbar": {
             "outlinewidth": 0,
             "ticks": ""
            },
            "type": "contourcarpet"
           }
          ],
          "heatmap": [
           {
            "colorbar": {
             "outlinewidth": 0,
             "ticks": ""
            },
            "colorscale": [
             [
              0,
              "#0d0887"
             ],
             [
              0.1111111111111111,
              "#46039f"
             ],
             [
              0.2222222222222222,
              "#7201a8"
             ],
             [
              0.3333333333333333,
              "#9c179e"
             ],
             [
              0.4444444444444444,
              "#bd3786"
             ],
             [
              0.5555555555555556,
              "#d8576b"
             ],
             [
              0.6666666666666666,
              "#ed7953"
             ],
             [
              0.7777777777777778,
              "#fb9f3a"
             ],
             [
              0.8888888888888888,
              "#fdca26"
             ],
             [
              1,
              "#f0f921"
             ]
            ],
            "type": "heatmap"
           }
          ],
          "heatmapgl": [
           {
            "colorbar": {
             "outlinewidth": 0,
             "ticks": ""
            },
            "colorscale": [
             [
              0,
              "#0d0887"
             ],
             [
              0.1111111111111111,
              "#46039f"
             ],
             [
              0.2222222222222222,
              "#7201a8"
             ],
             [
              0.3333333333333333,
              "#9c179e"
             ],
             [
              0.4444444444444444,
              "#bd3786"
             ],
             [
              0.5555555555555556,
              "#d8576b"
             ],
             [
              0.6666666666666666,
              "#ed7953"
             ],
             [
              0.7777777777777778,
              "#fb9f3a"
             ],
             [
              0.8888888888888888,
              "#fdca26"
             ],
             [
              1,
              "#f0f921"
             ]
            ],
            "type": "heatmapgl"
           }
          ],
          "histogram": [
           {
            "marker": {
             "pattern": {
              "fillmode": "overlay",
              "size": 10,
              "solidity": 0.2
             }
            },
            "type": "histogram"
           }
          ],
          "histogram2d": [
           {
            "colorbar": {
             "outlinewidth": 0,
             "ticks": ""
            },
            "colorscale": [
             [
              0,
              "#0d0887"
             ],
             [
              0.1111111111111111,
              "#46039f"
             ],
             [
              0.2222222222222222,
              "#7201a8"
             ],
             [
              0.3333333333333333,
              "#9c179e"
             ],
             [
              0.4444444444444444,
              "#bd3786"
             ],
             [
              0.5555555555555556,
              "#d8576b"
             ],
             [
              0.6666666666666666,
              "#ed7953"
             ],
             [
              0.7777777777777778,
              "#fb9f3a"
             ],
             [
              0.8888888888888888,
              "#fdca26"
             ],
             [
              1,
              "#f0f921"
             ]
            ],
            "type": "histogram2d"
           }
          ],
          "histogram2dcontour": [
           {
            "colorbar": {
             "outlinewidth": 0,
             "ticks": ""
            },
            "colorscale": [
             [
              0,
              "#0d0887"
             ],
             [
              0.1111111111111111,
              "#46039f"
             ],
             [
              0.2222222222222222,
              "#7201a8"
             ],
             [
              0.3333333333333333,
              "#9c179e"
             ],
             [
              0.4444444444444444,
              "#bd3786"
             ],
             [
              0.5555555555555556,
              "#d8576b"
             ],
             [
              0.6666666666666666,
              "#ed7953"
             ],
             [
              0.7777777777777778,
              "#fb9f3a"
             ],
             [
              0.8888888888888888,
              "#fdca26"
             ],
             [
              1,
              "#f0f921"
             ]
            ],
            "type": "histogram2dcontour"
           }
          ],
          "mesh3d": [
           {
            "colorbar": {
             "outlinewidth": 0,
             "ticks": ""
            },
            "type": "mesh3d"
           }
          ],
          "parcoords": [
           {
            "line": {
             "colorbar": {
              "outlinewidth": 0,
              "ticks": ""
             }
            },
            "type": "parcoords"
           }
          ],
          "pie": [
           {
            "automargin": true,
            "type": "pie"
           }
          ],
          "scatter": [
           {
            "fillpattern": {
             "fillmode": "overlay",
             "size": 10,
             "solidity": 0.2
            },
            "type": "scatter"
           }
          ],
          "scatter3d": [
           {
            "line": {
             "colorbar": {
              "outlinewidth": 0,
              "ticks": ""
             }
            },
            "marker": {
             "colorbar": {
              "outlinewidth": 0,
              "ticks": ""
             }
            },
            "type": "scatter3d"
           }
          ],
          "scattercarpet": [
           {
            "marker": {
             "colorbar": {
              "outlinewidth": 0,
              "ticks": ""
             }
            },
            "type": "scattercarpet"
           }
          ],
          "scattergeo": [
           {
            "marker": {
             "colorbar": {
              "outlinewidth": 0,
              "ticks": ""
             }
            },
            "type": "scattergeo"
           }
          ],
          "scattergl": [
           {
            "marker": {
             "colorbar": {
              "outlinewidth": 0,
              "ticks": ""
             }
            },
            "type": "scattergl"
           }
          ],
          "scattermapbox": [
           {
            "marker": {
             "colorbar": {
              "outlinewidth": 0,
              "ticks": ""
             }
            },
            "type": "scattermapbox"
           }
          ],
          "scatterpolar": [
           {
            "marker": {
             "colorbar": {
              "outlinewidth": 0,
              "ticks": ""
             }
            },
            "type": "scatterpolar"
           }
          ],
          "scatterpolargl": [
           {
            "marker": {
             "colorbar": {
              "outlinewidth": 0,
              "ticks": ""
             }
            },
            "type": "scatterpolargl"
           }
          ],
          "scatterternary": [
           {
            "marker": {
             "colorbar": {
              "outlinewidth": 0,
              "ticks": ""
             }
            },
            "type": "scatterternary"
           }
          ],
          "surface": [
           {
            "colorbar": {
             "outlinewidth": 0,
             "ticks": ""
            },
            "colorscale": [
             [
              0,
              "#0d0887"
             ],
             [
              0.1111111111111111,
              "#46039f"
             ],
             [
              0.2222222222222222,
              "#7201a8"
             ],
             [
              0.3333333333333333,
              "#9c179e"
             ],
             [
              0.4444444444444444,
              "#bd3786"
             ],
             [
              0.5555555555555556,
              "#d8576b"
             ],
             [
              0.6666666666666666,
              "#ed7953"
             ],
             [
              0.7777777777777778,
              "#fb9f3a"
             ],
             [
              0.8888888888888888,
              "#fdca26"
             ],
             [
              1,
              "#f0f921"
             ]
            ],
            "type": "surface"
           }
          ],
          "table": [
           {
            "cells": {
             "fill": {
              "color": "#EBF0F8"
             },
             "line": {
              "color": "white"
             }
            },
            "header": {
             "fill": {
              "color": "#C8D4E3"
             },
             "line": {
              "color": "white"
             }
            },
            "type": "table"
           }
          ]
         },
         "layout": {
          "annotationdefaults": {
           "arrowcolor": "#2a3f5f",
           "arrowhead": 0,
           "arrowwidth": 1
          },
          "autotypenumbers": "strict",
          "coloraxis": {
           "colorbar": {
            "outlinewidth": 0,
            "ticks": ""
           }
          },
          "colorscale": {
           "diverging": [
            [
             0,
             "#8e0152"
            ],
            [
             0.1,
             "#c51b7d"
            ],
            [
             0.2,
             "#de77ae"
            ],
            [
             0.3,
             "#f1b6da"
            ],
            [
             0.4,
             "#fde0ef"
            ],
            [
             0.5,
             "#f7f7f7"
            ],
            [
             0.6,
             "#e6f5d0"
            ],
            [
             0.7,
             "#b8e186"
            ],
            [
             0.8,
             "#7fbc41"
            ],
            [
             0.9,
             "#4d9221"
            ],
            [
             1,
             "#276419"
            ]
           ],
           "sequential": [
            [
             0,
             "#0d0887"
            ],
            [
             0.1111111111111111,
             "#46039f"
            ],
            [
             0.2222222222222222,
             "#7201a8"
            ],
            [
             0.3333333333333333,
             "#9c179e"
            ],
            [
             0.4444444444444444,
             "#bd3786"
            ],
            [
             0.5555555555555556,
             "#d8576b"
            ],
            [
             0.6666666666666666,
             "#ed7953"
            ],
            [
             0.7777777777777778,
             "#fb9f3a"
            ],
            [
             0.8888888888888888,
             "#fdca26"
            ],
            [
             1,
             "#f0f921"
            ]
           ],
           "sequentialminus": [
            [
             0,
             "#0d0887"
            ],
            [
             0.1111111111111111,
             "#46039f"
            ],
            [
             0.2222222222222222,
             "#7201a8"
            ],
            [
             0.3333333333333333,
             "#9c179e"
            ],
            [
             0.4444444444444444,
             "#bd3786"
            ],
            [
             0.5555555555555556,
             "#d8576b"
            ],
            [
             0.6666666666666666,
             "#ed7953"
            ],
            [
             0.7777777777777778,
             "#fb9f3a"
            ],
            [
             0.8888888888888888,
             "#fdca26"
            ],
            [
             1,
             "#f0f921"
            ]
           ]
          },
          "colorway": [
           "#636efa",
           "#EF553B",
           "#00cc96",
           "#ab63fa",
           "#FFA15A",
           "#19d3f3",
           "#FF6692",
           "#B6E880",
           "#FF97FF",
           "#FECB52"
          ],
          "font": {
           "color": "#2a3f5f"
          },
          "geo": {
           "bgcolor": "white",
           "lakecolor": "white",
           "landcolor": "#E5ECF6",
           "showlakes": true,
           "showland": true,
           "subunitcolor": "white"
          },
          "hoverlabel": {
           "align": "left"
          },
          "hovermode": "closest",
          "mapbox": {
           "style": "light"
          },
          "paper_bgcolor": "white",
          "plot_bgcolor": "#E5ECF6",
          "polar": {
           "angularaxis": {
            "gridcolor": "white",
            "linecolor": "white",
            "ticks": ""
           },
           "bgcolor": "#E5ECF6",
           "radialaxis": {
            "gridcolor": "white",
            "linecolor": "white",
            "ticks": ""
           }
          },
          "scene": {
           "xaxis": {
            "backgroundcolor": "#E5ECF6",
            "gridcolor": "white",
            "gridwidth": 2,
            "linecolor": "white",
            "showbackground": true,
            "ticks": "",
            "zerolinecolor": "white"
           },
           "yaxis": {
            "backgroundcolor": "#E5ECF6",
            "gridcolor": "white",
            "gridwidth": 2,
            "linecolor": "white",
            "showbackground": true,
            "ticks": "",
            "zerolinecolor": "white"
           },
           "zaxis": {
            "backgroundcolor": "#E5ECF6",
            "gridcolor": "white",
            "gridwidth": 2,
            "linecolor": "white",
            "showbackground": true,
            "ticks": "",
            "zerolinecolor": "white"
           }
          },
          "shapedefaults": {
           "line": {
            "color": "#2a3f5f"
           }
          },
          "ternary": {
           "aaxis": {
            "gridcolor": "white",
            "linecolor": "white",
            "ticks": ""
           },
           "baxis": {
            "gridcolor": "white",
            "linecolor": "white",
            "ticks": ""
           },
           "bgcolor": "#E5ECF6",
           "caxis": {
            "gridcolor": "white",
            "linecolor": "white",
            "ticks": ""
           }
          },
          "title": {
           "x": 0.05
          },
          "xaxis": {
           "automargin": true,
           "gridcolor": "white",
           "linecolor": "white",
           "ticks": "",
           "title": {
            "standoff": 15
           },
           "zerolinecolor": "white",
           "zerolinewidth": 2
          },
          "yaxis": {
           "automargin": true,
           "gridcolor": "white",
           "linecolor": "white",
           "ticks": "",
           "title": {
            "standoff": 15
           },
           "zerolinecolor": "white",
           "zerolinewidth": 2
          }
         }
        },
        "title": {
         "text": "Wendenwehr Actual vs Forecast Data"
        },
        "xaxis": {
         "tickangle": 45
        },
        "yaxis": {
         "dtick": 0.5,
         "range": [
          67.5,
          70.5
         ]
        }
       }
      }
     },
     "metadata": {},
     "output_type": "display_data"
    }
   ],
   "source": [
    "import plotly.graph_objects as go\n",
    "import numpy as np\n",
    "\n",
    "fig = go.Figure()\n",
    "fig.add_trace(go.Scatter(x=filtered_df[\"timestamp\"], y=filtered_df[\"wendenwehr\"], mode='lines', name='Actual'))\n",
    "fig.add_trace(go.Scatter(x=filtered_df[\"timestamp\"], y=wendenwehr, mode='lines', name='Forecast'))\n",
    "\n",
    "y_min = np.floor(min(filtered_df[\"wendenwehr\"].min(), wendenwehr.min()))\n",
    "y_max = np.ceil(max(filtered_df[\"wendenwehr\"].max(), wendenwehr.max()))\n",
    "\n",
    "fig.update_layout(\n",
    "    title=\"Wendenwehr Actual vs Forecast Data\",\n",
    "    xaxis=dict(\n",
    "        tickangle=45\n",
    "    ),\n",
    "    yaxis=dict(\n",
    "        range=[y_min - 0.5, y_max + 0.5],\n",
    "        dtick=0.5\n",
    "    ),\n",
    "    legend=dict(\n",
    "        yanchor=\"top\",\n",
    "        y=0.99,\n",
    "        xanchor=\"left\",\n",
    "        x=0.01\n",
    "    )\n",
    ")\n",
    "\n",
    "fig.show()\n"
   ]
  },
  {
   "cell_type": "code",
   "execution_count": null,
   "metadata": {},
   "outputs": [],
   "source": []
  },
  {
   "cell_type": "code",
   "execution_count": null,
   "metadata": {},
   "outputs": [],
   "source": []
  }
 ],
 "metadata": {
  "kernelspec": {
   "display_name": ".venv",
   "language": "python",
   "name": "python3"
  },
  "language_info": {
   "codemirror_mode": {
    "name": "ipython",
    "version": 3
   },
   "file_extension": ".py",
   "mimetype": "text/x-python",
   "name": "python",
   "nbconvert_exporter": "python",
   "pygments_lexer": "ipython3",
   "version": "3.12.4"
  }
 },
 "nbformat": 4,
 "nbformat_minor": 2
}
